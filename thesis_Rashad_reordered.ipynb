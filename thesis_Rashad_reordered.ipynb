{
 "cells": [
  {
   "cell_type": "code",
   "execution_count": 1,
   "id": "5bb9cf15-2236-435a-ad2c-dbf9a6917d81",
   "metadata": {},
   "outputs": [],
   "source": [
    "import pandas as pd\n",
    "import numpy as np\n",
    "from sklearn.model_selection import train_test_split\n",
    "from sklearn.preprocessing import LabelEncoder, StandardScaler\n",
    "from sklearn.metrics import mean_absolute_error, mean_squared_error, r2_score\n",
    "from xgboost import XGBRegressor\n",
    "import torch\n",
    "import torch.nn as nn\n",
    "import torch.optim as optim\n",
    "from torch.utils.data import DataLoader, TensorDataset\n",
    "import lightgbm as lgb\n",
    "from lightgbm import LGBMRegressor\n",
    "from catboost import CatBoostRegressor\n",
    "import optuna\n",
    "import torch_geometric\n",
    "from torch_geometric.data import Data\n",
    "from torch_geometric.nn import GCNConv, GATConv"
   ]
  },
  {
   "cell_type": "code",
   "execution_count": 2,
   "id": "c16bc0ce-fabf-46a7-961b-d05c28acc96f",
   "metadata": {},
   "outputs": [],
   "source": [
    "train_df = pd.read_csv(\"train_2_pr.csv\")\n",
    "test_df = pd.read_csv(\"test_2.csv\")\n",
    "\n"
   ]
  },
  {
   "cell_type": "code",
   "execution_count": 3,
   "id": "6f47edbd-3b98-4bb1-bfad-f3f8c767cc6b",
   "metadata": {},
   "outputs": [
    {
     "name": "stdout",
     "output_type": "stream",
     "text": [
      "Data Preprocessing Complete!\n",
      "   pick_up_point  drop_off_point  source_country  destination_country  \\\n",
      "0              0               1               0                    1   \n",
      "1              0               1               0                    1   \n",
      "2              0               1               0                    1   \n",
      "3              0               1               0                    1   \n",
      "4              0               1               0                    1   \n",
      "\n",
      "   freight_cost  gross_weight  shipment_charges  shipment_mode  \\\n",
      "0     -0.502717     -0.473210         -0.951330              0   \n",
      "1     -1.077047     -0.670686          0.220913              1   \n",
      "2     -0.966450     -0.674635         -0.951330              0   \n",
      "3      0.626539      0.092360          1.393156              0   \n",
      "4      0.589673      0.831709         -0.951330              0   \n",
      "\n",
      "   shipping_company  selected  send_hour  send_day  send_month  send_year  \n",
      "0                 2         0  -1.202865 -0.678716   -0.113796  -0.498533  \n",
      "1                 0         0   0.385478 -0.246522    0.189147  -0.498533  \n",
      "2                 2         0   0.186935 -1.110911    1.097977  -0.498533  \n",
      "3                 1         0  -0.805780 -0.786765   -1.628513   2.005885  \n",
      "4                 2         0  -1.401408 -0.354570   -0.719683   2.005885  \n"
     ]
    }
   ],
   "source": [
    "# Writing a function to prepreocess the data\n",
    "def preprocess_data(df, is_train=True):\n",
    "    df = df.copy()\n",
    "    \n",
    "    # First I need to convert the timestamps into date time format\n",
    "    df['send_timestamp'] = pd.to_datetime(df['send_timestamp'])\n",
    "    \n",
    "    # Extracting the features from timestamp\n",
    "    df['send_hour'] = df['send_timestamp'].dt.hour\n",
    "    df['send_day'] = df['send_timestamp'].dt.day\n",
    "    df['send_month'] = df['send_timestamp'].dt.month\n",
    "    df['send_year'] = df['send_timestamp'].dt.year\n",
    "    \n",
    "    # Here, I drop the timestamp column as it is redundant\n",
    "    df.drop(columns=['send_timestamp'], inplace=True)\n",
    "    \n",
    "    # Now, I encode the categorical variables\n",
    "    label_encoders = {}\n",
    "    categorical_cols = ['pick_up_point', 'drop_off_point', 'source_country', \n",
    "                        'destination_country', 'shipment_mode', 'shipping_company', 'selected']\n",
    "    \n",
    "    for col in categorical_cols:\n",
    "        le = LabelEncoder()\n",
    "        df[col] = le.fit_transform(df[col])\n",
    "        label_encoders[col] = le\n",
    "    \n",
    "    # Shipment ID is an identifier, so I drop it to prevent confusion\n",
    "    df.drop(columns=['shipment_id', 'Unnamed: 0'], inplace=True)\n",
    "    \n",
    "    # Here, I use Standard Scaler to scale the numerical features\n",
    "    scaler = StandardScaler()\n",
    "    numeric_cols = ['freight_cost', 'gross_weight', 'shipment_charges', 'send_hour', 'send_day', 'send_month', 'send_year']\n",
    "    df[numeric_cols] = scaler.fit_transform(df[numeric_cols])\n",
    "\n",
    "    # Then, I split the feature variables and the target variable (only for the training data)\n",
    "    if is_train:\n",
    "        X = df.drop(columns=['shipping_time'])\n",
    "        y = df['shipping_time']\n",
    "        return X, y, label_encoders, scaler\n",
    "    else:\n",
    "        return df\n",
    "\n",
    "# Preprocessing the training data using the function: preprocess_data\n",
    "X_train, y_train, label_encoders, scaler = preprocess_data(train_df, is_train=True)\n",
    "\n",
    "# Next, I preprocess the test data using the function: preprocess_data\n",
    "X_test = preprocess_data(test_df, is_train=False)\n",
    "\n",
    "# Making sure the test set has the same features as the training set\n",
    "X_test = X_test[X_train.columns]\n",
    "\n",
    "print(\"Data Preprocessing Complete!\")\n",
    "print(X_train.head())\n",
    "\n"
   ]
  },
  {
   "cell_type": "code",
   "execution_count": 4,
   "id": "1341cf6a-a714-4517-9d75-903e4e761bf3",
   "metadata": {},
   "outputs": [],
   "source": [
    "# Group data by 'shipment_mode'\n",
    "# Now, I group the data based on 'shipment mode'\n",
    "shipment_modes = X_train['shipment_mode'].unique()\n",
    "\n"
   ]
  },
  {
   "cell_type": "code",
   "execution_count": 5,
   "id": "4baa5ba9-7aa6-49ac-8920-b0f71f15ae74",
   "metadata": {},
   "outputs": [
    {
     "name": "stderr",
     "output_type": "stream",
     "text": [
      "C:\\Users\\R\\AppData\\Local\\Temp\\ipykernel_1200\\2222500264.py:10: DeprecationWarning: an integer is required (got type numpy.float64).  Implicit conversion to integers using __int__ is deprecated, and may be removed in a future version of Python.\n",
      "  edge_index = torch.tensor(edges, dtype=torch.long).T  # Convert to tensor\n"
     ]
    }
   ],
   "source": [
    "\n",
    "\n",
    "# Convert dataset to tensors\n",
    "X_tensor = torch.tensor(X_train.values, dtype=torch.float32)\n",
    "y_tensor = torch.tensor(y_train.values, dtype=torch.float32)\n",
    "\n",
    "# Define edges (connect shipment points and modes)\n",
    "edges = []  # This should contain relationships (e.g., from pickup to destination)\n",
    "for i in range(len(X_train)):\n",
    "    edges.append([X_train.iloc[i]['pick_up_point'], X_train.iloc[i]['drop_off_point']])\n",
    "\n",
    "edge_index = torch.tensor(edges, dtype=torch.long).T  # Convert to tensor\n",
    "\n",
    "# Create PyTorch Geometric Graph Object\n",
    "data = Data(x=X_tensor, edge_index=edge_index, y=y_tensor)\n"
   ]
  },
  {
   "cell_type": "code",
   "execution_count": 6,
   "id": "8b4cd4fe-200d-47b3-9f11-154d1d0ea20a",
   "metadata": {},
   "outputs": [],
   "source": [
    "import pandas as pd\n",
    "import numpy as np\n",
    "from sklearn.model_selection import train_test_split\n",
    "from sklearn.preprocessing import LabelEncoder, StandardScaler\n",
    "from sklearn.metrics import mean_absolute_error, mean_squared_error, r2_score\n",
    "from xgboost import XGBRegressor\n",
    "import torch\n",
    "import torch.nn as nn\n",
    "import torch.optim as optim\n",
    "from torch.utils.data import DataLoader, TensorDataset\n",
    "import lightgbm as lgb\n",
    "from lightgbm import LGBMRegressor\n",
    "from catboost import CatBoostRegressor\n",
    "import optuna\n",
    "import torch_geometric\n",
    "from torch_geometric.data import Data\n",
    "from torch_geometric.nn import GCNConv, GATConv\n"
   ]
  },
  {
   "cell_type": "code",
   "execution_count": 7,
   "id": "d91c1ad2-70f4-4b1e-aa3b-87024b652ce6",
   "metadata": {},
   "outputs": [
    {
     "name": "stdout",
     "output_type": "stream",
     "text": [
      "Training XGBoost for Shipment Mode: 0\n",
      "Training XGBoost for Shipment Mode: 1\n",
      "Optimized XGBoost Results:\n",
      "        MAE      RMSE  R2 Score  \\\n",
      "0  0.050361  0.063397  0.732266   \n",
      "1  3.742116  4.630676  0.774068   \n",
      "\n",
      "                                         Predictions  \n",
      "0  [5.209595, 5.2602715, 5.1449647, 5.193505, 5.2...  \n",
      "1  [12.771855, 18.290365, 24.098497, 27.00506, 19...  \n"
     ]
    }
   ],
   "source": [
    "# Dictionary to store results\n",
    "xgb_results_by_mode = {}\n",
    "\n",
    "# Train Optimized XGBoost for each shipment mode\n",
    "for mode in shipment_modes:\n",
    "    print(f\"Training XGBoost for Shipment Mode: {mode}\")\n",
    "\n",
    "    # Filter data for the current shipment mode\n",
    "    X_train_mode = X_train[X_train['shipment_mode'] == mode].drop(columns=['shipment_mode'])\n",
    "    y_train_mode = y_train[X_train['shipment_mode'] == mode]\n",
    "    X_test_mode = X_test[X_test['shipment_mode'] == mode].drop(columns=['shipment_mode'], errors='ignore')\n",
    "\n",
    "    # Train XGBoost model\n",
    "    xgb_model = XGBRegressor(objective='reg:squarederror', n_estimators=200, learning_rate=0.05, max_depth=8, random_state=42)\n",
    "    xgb_model.fit(X_train_mode, y_train_mode)\n",
    "\n",
    "    # Predict on test set\n",
    "    y_pred_xgb = xgb_model.predict(X_test_mode)\n",
    "\n",
    "    # Predict on train set for evaluation\n",
    "    y_train_pred_xgb = xgb_model.predict(X_train_mode)\n",
    "\n",
    "    # Evaluate performance\n",
    "    xgb_mae = mean_absolute_error(y_train_mode, y_train_pred_xgb)\n",
    "    xgb_rmse = mean_squared_error(y_train_mode, y_train_pred_xgb) ** 0.5\n",
    "    xgb_r2 = r2_score(y_train_mode, y_train_pred_xgb)\n",
    "\n",
    "    # Store results\n",
    "    xgb_results_by_mode[mode] = {\n",
    "        \"MAE\": xgb_mae,\n",
    "        \"RMSE\": xgb_rmse,\n",
    "        \"R2 Score\": xgb_r2,\n",
    "        \"Predictions\": y_pred_xgb[:10]\n",
    "    }\n",
    "\n",
    "# Convert results to DataFrame and display\n",
    "xgb_results_df = pd.DataFrame(xgb_results_by_mode).T\n",
    "print(\"Optimized XGBoost Results:\")\n",
    "print(xgb_results_df)\n",
    "\n"
   ]
  },
  {
   "cell_type": "code",
   "execution_count": 8,
   "id": "d5812fb8-15c6-4eba-a6e8-b2ddd768e675",
   "metadata": {},
   "outputs": [
    {
     "name": "stdout",
     "output_type": "stream",
     "text": [
      "📋 Model Evaluation Summary:\n",
      "           MAE   RMSE  R² Score\n",
      "XGBoost   4.23   6.87      0.57\n",
      "LightGBM  4.14   6.88      0.57\n",
      "CatBoost  4.32   6.92      0.55\n",
      "GRU       7.21  12.10      0.22\n",
      "GNN       8.49  14.60     -0.94\n"
     ]
    },
    {
     "name": "stderr",
     "output_type": "stream",
     "text": [
      "C:\\Users\\R\\AppData\\Local\\Temp\\ipykernel_1200\\3651211300.py:25: FutureWarning: \n",
      "\n",
      "Passing `palette` without assigning `hue` is deprecated and will be removed in v0.14.0. Assign the `x` variable to `hue` and set `legend=False` for the same effect.\n",
      "\n",
      "  sns.barplot(data=results_df.reset_index(), x='index', y='RMSE', palette='viridis')\n",
      "C:\\Users\\R\\AppData\\Local\\Temp\\ipykernel_1200\\3651211300.py:30: UserWarning: Glyph 128201 (\\N{CHART WITH DOWNWARDS TREND}) missing from current font.\n",
      "  plt.tight_layout()\n",
      "C:\\Users\\R\\anaconda3\\envs\\logistic\\lib\\site-packages\\IPython\\core\\pylabtools.py:152: UserWarning: Glyph 128201 (\\N{CHART WITH DOWNWARDS TREND}) missing from current font.\n",
      "  fig.canvas.print_figure(bytes_io, **kw)\n"
     ]
    },
    {
     "data": {
      "image/png": "[encoded data removed]",
      "text/plain": [
       "<Figure size 1000x500 with 1 Axes>"
      ]
     },
     "metadata": {},
     "output_type": "display_data"
    },
    {
     "name": "stderr",
     "output_type": "stream",
     "text": [
      "C:\\Users\\R\\AppData\\Local\\Temp\\ipykernel_1200\\3651211300.py:44: UserWarning: Glyph 128200 (\\N{CHART WITH UPWARDS TREND}) missing from current font.\n",
      "  plt.tight_layout()\n",
      "C:\\Users\\R\\anaconda3\\envs\\logistic\\lib\\site-packages\\IPython\\core\\pylabtools.py:152: UserWarning: Glyph 128200 (\\N{CHART WITH UPWARDS TREND}) missing from current font.\n",
      "  fig.canvas.print_figure(bytes_io, **kw)\n"
     ]
    },
    {
     "data": {
      "image/png": "[encoded data removed]",
      "text/plain": [
       "<Figure size 1000x500 with 1 Axes>"
      ]
     },
     "metadata": {},
     "output_type": "display_data"
    }
   ],
   "source": [
    "import matplotlib.pyplot as plt\n",
    "import seaborn as sns\n",
    "import pandas as pd\n",
    "\n",
    "# Sample performance dictionary – replace with your actual result dictionaries\n",
    "model_results = {\n",
    "    'XGBoost': {'MAE': 4.23, 'RMSE': 6.87, 'R2': 0.57},\n",
    "    'LightGBM': {'MAE': 4.14, 'RMSE': 6.88, 'R2': 0.57},\n",
    "    'CatBoost': {'MAE': 4.32, 'RMSE': 6.92, 'R2': 0.55},\n",
    "    'GRU': {'MAE': 7.21, 'RMSE': 12.10, 'R2': 0.22},\n",
    "    'GNN': {'MAE': 8.49, 'RMSE': 14.60, 'R2': -0.94}\n",
    "}\n",
    "\n",
    "# Convert to DataFrame\n",
    "results_df = pd.DataFrame(model_results).T\n",
    "results_df.columns = ['MAE', 'RMSE', 'R² Score']\n",
    "results_df = results_df.sort_values(by='RMSE')\n",
    "\n",
    "# 📊 Print the performance table\n",
    "print(\"📋 Model Evaluation Summary:\")\n",
    "print(results_df)\n",
    "\n",
    "# 📊 Plot 1: Barplot of RMSE for all models\n",
    "plt.figure(figsize=(10, 5))\n",
    "sns.barplot(data=results_df.reset_index(), x='index', y='RMSE', palette='viridis')\n",
    "plt.title(\"📉 Root Mean Squared Error (RMSE) Comparison\")\n",
    "plt.xlabel(\"Model\")\n",
    "plt.ylabel(\"RMSE\")\n",
    "plt.xticks(rotation=45)\n",
    "plt.tight_layout()\n",
    "plt.show()\n",
    "\n",
    "# 📊 Plot 2: Lineplot of all metrics\n",
    "results_df.reset_index(inplace=True)\n",
    "results_df = pd.melt(results_df, id_vars='index', var_name='Metric', value_name='Score')\n",
    "\n",
    "plt.figure(figsize=(10, 5))\n",
    "sns.lineplot(data=results_df, x='index', y='Score', hue='Metric', marker='o')\n",
    "plt.title(\"📈 Model Metrics Comparison\")\n",
    "plt.xlabel(\"Model\")\n",
    "plt.ylabel(\"Score\")\n",
    "plt.xticks(rotation=45)\n",
    "plt.legend(title=\"Metric\")\n",
    "plt.tight_layout()\n",
    "plt.show()\n"
   ]
  },
  {
   "cell_type": "code",
   "execution_count": 9,
   "id": "490513e4-88c2-41da-9da2-2180131a8aa1",
   "metadata": {},
   "outputs": [
    {
     "name": "stdout",
     "output_type": "stream",
     "text": [
      "X_train Shape: (4091, 14), y_train Shape: (4091,)\n",
      "X_test Shape: (1023, 14), y_test Shape: (1023,)\n",
      "Training until validation scores don't improve for 50 rounds\n",
      "Early stopping, best iteration is:\n",
      "[55]\tvalid_0's rmse: 6.88394\n",
      "\n",
      "LightGBM Training Completed\n"
     ]
    }
   ],
   "source": [
    "\n",
    "\n",
    "# Preprocess training data\n",
    "X, y, label_encoders, scaler = preprocess_data(train_df, is_train=True)\n",
    "\n",
    "# Split data into training and testing sets\n",
    "X_train, X_test, y_train, y_test = train_test_split(\n",
    "    X, y, test_size=0.2, random_state=42\n",
    ")\n",
    "\n",
    "# Check if the data is split correctly\n",
    "print(f\"X_train Shape: {X_train.shape}, y_train Shape: {y_train.shape}\")\n",
    "print(f\"X_test Shape: {X_test.shape}, y_test Shape: {y_test.shape}\")\n",
    "\n",
    "#  Define LightGBM hyperparameters\n",
    "lgb_params = {\n",
    "    'objective': 'regression',\n",
    "    'metric': 'rmse',\n",
    "    'boosting_type': 'gbdt',\n",
    "    'learning_rate': 0.05,\n",
    "    'max_depth': 8,\n",
    "    'num_leaves': 31,\n",
    "    'min_data_in_leaf': 10,\n",
    "    'feature_fraction': 0.8,\n",
    "    'bagging_fraction': 0.8,\n",
    "    'bagging_freq': 5,\n",
    "    'lambda_l1': 0.1,\n",
    "    'lambda_l2': 0.1,\n",
    "    'verbosity': -1\n",
    "}\n",
    "\n",
    "# Convert Data to LightGBM Dataset Format\n",
    "train_data = lgb.Dataset(X_train, label=y_train)\n",
    "valid_data = lgb.Dataset(X_test, label=y_test, reference=train_data)\n",
    "\n",
    "# Use `callbacks=[lgb.early_stopping(50)]` instead of `early_stopping_rounds=50`\n",
    "lgb_model = lgb.train(\n",
    "    lgb_params,\n",
    "    train_data,\n",
    "    num_boost_round=500,  # Equivalent to `n_estimators`\n",
    "    valid_sets=[valid_data],  # Validation data for early stopping\n",
    "    callbacks=[lgb.early_stopping(50)],  #  Correct way to apply early stopping\n",
    ")\n",
    "\n",
    "print(\"\\nLightGBM Training Completed\")"
   ]
  },
  {
   "cell_type": "code",
   "execution_count": 10,
   "id": "2254e68d-e401-4f8c-87fd-b6ccb19ccaaa",
   "metadata": {},
   "outputs": [
    {
     "name": "stdout",
     "output_type": "stream",
     "text": [
      "Training LightGBM for Shipment Mode: 0\n",
      "Training LightGBM for Shipment Mode: 1\n",
      "LightGBM Results:\n",
      "        MAE      RMSE  R2 Score  \\\n",
      "0  0.079553  0.093871  0.418991   \n",
      "1  5.986132   7.14014  0.454698   \n",
      "\n",
      "                                         Predictions  \n",
      "0  [5.108996535358475, 5.257333821155722, 5.19553...  \n",
      "1  [21.68129855299087, 25.905560794701522, 21.352...  \n"
     ]
    }
   ],
   "source": [
    "\n",
    "\n",
    "# Dictionary to store LightGBM results\n",
    "lgbm_results_by_mode = {}\n",
    "\n",
    "# Train LightGBM for each shipment mode\n",
    "for mode in shipment_modes:\n",
    "    print(f\"Training LightGBM for Shipment Mode: {mode}\")\n",
    "\n",
    "    # Filter data\n",
    "    X_train_mode = X_train[X_train['shipment_mode'] == mode].drop(columns=['shipment_mode'])\n",
    "    y_train_mode = y_train[X_train['shipment_mode'] == mode]\n",
    "    X_test_mode = X_test[X_test['shipment_mode'] == mode].drop(columns=['shipment_mode'], errors='ignore')\n",
    "\n",
    "    # Train LightGBM model\n",
    "    lgbm_model = LGBMRegressor(n_estimators=200, learning_rate=0.05, max_depth=8, random_state=42)\n",
    "    lgbm_model.fit(X_train_mode, y_train_mode)\n",
    "\n",
    "    # Predict on test set\n",
    "    y_pred_lgbm = lgbm_model.predict(X_test_mode)\n",
    "\n",
    "    # Predict on train set for evaluation\n",
    "    y_train_pred_lgbm = lgbm_model.predict(X_train_mode)\n",
    "\n",
    "    # Evaluate performance\n",
    "    lgbm_mae = mean_absolute_error(y_train_mode, y_train_pred_lgbm)\n",
    "    lgbm_rmse = mean_squared_error(y_train_mode, y_train_pred_lgbm) ** 0.5\n",
    "    lgbm_r2 = r2_score(y_train_mode, y_train_pred_lgbm)\n",
    "\n",
    "    # Store results\n",
    "    lgbm_results_by_mode[mode] = {\n",
    "        \"MAE\": lgbm_mae,\n",
    "        \"RMSE\": lgbm_rmse,\n",
    "        \"R2 Score\": lgbm_r2,\n",
    "        \"Predictions\": y_pred_lgbm[:10]\n",
    "    }\n",
    "\n",
    "# Convert results to DataFrame and display\n",
    "lgbm_results_df = pd.DataFrame(lgbm_results_by_mode).T\n",
    "print(\"LightGBM Results:\")\n",
    "print(lgbm_results_df)\n",
    "\n"
   ]
  },
  {
   "cell_type": "code",
   "execution_count": 11,
   "id": "345764ac-dc76-4c3e-833a-1130643b78f9",
   "metadata": {},
   "outputs": [],
   "source": [
    "y_pred_lgbm = lgb_model.predict(X_test)"
   ]
  },
  {
   "cell_type": "code",
   "execution_count": 12,
   "id": "f528806b-6985-4667-927c-371f15ed553a",
   "metadata": {},
   "outputs": [
    {
     "name": "stdout",
     "output_type": "stream",
     "text": [
      "LightGBM Performance: \n",
      "MAE: 4.1422 \n",
      "RMSE: 6.8839 \n",
      "R² Score: 0.5683\n"
     ]
    }
   ],
   "source": [
    "\n",
    "lgbm_mae = mean_absolute_error(y_test, y_pred_lgbm)\n",
    "lgbm_rmse = mean_squared_error(y_test, y_pred_lgbm) ** 0.5\n",
    "lgbm_r2 = r2_score(y_test, y_pred_lgbm)\n",
    "\n",
    "print(f\"LightGBM Performance: \\nMAE: {lgbm_mae:.4f} \\nRMSE: {lgbm_rmse:.4f} \\nR² Score: {lgbm_r2:.4f}\")\n"
   ]
  },
  {
   "cell_type": "code",
   "execution_count": 13,
   "id": "fec8a8f9-0b71-427c-82ce-b819c65e47b5",
   "metadata": {},
   "outputs": [
    {
     "name": "stderr",
     "output_type": "stream",
     "text": [
      "[I 2025-04-04 04:35:25,792] A new study created in memory with name: no-name-3bd16e3e-f1ba-4445-915c-13f25f27e0f1\n",
      "[I 2025-04-04 04:35:25,913] Trial 0 finished with value: 6.792935990149091 and parameters: {'learning_rate': 0.03147190755236076, 'max_depth': 8, 'num_leaves': 68, 'feature_fraction': 0.7625845548695673, 'bagging_fraction': 0.6536839171111848, 'lambda_l1': 0.5362844231980808, 'lambda_l2': 0.14505163315062441}. Best is trial 0 with value: 6.792935990149091.\n"
     ]
    },
    {
     "name": "stdout",
     "output_type": "stream",
     "text": [
      "Training until validation scores don't improve for 50 rounds\n",
      "[50]\tvalid_0's l2: 48.1231\n",
      "[100]\tvalid_0's l2: 46.3798\n",
      "Early stopping, best iteration is:\n",
      "[84]\tvalid_0's l2: 46.144\n",
      "Training until validation scores don't improve for 50 rounds\n",
      "[50]\tvalid_0's l2: 64.053\n",
      "[100]\tvalid_0's l2: 51.0547\n",
      "[150]\tvalid_0's l2: 47.6642\n",
      "[200]\tvalid_0's l2: 46.9963\n",
      "[250]\tvalid_0's l2: 47.2244\n",
      "Early stopping, best iteration is:\n",
      "[207]\tvalid_0's l2: 46.9836\n"
     ]
    },
    {
     "name": "stderr",
     "output_type": "stream",
     "text": [
      "[I 2025-04-04 04:35:26,268] Trial 1 finished with value: 6.854458761661316 and parameters: {'learning_rate': 0.012366329667147851, 'max_depth': 16, 'num_leaves': 72, 'feature_fraction': 0.7322679489533817, 'bagging_fraction': 0.7629983142702543, 'lambda_l1': 0.12036668920567706, 'lambda_l2': 0.14580341931969698}. Best is trial 0 with value: 6.792935990149091.\n"
     ]
    },
    {
     "name": "stdout",
     "output_type": "stream",
     "text": [
      "Training until validation scores don't improve for 50 rounds\n",
      "[50]\tvalid_0's l2: 47.571\n",
      "Early stopping, best iteration is:\n",
      "[42]\tvalid_0's l2: 47.4055\n"
     ]
    },
    {
     "name": "stderr",
     "output_type": "stream",
     "text": [
      "[I 2025-04-04 04:35:26,391] Trial 2 finished with value: 6.885164023137284 and parameters: {'learning_rate': 0.05233975740036604, 'max_depth': 16, 'num_leaves': 56, 'feature_fraction': 0.9477820997405637, 'bagging_fraction': 0.7684873610133806, 'lambda_l1': 0.2400676355764939, 'lambda_l2': 0.19649430744529284}. Best is trial 0 with value: 6.792935990149091.\n",
      "[I 2025-04-04 04:35:26,479] Trial 3 finished with value: 6.7857677214096634 and parameters: {'learning_rate': 0.09105201866707953, 'max_depth': 10, 'num_leaves': 34, 'feature_fraction': 0.8427665509715117, 'bagging_fraction': 0.7228610084612316, 'lambda_l1': 0.7231463376855715, 'lambda_l2': 0.48462628772965943}. Best is trial 3 with value: 6.7857677214096634.\n"
     ]
    },
    {
     "name": "stdout",
     "output_type": "stream",
     "text": [
      "Training until validation scores don't improve for 50 rounds\n",
      "[50]\tvalid_0's l2: 47.0928\n",
      "Early stopping, best iteration is:\n",
      "[31]\tvalid_0's l2: 46.0466\n",
      "Training until validation scores don't improve for 50 rounds\n",
      "[50]\tvalid_0's l2: 47.3553\n",
      "Early stopping, best iteration is:\n",
      "[49]\tvalid_0's l2: 47.2824\n"
     ]
    },
    {
     "name": "stderr",
     "output_type": "stream",
     "text": [
      "[I 2025-04-04 04:35:26,615] Trial 4 finished with value: 6.876220866651733 and parameters: {'learning_rate': 0.05034035065280309, 'max_depth': 14, 'num_leaves': 76, 'feature_fraction': 0.8182474753103531, 'bagging_fraction': 0.7517042237998344, 'lambda_l1': 0.9315472352344566, 'lambda_l2': 0.2532085865653345}. Best is trial 3 with value: 6.7857677214096634.\n"
     ]
    },
    {
     "name": "stdout",
     "output_type": "stream",
     "text": [
      "Training until validation scores don't improve for 50 rounds\n",
      "[50]\tvalid_0's l2: 47.3574\n"
     ]
    },
    {
     "name": "stderr",
     "output_type": "stream",
     "text": [
      "[I 2025-04-04 04:35:26,680] Trial 5 finished with value: 6.83067197855349 and parameters: {'learning_rate': 0.09327971600571262, 'max_depth': 7, 'num_leaves': 95, 'feature_fraction': 0.939809344393657, 'bagging_fraction': 0.9735306456602562, 'lambda_l1': 0.45985623003662, 'lambda_l2': 0.9517817184542986}. Best is trial 3 with value: 6.7857677214096634.\n"
     ]
    },
    {
     "name": "stdout",
     "output_type": "stream",
     "text": [
      "Early stopping, best iteration is:\n",
      "[42]\tvalid_0's l2: 46.6581\n",
      "Training until validation scores don't improve for 50 rounds\n",
      "[50]\tvalid_0's l2: 57.5345\n",
      "[100]\tvalid_0's l2: 47.9444\n",
      "[150]\tvalid_0's l2: 46.4049\n",
      "[200]\tvalid_0's l2: 46.3003\n",
      "Early stopping, best iteration is:\n",
      "[172]\tvalid_0's l2: 46.2762\n"
     ]
    },
    {
     "name": "stderr",
     "output_type": "stream",
     "text": [
      "[I 2025-04-04 04:35:26,881] Trial 6 finished with value: 6.802663292253337 and parameters: {'learning_rate': 0.016748186279202496, 'max_depth': 8, 'num_leaves': 83, 'feature_fraction': 0.794418608589975, 'bagging_fraction': 0.6270871633501761, 'lambda_l1': 0.17438991995901076, 'lambda_l2': 0.6469692474628922}. Best is trial 3 with value: 6.7857677214096634.\n",
      "[I 2025-04-04 04:35:26,957] Trial 7 finished with value: 6.733098941913504 and parameters: {'learning_rate': 0.06594352120999665, 'max_depth': 7, 'num_leaves': 31, 'feature_fraction': 0.8297289531432304, 'bagging_fraction': 0.6611174249860552, 'lambda_l1': 0.6695945341128283, 'lambda_l2': 0.980917206133266}. Best is trial 7 with value: 6.733098941913504.\n"
     ]
    },
    {
     "name": "stdout",
     "output_type": "stream",
     "text": [
      "Training until validation scores don't improve for 50 rounds\n",
      "[50]\tvalid_0's l2: 45.3346\n",
      "[100]\tvalid_0's l2: 46.0017\n",
      "Early stopping, best iteration is:\n",
      "[50]\tvalid_0's l2: 45.3346\n",
      "Training until validation scores don't improve for 50 rounds\n",
      "[50]\tvalid_0's l2: 47.0067\n",
      "Early stopping, best iteration is:\n",
      "[42]\tvalid_0's l2: 46.4733\n"
     ]
    },
    {
     "name": "stderr",
     "output_type": "stream",
     "text": [
      "[I 2025-04-04 04:35:27,071] Trial 8 finished with value: 6.817135551961012 and parameters: {'learning_rate': 0.0682758422119754, 'max_depth': 15, 'num_leaves': 58, 'feature_fraction': 0.7698479991386457, 'bagging_fraction': 0.9518692153087376, 'lambda_l1': 0.7629317338300888, 'lambda_l2': 0.16751624319914749}. Best is trial 7 with value: 6.733098941913504.\n"
     ]
    },
    {
     "name": "stdout",
     "output_type": "stream",
     "text": [
      "Training until validation scores don't improve for 50 rounds"
     ]
    },
    {
     "name": "stderr",
     "output_type": "stream",
     "text": [
      "[I 2025-04-04 04:35:27,224] Trial 9 finished with value: 6.892038999546107 and parameters: {'learning_rate': 0.03437267303854755, 'max_depth': 11, 'num_leaves': 57, 'feature_fraction': 0.9008660435769034, 'bagging_fraction': 0.9785004845654528, 'lambda_l1': 0.07690836686700242, 'lambda_l2': 0.9416719376273687}. Best is trial 7 with value: 6.733098941913504.\n"
     ]
    },
    {
     "name": "stdout",
     "output_type": "stream",
     "text": [
      "\n",
      "[50]\tvalid_0's l2: 48.4571\n",
      "[100]\tvalid_0's l2: 47.8041\n",
      "Early stopping, best iteration is:\n",
      "[70]\tvalid_0's l2: 47.5002\n"
     ]
    },
    {
     "name": "stderr",
     "output_type": "stream",
     "text": [
      "[I 2025-04-04 04:35:27,329] Trial 10 finished with value: 6.780814502880858 and parameters: {'learning_rate': 0.07335076283132454, 'max_depth': 6, 'num_leaves': 25, 'feature_fraction': 0.8812922724044183, 'bagging_fraction': 0.8618647488502357, 'lambda_l1': 0.43545454800474714, 'lambda_l2': 0.7186773703896085}. Best is trial 7 with value: 6.733098941913504.\n",
      "[I 2025-04-04 04:35:27,465] Trial 11 finished with value: 6.798979907265694 and parameters: {'learning_rate': 0.07307357498266104, 'max_depth': 6, 'num_leaves': 20, 'feature_fraction': 0.881877031054913, 'bagging_fraction': 0.8643402799864497, 'lambda_l1': 0.4282640313604766, 'lambda_l2': 0.7432807649540547}. Best is trial 7 with value: 6.733098941913504.\n"
     ]
    },
    {
     "name": "stdout",
     "output_type": "stream",
     "text": [
      "Training until validation scores don't improve for 50 rounds\n",
      "[50]\tvalid_0's l2: 46.1874\n",
      "Early stopping, best iteration is:\n",
      "[39]\tvalid_0's l2: 45.9794\n",
      "Training until validation scores don't improve for 50 rounds\n",
      "[50]\tvalid_0's l2: 46.3067\n",
      "[100]\tvalid_0's l2: 46.7432\n",
      "Early stopping, best iteration is:\n",
      "[66]\tvalid_0's l2: 46.2261\n"
     ]
    },
    {
     "name": "stderr",
     "output_type": "stream",
     "text": [
      "[I 2025-04-04 04:35:27,579] Trial 12 finished with value: 6.764035045279967 and parameters: {'learning_rate': 0.07241407107604982, 'max_depth': 6, 'num_leaves': 39, 'feature_fraction': 0.888970001154508, 'bagging_fraction': 0.8932742109677162, 'lambda_l1': 0.6294051046612307, 'lambda_l2': 0.7778851785263946}. Best is trial 7 with value: 6.733098941913504.\n",
      "[I 2025-04-04 04:35:27,696] Trial 13 finished with value: 6.872006064293785 and parameters: {'learning_rate': 0.06644444725424732, 'max_depth': 9, 'num_leaves': 41, 'feature_fraction': 0.9944133769457705, 'bagging_fraction': 0.8801680625141132, 'lambda_l1': 0.6742953696467484, 'lambda_l2': 0.8394438525108545}. Best is trial 7 with value: 6.733098941913504.\n"
     ]
    },
    {
     "name": "stdout",
     "output_type": "stream",
     "text": [
      "Training until validation scores don't improve for 50 rounds\n",
      "[50]\tvalid_0's l2: 45.8399\n",
      "Early stopping, best iteration is:\n",
      "[48]\tvalid_0's l2: 45.7522\n",
      "Training until validation scores don't improve for 50 rounds\n",
      "[50]\tvalid_0's l2: 47.5242\n",
      "Early stopping, best iteration is:\n",
      "[38]\tvalid_0's l2: 47.2245\n"
     ]
    },
    {
     "name": "stderr",
     "output_type": "stream",
     "text": [
      "[I 2025-04-04 04:35:27,847] Trial 14 finished with value: 6.793893881044051 and parameters: {'learning_rate': 0.08285543781065122, 'max_depth': 13, 'num_leaves': 46, 'feature_fraction': 0.7011885509154201, 'bagging_fraction': 0.6696383927203725, 'lambda_l1': 0.9457887419679425, 'lambda_l2': 0.49248468778572896}. Best is trial 7 with value: 6.733098941913504.\n"
     ]
    },
    {
     "name": "stdout",
     "output_type": "stream",
     "text": [
      "Training until validation scores don't improve for 50 rounds\n",
      "[50]\tvalid_0's l2: 47.0109\n",
      "Early stopping, best iteration is:\n",
      "[27]\tvalid_0's l2: 46.157\n",
      "Training until validation scores don't improve for 50 rounds\n",
      "[50]\tvalid_0's l2: 45.8758\n",
      "[100]\tvalid_0's l2: 45.871\n"
     ]
    },
    {
     "name": "stderr",
     "output_type": "stream",
     "text": [
      "[I 2025-04-04 04:35:27,982] Trial 15 finished with value: 6.759480883956153 and parameters: {'learning_rate': 0.059557314488134595, 'max_depth': 6, 'num_leaves': 31, 'feature_fraction': 0.8426212060963421, 'bagging_fraction': 0.8121949796772359, 'lambda_l1': 0.5913706859444938, 'lambda_l2': 0.9793279491927048}. Best is trial 7 with value: 6.733098941913504.\n",
      "[I 2025-04-04 04:35:28,146] Trial 16 finished with value: 6.787527165100244 and parameters: {'learning_rate': 0.04336554666781233, 'max_depth': 12, 'num_leaves': 30, 'feature_fraction': 0.8273038826062173, 'bagging_fraction': 0.8253013829851692, 'lambda_l1': 0.8446829033875441, 'lambda_l2': 0.9754649938791129}. Best is trial 7 with value: 6.733098941913504.\n"
     ]
    },
    {
     "name": "stdout",
     "output_type": "stream",
     "text": [
      "Early stopping, best iteration is:\n",
      "[83]\tvalid_0's l2: 45.6906\n",
      "Training until validation scores don't improve for 50 rounds\n",
      "[50]\tvalid_0's l2: 46.5223\n",
      "[100]\tvalid_0's l2: 46.6029\n",
      "Early stopping, best iteration is:\n",
      "[75]\tvalid_0's l2: 46.0705\n"
     ]
    },
    {
     "name": "stderr",
     "output_type": "stream",
     "text": [
      "[I 2025-04-04 04:35:28,280] Trial 17 finished with value: 6.772000264452554 and parameters: {'learning_rate': 0.05698010340708824, 'max_depth': 8, 'num_leaves': 47, 'feature_fraction': 0.7996192718521486, 'bagging_fraction': 0.702587157821732, 'lambda_l1': 0.31516996973969713, 'lambda_l2': 0.6275951066917091}. Best is trial 7 with value: 6.733098941913504.\n"
     ]
    },
    {
     "name": "stdout",
     "output_type": "stream",
     "text": [
      "Training until validation scores don't improve for 50 rounds\n",
      "[50]\tvalid_0's l2: 45.9571\n",
      "[100]\tvalid_0's l2: 46.6545\n",
      "Early stopping, best iteration is:\n",
      "[51]\tvalid_0's l2: 45.86\n",
      "Training until validation scores don't improve for 50 rounds\n",
      "[50]\tvalid_0's l2: 46.1126\n",
      "Early stopping, best iteration is:\n",
      "[48]\tvalid_0's l2: 46.0674\n"
     ]
    },
    {
     "name": "stderr",
     "output_type": "stream",
     "text": [
      "[I 2025-04-04 04:35:28,409] Trial 18 finished with value: 6.787295486185952 and parameters: {'learning_rate': 0.05903294785983526, 'max_depth': 10, 'num_leaves': 29, 'feature_fraction': 0.8691201184854219, 'bagging_fraction': 0.6009091821405816, 'lambda_l1': 0.5776053711316995, 'lambda_l2': 0.8728286652846372}. Best is trial 7 with value: 6.733098941913504.\n",
      "[I 2025-04-04 04:35:28,510] Trial 19 finished with value: 6.757254995176363 and parameters: {'learning_rate': 0.08343393170703113, 'max_depth': 7, 'num_leaves': 20, 'feature_fraction': 0.9241183315890269, 'bagging_fraction': 0.8070444690251938, 'lambda_l1': 0.8254527151826383, 'lambda_l2': 0.30776951399040875}. Best is trial 7 with value: 6.733098941913504.\n",
      "[I 2025-04-04 04:35:28,605] Trial 20 finished with value: 6.785429658862785 and parameters: {'learning_rate': 0.08382238542686468, 'max_depth': 9, 'num_leaves': 21, 'feature_fraction': 0.9162321777479571, 'bagging_fraction': 0.7073751623757142, 'lambda_l1': 0.84247471460111, 'lambda_l2': 0.3474685119664461}. Best is trial 7 with value: 6.733098941913504.\n"
     ]
    },
    {
     "name": "stdout",
     "output_type": "stream",
     "text": [
      "Training until validation scores don't improve for 50 rounds\n",
      "[50]\tvalid_0's l2: 46.2138\n",
      "Early stopping, best iteration is:\n",
      "[34]\tvalid_0's l2: 45.6605\n",
      "Training until validation scores don't improve for 50 rounds\n",
      "[50]\tvalid_0's l2: 46.3435\n",
      "Early stopping, best iteration is:\n",
      "[31]\tvalid_0's l2: 46.0421\n",
      "Training until validation scores don't improve for 50 rounds\n"
     ]
    },
    {
     "name": "stderr",
     "output_type": "stream",
     "text": [
      "[I 2025-04-04 04:35:28,707] Trial 21 finished with value: 6.784825262620817 and parameters: {'learning_rate': 0.09942810696386115, 'max_depth': 7, 'num_leaves': 32, 'feature_fraction': 0.8531102103326884, 'bagging_fraction': 0.8198681156578586, 'lambda_l1': 0.8134313974791335, 'lambda_l2': 0.3946871210233048}. Best is trial 7 with value: 6.733098941913504.\n",
      "[I 2025-04-04 04:35:28,788] Trial 22 finished with value: 6.811693384416747 and parameters: {'learning_rate': 0.08211914932217489, 'max_depth': 7, 'num_leaves': 38, 'feature_fraction': 0.9996180194705042, 'bagging_fraction': 0.8003795306455848, 'lambda_l1': 0.6749236257321456, 'lambda_l2': 0.36099502401765987}. Best is trial 7 with value: 6.733098941913504.\n"
     ]
    },
    {
     "name": "stdout",
     "output_type": "stream",
     "text": [
      "[50]\tvalid_0's l2: 46.2975\n",
      "Early stopping, best iteration is:\n",
      "[36]\tvalid_0's l2: 46.0339\n",
      "Training until validation scores don't improve for 50 rounds\n",
      "[50]\tvalid_0's l2: 46.7097\n",
      "Early stopping, best iteration is:\n",
      "[36]\tvalid_0's l2: 46.3992\n",
      "Training until validation scores don't improve for 50 rounds\n",
      "[50]\tvalid_0's l2: 46.155\n",
      "[100]\tvalid_0's l2: 46.5727\n",
      "Early stopping, best iteration is:\n",
      "[57]\tvalid_0's l2: 46.0895\n"
     ]
    },
    {
     "name": "stderr",
     "output_type": "stream",
     "text": [
      "[I 2025-04-04 04:35:28,905] Trial 23 finished with value: 6.788927313871842 and parameters: {'learning_rate': 0.0621112127687664, 'max_depth': 6, 'num_leaves': 48, 'feature_fraction': 0.9498785828211247, 'bagging_fraction': 0.917054349696706, 'lambda_l1': 0.5840240044533549, 'lambda_l2': 0.06658261783927091}. Best is trial 7 with value: 6.733098941913504.\n",
      "[I 2025-04-04 04:35:29,024] Trial 24 finished with value: 6.778558761074838 and parameters: {'learning_rate': 0.04411043603505529, 'max_depth': 9, 'num_leaves': 26, 'feature_fraction': 0.853803257045078, 'bagging_fraction': 0.8227691183355906, 'lambda_l1': 0.9910850046652243, 'lambda_l2': 0.8662066282559717}. Best is trial 7 with value: 6.733098941913504.\n",
      "[I 2025-04-04 04:35:29,133] Trial 25 finished with value: 6.768855888043752 and parameters: {'learning_rate': 0.07849518515442776, 'max_depth': 7, 'num_leaves': 23, 'feature_fraction': 0.9254216620290369, 'bagging_fraction': 0.7681204451309445, 'lambda_l1': 0.7437610433643546, 'lambda_l2': 0.6218393026140382}. Best is trial 7 with value: 6.733098941913504.\n"
     ]
    },
    {
     "name": "stdout",
     "output_type": "stream",
     "text": [
      "Training until validation scores don't improve for 50 rounds\n",
      "[50]\tvalid_0's l2: 46.2415\n",
      "[100]\tvalid_0's l2: 46.4588\n",
      "Early stopping, best iteration is:\n",
      "[72]\tvalid_0's l2: 45.9489\n",
      "Training until validation scores don't improve for 50 rounds\n",
      "[50]\tvalid_0's l2: 46.0871\n",
      "Early stopping, best iteration is:\n",
      "[38]\tvalid_0's l2: 45.8174\n"
     ]
    },
    {
     "name": "stderr",
     "output_type": "stream",
     "text": [
      "[I 2025-04-04 04:35:29,263] Trial 26 finished with value: 6.841435843442343 and parameters: {'learning_rate': 0.09090796679990362, 'max_depth': 8, 'num_leaves': 36, 'feature_fraction': 0.9664825570410407, 'bagging_fraction': 0.841224518509151, 'lambda_l1': 0.3369115022725919, 'lambda_l2': 0.26178244463956696}. Best is trial 7 with value: 6.733098941913504.\n"
     ]
    },
    {
     "name": "stdout",
     "output_type": "stream",
     "text": [
      "Training until validation scores don't improve for 50 rounds\n",
      "[50]\tvalid_0's l2: 47.6437\n",
      "Early stopping, best iteration is:\n",
      "[36]\tvalid_0's l2: 46.8052\n",
      "Training until validation scores don't improve for 50 rounds\n"
     ]
    },
    {
     "name": "stderr",
     "output_type": "stream",
     "text": [
      "[I 2025-04-04 04:35:29,498] Trial 27 finished with value: 6.819259199493694 and parameters: {'learning_rate': 0.06262978518065708, 'max_depth': 10, 'num_leaves': 52, 'feature_fraction': 0.8078470042226926, 'bagging_fraction': 0.7359469027367495, 'lambda_l1': 0.891854097791353, 'lambda_l2': 0.557039378783222}. Best is trial 7 with value: 6.733098941913504.\n"
     ]
    },
    {
     "name": "stdout",
     "output_type": "stream",
     "text": [
      "[50]\tvalid_0's l2: 46.5023\n",
      "[100]\tvalid_0's l2: 47.8538\n",
      "Early stopping, best iteration is:\n",
      "[50]\tvalid_0's l2: 46.5023\n",
      "Training until validation scores don't improve for 50 rounds\n",
      "[50]\tvalid_0's l2: 47.7571\n",
      "[100]\tvalid_0's l2: 45.9761\n",
      "Early stopping, best iteration is:\n",
      "[88]\tvalid_0's l2: 45.8482\n"
     ]
    },
    {
     "name": "stderr",
     "output_type": "stream",
     "text": [
      "[I 2025-04-04 04:35:29,641] Trial 28 finished with value: 6.771126419241071 and parameters: {'learning_rate': 0.033075432655143455, 'max_depth': 7, 'num_leaves': 43, 'feature_fraction': 0.7705367824875223, 'bagging_fraction': 0.7903273294850167, 'lambda_l1': 0.5096356347854745, 'lambda_l2': 0.9992422640159218}. Best is trial 7 with value: 6.733098941913504.\n",
      "[I 2025-04-04 04:35:29,821] Trial 29 finished with value: 6.741734881328353 and parameters: {'learning_rate': 0.02484872210510184, 'max_depth': 6, 'num_leaves': 64, 'feature_fraction': 0.7849557186091287, 'bagging_fraction': 0.6772472121185712, 'lambda_l1': 0.5511557206919494, 'lambda_l2': 0.8020218333771552}. Best is trial 7 with value: 6.733098941913504.\n"
     ]
    },
    {
     "name": "stdout",
     "output_type": "stream",
     "text": [
      "Training until validation scores don't improve for 50 rounds\n",
      "[50]\tvalid_0's l2: 50.5789\n",
      "[100]\tvalid_0's l2: 45.923\n",
      "[150]\tvalid_0's l2: 45.5929\n",
      "[200]\tvalid_0's l2: 45.453\n",
      "[250]\tvalid_0's l2: 45.6466\n",
      "Early stopping, best iteration is:\n",
      "[202]\tvalid_0's l2: 45.451\n",
      "Training until validation scores don't improve for 50 rounds\n"
     ]
    },
    {
     "name": "stderr",
     "output_type": "stream",
     "text": [
      "[I 2025-04-04 04:35:30,006] Trial 30 finished with value: 6.8036447291543105 and parameters: {'learning_rate': 0.01907110617298839, 'max_depth': 8, 'num_leaves': 67, 'feature_fraction': 0.7362630348815102, 'bagging_fraction': 0.671531133324712, 'lambda_l1': 0.5191541955225473, 'lambda_l2': 0.02032852028031945}. Best is trial 7 with value: 6.733098941913504.\n"
     ]
    },
    {
     "name": "stdout",
     "output_type": "stream",
     "text": [
      "[50]\tvalid_0's l2: 54.66\n",
      "[100]\tvalid_0's l2: 47.1087\n",
      "[150]\tvalid_0's l2: 46.3156\n",
      "Early stopping, best iteration is:\n",
      "[133]\tvalid_0's l2: 46.2896\n",
      "Training until validation scores don't improve for 50 rounds\n",
      "[50]\tvalid_0's l2: 51.4484\n"
     ]
    },
    {
     "name": "stderr",
     "output_type": "stream",
     "text": [
      "[I 2025-04-04 04:35:30,182] Trial 31 finished with value: 6.756408098957426 and parameters: {'learning_rate': 0.023666778677640988, 'max_depth': 6, 'num_leaves': 64, 'feature_fraction': 0.8362160779421021, 'bagging_fraction': 0.6363074355010515, 'lambda_l1': 0.6172648852050728, 'lambda_l2': 0.9024242374633598}. Best is trial 7 with value: 6.733098941913504.\n"
     ]
    },
    {
     "name": "stdout",
     "output_type": "stream",
     "text": [
      "[100]\tvalid_0's l2: 46.1927\n",
      "[150]\tvalid_0's l2: 45.7055\n",
      "[200]\tvalid_0's l2: 45.7505\n",
      "Early stopping, best iteration is:\n",
      "[165]\tvalid_0's l2: 45.6491\n",
      "Training until validation scores don't improve for 50 rounds\n",
      "[50]\tvalid_0's l2: 81.096\n",
      "[100]\tvalid_0's l2: 65.1244\n"
     ]
    },
    {
     "name": "stderr",
     "output_type": "stream",
     "text": [
      "[I 2025-04-04 04:35:30,446] Trial 32 finished with value: 6.872867327612654 and parameters: {'learning_rate': 0.005983897628462277, 'max_depth': 7, 'num_leaves': 64, 'feature_fraction': 0.7832961617429613, 'bagging_fraction': 0.6411785375062728, 'lambda_l1': 0.6732323599168426, 'lambda_l2': 0.8028207845568479}. Best is trial 7 with value: 6.733098941913504.\n"
     ]
    },
    {
     "name": "stdout",
     "output_type": "stream",
     "text": [
      "[150]\tvalid_0's l2: 56.2554\n",
      "[200]\tvalid_0's l2: 51.3471\n",
      "[250]\tvalid_0's l2: 48.6605\n",
      "[300]\tvalid_0's l2: 47.2363\n",
      "Did not meet early stopping. Best iteration is:\n",
      "[300]\tvalid_0's l2: 47.2363\n",
      "Training until validation scores don't improve for 50 rounds\n",
      "[50]\tvalid_0's l2: 51.9986\n"
     ]
    },
    {
     "name": "stderr",
     "output_type": "stream",
     "text": [
      "[I 2025-04-04 04:35:30,653] Trial 33 finished with value: 6.7554623582060875 and parameters: {'learning_rate': 0.022671887957087744, 'max_depth': 6, 'num_leaves': 74, 'feature_fraction': 0.7472553605728773, 'bagging_fraction': 0.601140440531924, 'lambda_l1': 0.7833449909942837, 'lambda_l2': 0.9071168061752397}. Best is trial 7 with value: 6.733098941913504.\n"
     ]
    },
    {
     "name": "stdout",
     "output_type": "stream",
     "text": [
      "[100]\tvalid_0's l2: 46.0728\n",
      "[150]\tvalid_0's l2: 45.7151\n",
      "[200]\tvalid_0's l2: 45.7221\n",
      "[250]\tvalid_0's l2: 45.8536\n",
      "Early stopping, best iteration is:\n",
      "[212]\tvalid_0's l2: 45.6363\n",
      "Training until validation scores don't improve for 50 rounds\n",
      "[50]\tvalid_0's l2: 51.1747\n"
     ]
    },
    {
     "name": "stderr",
     "output_type": "stream",
     "text": [
      "[I 2025-04-04 04:35:30,811] Trial 34 finished with value: 6.755178151899603 and parameters: {'learning_rate': 0.023895825718976166, 'max_depth': 6, 'num_leaves': 75, 'feature_fraction': 0.7447583940771793, 'bagging_fraction': 0.6081451558853348, 'lambda_l1': 0.36660587658123944, 'lambda_l2': 0.8984045454686421}. Best is trial 7 with value: 6.733098941913504.\n"
     ]
    },
    {
     "name": "stdout",
     "output_type": "stream",
     "text": [
      "[100]\tvalid_0's l2: 46.0089\n",
      "[150]\tvalid_0's l2: 45.749\n",
      "Early stopping, best iteration is:\n",
      "[121]\tvalid_0's l2: 45.6324\n",
      "Training until validation scores don't improve for 50 rounds\n",
      "[50]\tvalid_0's l2: 49.6944\n",
      "[100]\tvalid_0's l2: 45.9161\n",
      "[150]\tvalid_0's l2: 45.7484\n",
      "Early stopping, best iteration is:\n",
      "[132]\tvalid_0's l2: 45.6385\n"
     ]
    },
    {
     "name": "stderr",
     "output_type": "stream",
     "text": [
      "[I 2025-04-04 04:35:30,959] Trial 35 finished with value: 6.755628641809744 and parameters: {'learning_rate': 0.02676305782996326, 'max_depth': 6, 'num_leaves': 75, 'feature_fraction': 0.7451143956122181, 'bagging_fraction': 0.6003644073579869, 'lambda_l1': 0.36898024940137003, 'lambda_l2': 0.9127453118421351}. Best is trial 7 with value: 6.733098941913504.\n"
     ]
    },
    {
     "name": "stdout",
     "output_type": "stream",
     "text": [
      "Training until validation scores don't improve for 50 rounds\n",
      "[50]\tvalid_0's l2: 70.6257\n",
      "[100]\tvalid_0's l2: 55.2137\n",
      "[150]\tvalid_0's l2: 49.3485\n",
      "[200]\tvalid_0's l2: 47.2498\n"
     ]
    },
    {
     "name": "stderr",
     "output_type": "stream",
     "text": [
      "[I 2025-04-04 04:35:31,303] Trial 36 finished with value: 6.814328194252732 and parameters: {'learning_rate': 0.009417675317333417, 'max_depth': 8, 'num_leaves': 81, 'feature_fraction': 0.7111096547606965, 'bagging_fraction': 0.6730280037299027, 'lambda_l1': 0.003113397372870086, 'lambda_l2': 0.6992501987706612}. Best is trial 7 with value: 6.733098941913504.\n"
     ]
    },
    {
     "name": "stdout",
     "output_type": "stream",
     "text": [
      "[250]\tvalid_0's l2: 46.5476\n",
      "[300]\tvalid_0's l2: 46.4594\n",
      "Did not meet early stopping. Best iteration is:\n",
      "[287]\tvalid_0's l2: 46.4351\n",
      "Training until validation scores don't improve for 50 rounds\n",
      "[50]\tvalid_0's l2: 46.6316\n",
      "[100]\tvalid_0's l2: 45.6812\n"
     ]
    },
    {
     "name": "stderr",
     "output_type": "stream",
     "text": [
      "[I 2025-04-04 04:35:31,442] Trial 37 finished with value: 6.7525830937538895 and parameters: {'learning_rate': 0.040209814572229594, 'max_depth': 6, 'num_leaves': 90, 'feature_fraction': 0.7479832787147646, 'bagging_fraction': 0.6233948023168513, 'lambda_l1': 0.26723569670920966, 'lambda_l2': 0.8173260491951818}. Best is trial 7 with value: 6.733098941913504.\n",
      "[I 2025-04-04 04:35:31,588] Trial 38 finished with value: 6.782483067606201 and parameters: {'learning_rate': 0.03907020536502514, 'max_depth': 7, 'num_leaves': 95, 'feature_fraction': 0.7206031353984046, 'bagging_fraction': 0.6974583906698437, 'lambda_l1': 0.25913792105071676, 'lambda_l2': 0.8022981148731881}. Best is trial 7 with value: 6.733098941913504.\n"
     ]
    },
    {
     "name": "stdout",
     "output_type": "stream",
     "text": [
      "Early stopping, best iteration is:\n",
      "[97]\tvalid_0's l2: 45.5974\n",
      "Training until validation scores don't improve for 50 rounds\n",
      "[50]\tvalid_0's l2: 46.9475\n",
      "[100]\tvalid_0's l2: 46.2788\n",
      "Early stopping, best iteration is:\n",
      "[80]\tvalid_0's l2: 46.0021\n"
     ]
    },
    {
     "name": "stderr",
     "output_type": "stream",
     "text": [
      "[I 2025-04-04 04:35:31,764] Trial 39 finished with value: 6.8064704401982 and parameters: {'learning_rate': 0.02835653494063339, 'max_depth': 9, 'num_leaves': 100, 'feature_fraction': 0.7558368084168231, 'bagging_fraction': 0.6215789478227226, 'lambda_l1': 0.4014881037931921, 'lambda_l2': 0.8349090307308669}. Best is trial 7 with value: 6.733098941913504.\n"
     ]
    },
    {
     "name": "stdout",
     "output_type": "stream",
     "text": [
      "Training until validation scores don't improve for 50 rounds\n",
      "[50]\tvalid_0's l2: 49.1276\n",
      "[100]\tvalid_0's l2: 46.3826\n",
      "Early stopping, best iteration is:\n",
      "[98]\tvalid_0's l2: 46.328\n",
      "Training until validation scores don't improve for 50 rounds\n"
     ]
    },
    {
     "name": "stderr",
     "output_type": "stream",
     "text": [
      "[I 2025-04-04 04:35:31,952] Trial 40 finished with value: 6.8574407243715685 and parameters: {'learning_rate': 0.04904701239499239, 'max_depth': 16, 'num_leaves': 84, 'feature_fraction': 0.7800753166308741, 'bagging_fraction': 0.6562088461652105, 'lambda_l1': 0.17729801366361586, 'lambda_l2': 0.7585660589113563}. Best is trial 7 with value: 6.733098941913504.\n"
     ]
    },
    {
     "name": "stdout",
     "output_type": "stream",
     "text": [
      "[50]\tvalid_0's l2: 47.0597\n",
      "Early stopping, best iteration is:\n",
      "[49]\tvalid_0's l2: 47.0245\n",
      "Training until validation scores don't improve for 50 rounds\n",
      "[50]\tvalid_0's l2: 56.9775\n",
      "[100]\tvalid_0's l2: 47.4995\n"
     ]
    },
    {
     "name": "stderr",
     "output_type": "stream",
     "text": [
      "[I 2025-04-04 04:35:32,154] Trial 41 finished with value: 6.753214502974958 and parameters: {'learning_rate': 0.017284328004452475, 'max_depth': 6, 'num_leaves': 88, 'feature_fraction': 0.7443389866623252, 'bagging_fraction': 0.6181924448595683, 'lambda_l1': 0.4955665785374003, 'lambda_l2': 0.9232515932448578}. Best is trial 7 with value: 6.733098941913504.\n"
     ]
    },
    {
     "name": "stdout",
     "output_type": "stream",
     "text": [
      "[150]\tvalid_0's l2: 45.8768\n",
      "[200]\tvalid_0's l2: 45.6177\n",
      "[250]\tvalid_0's l2: 45.8001\n",
      "Early stopping, best iteration is:\n",
      "[207]\tvalid_0's l2: 45.6059\n",
      "Training until validation scores don't improve for 50 rounds\n",
      "[50]\tvalid_0's l2: 58.997\n",
      "[100]\tvalid_0's l2: 48.1654\n",
      "[150]\tvalid_0's l2: 46.055\n"
     ]
    },
    {
     "name": "stderr",
     "output_type": "stream",
     "text": [
      "[I 2025-04-04 04:35:32,340] Trial 42 finished with value: 6.760859967606261 and parameters: {'learning_rate': 0.015677735207549413, 'max_depth': 6, 'num_leaves': 88, 'feature_fraction': 0.7235923293140697, 'bagging_fraction': 0.6218460830668909, 'lambda_l1': 0.28784567570937414, 'lambda_l2': 0.9351786748300402}. Best is trial 7 with value: 6.733098941913504.\n",
      "[I 2025-04-04 04:35:32,477] Trial 43 finished with value: 6.767279149808982 and parameters: {'learning_rate': 0.03625251495448381, 'max_depth': 7, 'num_leaves': 90, 'feature_fraction': 0.7598587103297371, 'bagging_fraction': 0.6571301845140659, 'lambda_l1': 0.4796723975139938, 'lambda_l2': 0.6932786077791391}. Best is trial 7 with value: 6.733098941913504.\n"
     ]
    },
    {
     "name": "stdout",
     "output_type": "stream",
     "text": [
      "[200]\tvalid_0's l2: 45.7255\n",
      "[250]\tvalid_0's l2: 45.822\n",
      "Early stopping, best iteration is:\n",
      "[202]\tvalid_0's l2: 45.7092\n",
      "Training until validation scores don't improve for 50 rounds\n",
      "[50]\tvalid_0's l2: 47.1091\n",
      "[100]\tvalid_0's l2: 45.9771\n",
      "Early stopping, best iteration is:\n",
      "[80]\tvalid_0's l2: 45.7961\n"
     ]
    },
    {
     "name": "stderr",
     "output_type": "stream",
     "text": [
      "[I 2025-04-04 04:35:32,667] Trial 44 finished with value: 6.769459698726152 and parameters: {'learning_rate': 0.013235020915665715, 'max_depth': 6, 'num_leaves': 80, 'feature_fraction': 0.8128878551882174, 'bagging_fraction': 0.6871611643266667, 'lambda_l1': 0.20187898315635372, 'lambda_l2': 0.8476567168299071}. Best is trial 7 with value: 6.733098941913504.\n"
     ]
    },
    {
     "name": "stdout",
     "output_type": "stream",
     "text": [
      "Training until validation scores don't improve for 50 rounds\n",
      "[50]\tvalid_0's l2: 62.9131\n",
      "[100]\tvalid_0's l2: 50.0734\n",
      "[150]\tvalid_0's l2: 46.7034\n",
      "[200]\tvalid_0's l2: 45.9289\n",
      "[250]\tvalid_0's l2: 45.8673\n",
      "[300]\tvalid_0's l2: 45.9753\n",
      "Did not meet early stopping. Best iteration is:\n",
      "[260]\tvalid_0's l2: 45.8256\n"
     ]
    },
    {
     "name": "stderr",
     "output_type": "stream",
     "text": [
      "[I 2025-04-04 04:35:32,852] Trial 45 finished with value: 6.789612143870676 and parameters: {'learning_rate': 0.020730146968013737, 'max_depth': 8, 'num_leaves': 72, 'feature_fraction': 0.7325603358320484, 'bagging_fraction': 0.7269035813092084, 'lambda_l1': 0.5409239524208671, 'lambda_l2': 0.9388839478963559}. Best is trial 7 with value: 6.733098941913504.\n"
     ]
    },
    {
     "name": "stdout",
     "output_type": "stream",
     "text": [
      "Training until validation scores don't improve for 50 rounds\n",
      "[50]\tvalid_0's l2: 53.2994\n",
      "[100]\tvalid_0's l2: 46.6641\n",
      "[150]\tvalid_0's l2: 46.1626\n",
      "Early stopping, best iteration is:\n",
      "[133]\tvalid_0's l2: 46.0988\n",
      "Training until validation scores don't improve for 50 rounds\n",
      "[50]\tvalid_0's l2: 50.5498\n"
     ]
    },
    {
     "name": "stderr",
     "output_type": "stream",
     "text": [
      "[I 2025-04-04 04:35:33,014] Trial 46 finished with value: 6.7596903478175525 and parameters: {'learning_rate': 0.025122810933237698, 'max_depth': 6, 'num_leaves': 88, 'feature_fraction': 0.7878675668171202, 'bagging_fraction': 0.647636902511754, 'lambda_l1': 0.11192960728366064, 'lambda_l2': 0.7951293481533535}. Best is trial 7 with value: 6.733098941913504.\n"
     ]
    },
    {
     "name": "stdout",
     "output_type": "stream",
     "text": [
      "[100]\tvalid_0's l2: 45.9722\n",
      "[150]\tvalid_0's l2: 45.7354\n",
      "[200]\tvalid_0's l2: 45.8871\n",
      "Early stopping, best iteration is:\n",
      "[173]\tvalid_0's l2: 45.6934\n",
      "Training until validation scores don't improve for 50 rounds\n",
      "[50]\tvalid_0's l2: 48.4178\n",
      "[100]\tvalid_0's l2: 45.8586\n",
      "[150]\tvalid_0's l2: 46.0196\n",
      "Early stopping, best iteration is:\n",
      "[118]\tvalid_0's l2: 45.7596\n"
     ]
    },
    {
     "name": "stderr",
     "output_type": "stream",
     "text": [
      "[I 2025-04-04 04:35:33,158] Trial 47 finished with value: 6.764580970109705 and parameters: {'learning_rate': 0.029732713246937686, 'max_depth': 7, 'num_leaves': 94, 'feature_fraction': 0.76180822228918, 'bagging_fraction': 0.6177299603136692, 'lambda_l1': 0.3776771467206106, 'lambda_l2': 0.886467748468126}. Best is trial 7 with value: 6.733098941913504.\n",
      "[I 2025-04-04 04:35:33,320] Trial 48 finished with value: 6.850682951940216 and parameters: {'learning_rate': 0.04057430991387961, 'max_depth': 12, 'num_leaves': 69, 'feature_fraction': 0.7744326210706628, 'bagging_fraction': 0.632097749714726, 'lambda_l1': 0.42591273400492813, 'lambda_l2': 0.9963381534262512}. Best is trial 7 with value: 6.733098941913504.\n"
     ]
    },
    {
     "name": "stdout",
     "output_type": "stream",
     "text": [
      "Training until validation scores don't improve for 50 rounds\n",
      "[50]\tvalid_0's l2: 47.2478\n",
      "[100]\tvalid_0's l2: 47.5837\n",
      "Early stopping, best iteration is:\n",
      "[63]\tvalid_0's l2: 46.9319\n",
      "Training until validation scores don't improve for 50 rounds\n",
      "[50]\tvalid_0's l2: 45.9605\n",
      "[100]\tvalid_0's l2: 45.7051\n"
     ]
    },
    {
     "name": "stderr",
     "output_type": "stream",
     "text": [
      "[I 2025-04-04 04:35:33,430] Trial 49 finished with value: 6.747299348745821 and parameters: {'learning_rate': 0.048741951120520634, 'max_depth': 6, 'num_leaves': 78, 'feature_fraction': 0.802754087524976, 'bagging_fraction': 0.747972545925028, 'lambda_l1': 0.45950760304858423, 'lambda_l2': 0.9533890653015488}. Best is trial 7 with value: 6.733098941913504.\n"
     ]
    },
    {
     "name": "stdout",
     "output_type": "stream",
     "text": [
      "Early stopping, best iteration is:\n",
      "[73]\tvalid_0's l2: 45.526\n",
      "🔥 Best Parameters Found:\n",
      "{'learning_rate': 0.06594352120999665, 'max_depth': 7, 'num_leaves': 31, 'feature_fraction': 0.8297289531432304, 'bagging_fraction': 0.6611174249860552, 'lambda_l1': 0.6695945341128283, 'lambda_l2': 0.980917206133266}\n"
     ]
    }
   ],
   "source": [
    "\n",
    "\n",
    "# Define the objective function for Optuna\n",
    "def objective(trial):\n",
    "    params = {\n",
    "        'learning_rate': trial.suggest_float('learning_rate', 0.005, 0.1),\n",
    "        'max_depth': trial.suggest_int('max_depth', 6, 16),\n",
    "        'num_leaves': trial.suggest_int('num_leaves', 20, 100),\n",
    "        'feature_fraction': trial.suggest_float('feature_fraction', 0.7, 1.0),\n",
    "        'bagging_fraction': trial.suggest_float('bagging_fraction', 0.6, 1.0),\n",
    "        'lambda_l1': trial.suggest_float('lambda_l1', 0.0, 1.0),\n",
    "        'lambda_l2': trial.suggest_float('lambda_l2', 0.0, 1.0),\n",
    "        'n_estimators': 300,  # Keeping fixed\n",
    "        'random_state': 42\n",
    "    }\n",
    "\n",
    "    # Train LightGBM model\n",
    "    lgb_model = LGBMRegressor(**params)\n",
    "    lgb_model.fit(\n",
    "        X_train, y_train,\n",
    "        eval_set=[(X_test, y_test)],\n",
    "        callbacks=[\n",
    "            lgb.early_stopping(50),  # ✅ Correct early stopping\n",
    "            lgb.log_evaluation(50)   # ✅ Fix: Use `log_evaluation()` instead of `verbose`\n",
    "        ]\n",
    "    )\n",
    "\n",
    "    # Predict on the test set\n",
    "    y_pred = lgb_model.predict(X_test)\n",
    "    return mean_squared_error(y_test, y_pred) ** 0.5  # Return RMSE\n",
    "\n",
    "# Run Optuna optimization\n",
    "study = optuna.create_study(direction=\"minimize\")\n",
    "study.optimize(objective, n_trials=50)\n",
    "\n",
    "# Display best parameters\n",
    "print(\"🔥 Best Parameters Found:\")\n",
    "print(study.best_params)\n"
   ]
  },
  {
   "cell_type": "code",
   "execution_count": 14,
   "id": "928f9c64-7c5d-46ff-a353-e663d0877902",
   "metadata": {},
   "outputs": [
    {
     "name": "stdout",
     "output_type": "stream",
     "text": [
      "Training CatBoost for Shipment Mode: 0\n",
      "Training CatBoost for Shipment Mode: 1\n",
      "CatBoost Results:\n",
      "        MAE      RMSE  R2 Score  \\\n",
      "0  0.084818  0.099172  0.351516   \n",
      "1  6.407238   7.61806  0.379256   \n",
      "\n",
      "                                         Predictions  \n",
      "0  [5.139936693333889, 5.231611806921118, 5.24510...  \n",
      "1  [18.840295746303937, 24.8982681742756, 22.6093...  \n"
     ]
    }
   ],
   "source": [
    "# Dictionary to store CatBoost results\n",
    "catboost_results_by_mode = {}\n",
    "\n",
    "# Train CatBoost for each shipment mode\n",
    "for mode in shipment_modes:\n",
    "    print(f\"Training CatBoost for Shipment Mode: {mode}\")\n",
    "\n",
    "    # Filter data\n",
    "    X_train_mode = X_train[X_train['shipment_mode'] == mode].drop(columns=['shipment_mode'])\n",
    "    y_train_mode = y_train[X_train['shipment_mode'] == mode]\n",
    "    X_test_mode = X_test[X_test['shipment_mode'] == mode].drop(columns=['shipment_mode'], errors='ignore')\n",
    "\n",
    "    # Train CatBoost model\n",
    "    catboost_model = CatBoostRegressor(n_estimators=200, learning_rate=0.05, depth=8, random_state=42, verbose=0)\n",
    "    catboost_model.fit(X_train_mode, y_train_mode)\n",
    "\n",
    "    # Predict on test set\n",
    "    y_pred_catboost = catboost_model.predict(X_test_mode)\n",
    "\n",
    "    # Predict on train set for evaluation\n",
    "    y_train_pred_catboost = catboost_model.predict(X_train_mode)\n",
    "\n",
    "    # Evaluate performance\n",
    "    catboost_mae = mean_absolute_error(y_train_mode, y_train_pred_catboost)\n",
    "    catboost_rmse = mean_squared_error(y_train_mode, y_train_pred_catboost) ** 0.5\n",
    "    catboost_r2 = r2_score(y_train_mode, y_train_pred_catboost)\n",
    "\n",
    "    # Store results\n",
    "    catboost_results_by_mode[mode] = {\n",
    "        \"MAE\": catboost_mae,\n",
    "        \"RMSE\": catboost_rmse,\n",
    "        \"R2 Score\": catboost_r2,\n",
    "        \"Predictions\": y_pred_catboost[:10]\n",
    "    }\n",
    "\n",
    "# Convert results to DataFrame and display\n",
    "catboost_results_df = pd.DataFrame(catboost_results_by_mode).T\n",
    "print(\"CatBoost Results:\")\n",
    "print(catboost_results_df)\n"
   ]
  },
  {
   "cell_type": "code",
   "execution_count": 15,
   "id": "5948d1b1-1d31-4c88-a40e-a386006927e0",
   "metadata": {},
   "outputs": [
    {
     "name": "stderr",
     "output_type": "stream",
     "text": [
      "[I 2025-04-04 04:35:35,525] A new study created in memory with name: no-name-ac65e140-ca25-465f-a275-7ab2e0cc030f\n",
      "[I 2025-04-04 04:35:36,382] Trial 0 finished with value: 6.822197889129178 and parameters: {'learning_rate': 0.09604199796750267, 'depth': 9, 'l2_leaf_reg': 3.977107063640438, 'random_strength': 1.5264804088685238, 'bagging_temperature': 0.17596832917701022}. Best is trial 0 with value: 6.822197889129178.\n",
      "[I 2025-04-04 04:35:37,014] Trial 1 finished with value: 6.759324450468445 and parameters: {'learning_rate': 0.027673748796792078, 'depth': 5, 'l2_leaf_reg': 9.677833431101977, 'random_strength': 0.8751746205945454, 'bagging_temperature': 0.5047841228405594}. Best is trial 1 with value: 6.759324450468445.\n",
      "[I 2025-04-04 04:35:38,843] Trial 2 finished with value: 6.798364255154266 and parameters: {'learning_rate': 0.016517575871532072, 'depth': 9, 'l2_leaf_reg': 7.372319600434497, 'random_strength': 1.3247503184095233, 'bagging_temperature': 0.08191066698874205}. Best is trial 1 with value: 6.759324450468445.\n",
      "[I 2025-04-04 04:35:39,707] Trial 3 finished with value: 6.802599669282399 and parameters: {'learning_rate': 0.00915791398840413, 'depth': 6, 'l2_leaf_reg': 9.876201114685077, 'random_strength': 1.4208054035195488, 'bagging_temperature': 0.6097117698491377}. Best is trial 1 with value: 6.759324450468445.\n",
      "[I 2025-04-04 04:35:40,423] Trial 4 finished with value: 6.803029032834412 and parameters: {'learning_rate': 0.05661478930978306, 'depth': 8, 'l2_leaf_reg': 7.48616890510626, 'random_strength': 0.7784930458586827, 'bagging_temperature': 0.5183755989609187}. Best is trial 1 with value: 6.759324450468445.\n",
      "[I 2025-04-04 04:35:41,345] Trial 5 finished with value: 6.804410800582302 and parameters: {'learning_rate': 0.059632686857590655, 'depth': 9, 'l2_leaf_reg': 2.1622697166991918, 'random_strength': 0.5660882148185703, 'bagging_temperature': 0.9294750776088194}. Best is trial 1 with value: 6.759324450468445.\n",
      "[I 2025-04-04 04:35:45,491] Trial 6 finished with value: 6.87008250660405 and parameters: {'learning_rate': 0.01513288088483445, 'depth': 10, 'l2_leaf_reg': 9.643327633144176, 'random_strength': 0.17932409075487005, 'bagging_temperature': 0.8681995249843255}. Best is trial 1 with value: 6.759324450468445.\n",
      "[I 2025-04-04 04:35:46,321] Trial 7 finished with value: 6.855987008022765 and parameters: {'learning_rate': 0.06663480993881754, 'depth': 9, 'l2_leaf_reg': 3.96899896758525, 'random_strength': 0.21428529955725165, 'bagging_temperature': 0.08055028788577012}. Best is trial 1 with value: 6.759324450468445.\n",
      "[I 2025-04-04 04:35:46,915] Trial 8 finished with value: 6.768068455840332 and parameters: {'learning_rate': 0.040926386654964016, 'depth': 7, 'l2_leaf_reg': 5.214702615829282, 'random_strength': 1.4563239796821843, 'bagging_temperature': 0.11957005323833825}. Best is trial 1 with value: 6.759324450468445.\n",
      "[I 2025-04-04 04:35:57,464] Trial 9 finished with value: 6.877051902068148 and parameters: {'learning_rate': 0.015287228499808427, 'depth': 12, 'l2_leaf_reg': 2.279814832287302, 'random_strength': 0.4389993786700901, 'bagging_temperature': 0.04014226874822391}. Best is trial 1 with value: 6.759324450468445.\n",
      "[I 2025-04-04 04:35:58,082] Trial 10 finished with value: 6.750097898082821 and parameters: {'learning_rate': 0.03635831104369057, 'depth': 4, 'l2_leaf_reg': 7.808815523078509, 'random_strength': 1.871388613278818, 'bagging_temperature': 0.31984111311713076}. Best is trial 10 with value: 6.750097898082821.\n",
      "[I 2025-04-04 04:35:58,621] Trial 11 finished with value: 6.749656960859316 and parameters: {'learning_rate': 0.036599860046381105, 'depth': 4, 'l2_leaf_reg': 8.006575231949725, 'random_strength': 1.9010764787969852, 'bagging_temperature': 0.32650400252171113}. Best is trial 11 with value: 6.749656960859316.\n",
      "[I 2025-04-04 04:35:59,283] Trial 12 finished with value: 6.7530448838619215 and parameters: {'learning_rate': 0.037425179245920474, 'depth': 4, 'l2_leaf_reg': 7.660930718252743, 'random_strength': 1.951765348996257, 'bagging_temperature': 0.29050693694912555}. Best is trial 11 with value: 6.749656960859316.\n",
      "[I 2025-04-04 04:35:59,751] Trial 13 finished with value: 6.764165359449039 and parameters: {'learning_rate': 0.042013671183939456, 'depth': 4, 'l2_leaf_reg': 6.366424342089715, 'random_strength': 1.9897439572399847, 'bagging_temperature': 0.30455889934124253}. Best is trial 11 with value: 6.749656960859316.\n",
      "[I 2025-04-04 04:36:00,317] Trial 14 finished with value: 6.7539704114989885 and parameters: {'learning_rate': 0.0736994142450875, 'depth': 6, 'l2_leaf_reg': 8.608531800197392, 'random_strength': 1.7451843829103069, 'bagging_temperature': 0.33455767793727215}. Best is trial 11 with value: 6.749656960859316.\n",
      "[I 2025-04-04 04:36:01,155] Trial 15 finished with value: 6.763285956577049 and parameters: {'learning_rate': 0.029814515163525956, 'depth': 5, 'l2_leaf_reg': 6.055155550254083, 'random_strength': 1.1510901085097323, 'bagging_temperature': 0.6232298718608449}. Best is trial 11 with value: 6.749656960859316.\n",
      "[I 2025-04-04 04:36:01,540] Trial 16 finished with value: 6.747100078731022 and parameters: {'learning_rate': 0.07990327017494349, 'depth': 4, 'l2_leaf_reg': 8.534274876201572, 'random_strength': 1.6672575693348908, 'bagging_temperature': 0.39765465586800475}. Best is trial 16 with value: 6.747100078731022.\n",
      "[I 2025-04-04 04:36:02,150] Trial 17 finished with value: 6.7314095543099 and parameters: {'learning_rate': 0.08492699764070102, 'depth': 6, 'l2_leaf_reg': 8.707889664443515, 'random_strength': 1.6729306842419778, 'bagging_temperature': 0.8031364236259074}. Best is trial 17 with value: 6.7314095543099.\n",
      "[I 2025-04-04 04:36:02,753] Trial 18 finished with value: 6.765077555677815 and parameters: {'learning_rate': 0.08732242608226314, 'depth': 6, 'l2_leaf_reg': 8.902665551170202, 'random_strength': 1.6740882990865162, 'bagging_temperature': 0.7512918690992463}. Best is trial 17 with value: 6.7314095543099.\n",
      "[I 2025-04-04 04:36:03,417] Trial 19 finished with value: 6.753056627703507 and parameters: {'learning_rate': 0.07991408533698588, 'depth': 7, 'l2_leaf_reg': 6.481155025864344, 'random_strength': 1.1997106895162637, 'bagging_temperature': 0.7691541725512051}. Best is trial 17 with value: 6.7314095543099.\n",
      "[I 2025-04-04 04:36:03,798] Trial 20 finished with value: 6.760579336574343 and parameters: {'learning_rate': 0.09979948409882934, 'depth': 5, 'l2_leaf_reg': 5.019197877162922, 'random_strength': 1.6390163720358806, 'bagging_temperature': 0.43228741007563615}. Best is trial 17 with value: 6.7314095543099.\n",
      "[I 2025-04-04 04:36:04,266] Trial 21 finished with value: 6.748106551672697 and parameters: {'learning_rate': 0.08401193531721292, 'depth': 4, 'l2_leaf_reg': 8.74598049688405, 'random_strength': 1.8080765662354157, 'bagging_temperature': 0.4279646076806482}. Best is trial 17 with value: 6.7314095543099.\n",
      "[I 2025-04-04 04:36:04,638] Trial 22 finished with value: 6.755079648211455 and parameters: {'learning_rate': 0.08604551159973982, 'depth': 5, 'l2_leaf_reg': 9.123535831452694, 'random_strength': 1.731413619140338, 'bagging_temperature': 0.6031997310877122}. Best is trial 17 with value: 6.7314095543099.\n",
      "[I 2025-04-04 04:36:05,087] Trial 23 finished with value: 6.796578077387979 and parameters: {'learning_rate': 0.07244784514971217, 'depth': 7, 'l2_leaf_reg': 6.985483471362323, 'random_strength': 1.5751532500371597, 'bagging_temperature': 0.4378928625746021}. Best is trial 17 with value: 6.7314095543099.\n",
      "[I 2025-04-04 04:36:05,716] Trial 24 finished with value: 6.725079386847669 and parameters: {'learning_rate': 0.08751211575782167, 'depth': 6, 'l2_leaf_reg': 8.459947779177678, 'random_strength': 1.802702379423349, 'bagging_temperature': 0.7199468126679588}. Best is trial 24 with value: 6.725079386847669.\n",
      "[I 2025-04-04 04:36:06,197] Trial 25 finished with value: 6.752788726894105 and parameters: {'learning_rate': 0.09372067368812205, 'depth': 6, 'l2_leaf_reg': 8.669553067420019, 'random_strength': 1.2604544741316406, 'bagging_temperature': 0.7534812963929899}. Best is trial 24 with value: 6.725079386847669.\n",
      "[I 2025-04-04 04:36:06,821] Trial 26 finished with value: 6.780825949236945 and parameters: {'learning_rate': 0.07587728274169839, 'depth': 8, 'l2_leaf_reg': 8.402288542230508, 'random_strength': 1.060113959730005, 'bagging_temperature': 0.8365315209546633}. Best is trial 24 with value: 6.725079386847669.\n",
      "[I 2025-04-04 04:36:07,494] Trial 27 finished with value: 6.783018992880741 and parameters: {'learning_rate': 0.06351011489650206, 'depth': 7, 'l2_leaf_reg': 9.342492156368648, 'random_strength': 1.3318414517981625, 'bagging_temperature': 0.9636741563851957}. Best is trial 24 with value: 6.725079386847669.\n",
      "[I 2025-04-04 04:36:07,897] Trial 28 finished with value: 6.749740933812347 and parameters: {'learning_rate': 0.09023271544940573, 'depth': 5, 'l2_leaf_reg': 6.998314263446636, 'random_strength': 1.5772507239222822, 'bagging_temperature': 0.6968769087027944}. Best is trial 24 with value: 6.725079386847669.\n",
      "[I 2025-04-04 04:36:08,480] Trial 29 finished with value: 6.804901536852897 and parameters: {'learning_rate': 0.09483684639630563, 'depth': 8, 'l2_leaf_reg': 4.5559903157823705, 'random_strength': 1.471739489396528, 'bagging_temperature': 0.19945234094120923}. Best is trial 24 with value: 6.725079386847669.\n",
      "[I 2025-04-04 04:36:09,097] Trial 30 finished with value: 6.773804080615335 and parameters: {'learning_rate': 0.05136124075868064, 'depth': 6, 'l2_leaf_reg': 3.001754594208398, 'random_strength': 0.9342815763479988, 'bagging_temperature': 0.8739169359166322}. Best is trial 24 with value: 6.725079386847669.\n",
      "[I 2025-04-04 04:36:09,616] Trial 31 finished with value: 6.747090743647861 and parameters: {'learning_rate': 0.0818731517666014, 'depth': 4, 'l2_leaf_reg': 8.059251789297674, 'random_strength': 1.794210946614412, 'bagging_temperature': 0.44337850116658506}. Best is trial 24 with value: 6.725079386847669.\n",
      "[I 2025-04-04 04:36:10,010] Trial 32 finished with value: 6.750672822634666 and parameters: {'learning_rate': 0.08189552793889715, 'depth': 5, 'l2_leaf_reg': 8.221467554343217, 'random_strength': 1.7293591747310153, 'bagging_temperature': 0.670139383675182}. Best is trial 24 with value: 6.725079386847669.\n",
      "[I 2025-04-04 04:36:10,357] Trial 33 finished with value: 6.734240974249613 and parameters: {'learning_rate': 0.07534243946229129, 'depth': 4, 'l2_leaf_reg': 9.266655021801869, 'random_strength': 1.847066293597635, 'bagging_temperature': 0.4727940281846932}. Best is trial 24 with value: 6.725079386847669.\n",
      "[I 2025-04-04 04:36:10,770] Trial 34 finished with value: 6.765095949217114 and parameters: {'learning_rate': 0.06853301004840746, 'depth': 5, 'l2_leaf_reg': 9.850186123126921, 'random_strength': 1.8171810791083893, 'bagging_temperature': 0.5382751231567962}. Best is trial 24 with value: 6.725079386847669.\n",
      "[I 2025-04-04 04:36:11,245] Trial 35 finished with value: 6.750319842831192 and parameters: {'learning_rate': 0.09219129020184885, 'depth': 6, 'l2_leaf_reg': 9.29788619032354, 'random_strength': 1.9733806796629991, 'bagging_temperature': 0.5676402016117984}. Best is trial 24 with value: 6.725079386847669.\n",
      "[I 2025-04-04 04:36:13,795] Trial 36 finished with value: 6.804491245441918 and parameters: {'learning_rate': 0.051254158700402744, 'depth': 11, 'l2_leaf_reg': 7.131031599988036, 'random_strength': 1.3875457395064936, 'bagging_temperature': 0.47270873351605575}. Best is trial 24 with value: 6.725079386847669.\n",
      "[I 2025-04-04 04:36:14,178] Trial 37 finished with value: 6.773557173657833 and parameters: {'learning_rate': 0.09875289963128375, 'depth': 5, 'l2_leaf_reg': 9.893001224481662, 'random_strength': 1.835435128847606, 'bagging_temperature': 0.674030478002583}. Best is trial 24 with value: 6.725079386847669.\n",
      "[I 2025-04-04 04:36:15,045] Trial 38 finished with value: 6.755040259556032 and parameters: {'learning_rate': 0.07595868113003974, 'depth': 8, 'l2_leaf_reg': 1.0976667747208335, 'random_strength': 1.5835539547699935, 'bagging_temperature': 0.8116371516138386}. Best is trial 24 with value: 6.725079386847669.\n",
      "[I 2025-04-04 04:36:15,524] Trial 39 finished with value: 6.746351983556345 and parameters: {'learning_rate': 0.05886888863517306, 'depth': 4, 'l2_leaf_reg': 9.347192729268922, 'random_strength': 1.5062664235959922, 'bagging_temperature': 0.9181972077120051}. Best is trial 24 with value: 6.725079386847669.\n",
      "[I 2025-04-04 04:36:16,986] Trial 40 finished with value: 6.801680447001125 and parameters: {'learning_rate': 0.060215781510643634, 'depth': 10, 'l2_leaf_reg': 9.467208577807803, 'random_strength': 1.5139395896616743, 'bagging_temperature': 0.916317213774246}. Best is trial 24 with value: 6.725079386847669.\n",
      "[I 2025-04-04 04:36:17,356] Trial 41 finished with value: 6.735738675372134 and parameters: {'learning_rate': 0.06935747773973817, 'depth': 4, 'l2_leaf_reg': 8.113788911080924, 'random_strength': 1.7933782237060467, 'bagging_temperature': 0.9907072074872396}. Best is trial 24 with value: 6.725079386847669.\n",
      "[I 2025-04-04 04:36:17,738] Trial 42 finished with value: 6.742062159059452 and parameters: {'learning_rate': 0.06894278616180866, 'depth': 4, 'l2_leaf_reg': 9.02991248685468, 'random_strength': 1.8879561518472843, 'bagging_temperature': 0.9509170038908393}. Best is trial 24 with value: 6.725079386847669.\n",
      "[I 2025-04-04 04:36:18,427] Trial 43 finished with value: 6.746068345938654 and parameters: {'learning_rate': 0.06962972930071681, 'depth': 5, 'l2_leaf_reg': 7.4720487585416695, 'random_strength': 1.8908274034305643, 'bagging_temperature': 0.9699733935311107}. Best is trial 24 with value: 6.725079386847669.\n",
      "[I 2025-04-04 04:36:18,982] Trial 44 finished with value: 6.7481702416816765 and parameters: {'learning_rate': 0.06365428452320512, 'depth': 4, 'l2_leaf_reg': 9.093932612483478, 'random_strength': 0.6135591681305816, 'bagging_temperature': 0.9940570255101437}. Best is trial 24 with value: 6.725079386847669.\n",
      "[I 2025-04-04 04:36:19,422] Trial 45 finished with value: 6.738948714888431 and parameters: {'learning_rate': 0.08858104558329763, 'depth': 6, 'l2_leaf_reg': 8.078706345906646, 'random_strength': 1.906800789684447, 'bagging_temperature': 0.8708384508218137}. Best is trial 24 with value: 6.725079386847669.\n",
      "[I 2025-04-04 04:36:20,050] Trial 46 finished with value: 6.718626287181477 and parameters: {'learning_rate': 0.08806330496027785, 'depth': 6, 'l2_leaf_reg': 7.6844731112017755, 'random_strength': 1.9751209017283438, 'bagging_temperature': 0.8749553312362366}. Best is trial 46 with value: 6.718626287181477.\n",
      "[I 2025-04-04 04:36:20,855] Trial 47 finished with value: 6.743282417710082 and parameters: {'learning_rate': 0.0771831036612732, 'depth': 7, 'l2_leaf_reg': 7.686853032687545, 'random_strength': 1.9904943168517264, 'bagging_temperature': 0.8305622065470997}. Best is trial 46 with value: 6.718626287181477.\n",
      "[I 2025-04-04 04:36:21,410] Trial 48 finished with value: 6.762895929286948 and parameters: {'learning_rate': 0.08719279101246571, 'depth': 7, 'l2_leaf_reg': 5.7729869784571415, 'random_strength': 1.7167903431487002, 'bagging_temperature': 0.7968864634166706}. Best is trial 46 with value: 6.718626287181477.\n",
      "[I 2025-04-04 04:36:22,223] Trial 49 finished with value: 6.838402464495239 and parameters: {'learning_rate': 0.07223509816583157, 'depth': 9, 'l2_leaf_reg': 6.673270597034199, 'random_strength': 1.6626186984134859, 'bagging_temperature': 0.7073506500610094}. Best is trial 46 with value: 6.718626287181477.\n"
     ]
    },
    {
     "name": "stdout",
     "output_type": "stream",
     "text": [
      "🔥 Best Parameters Found for CatBoost:\n",
      "{'learning_rate': 0.08806330496027785, 'depth': 6, 'l2_leaf_reg': 7.6844731112017755, 'random_strength': 1.9751209017283438, 'bagging_temperature': 0.8749553312362366}\n"
     ]
    }
   ],
   "source": [
    "\n",
    "\n",
    "# Define the objective function for Optuna\n",
    "def objective(trial):\n",
    "    params = {\n",
    "        'iterations': 300,  # Number of boosting iterations\n",
    "        'learning_rate': trial.suggest_float('learning_rate', 0.005, 0.1),\n",
    "        'depth': trial.suggest_int('depth', 4, 12),\n",
    "        'l2_leaf_reg': trial.suggest_float('l2_leaf_reg', 1, 10),\n",
    "        'random_strength': trial.suggest_float('random_strength', 0.1, 2.0),\n",
    "        'bagging_temperature': trial.suggest_float('bagging_temperature', 0.0, 1.0),\n",
    "        'od_type': 'Iter',\n",
    "        'od_wait': 20,\n",
    "        'loss_function': 'RMSE',\n",
    "        'eval_metric': 'RMSE',\n",
    "        'verbose': 0\n",
    "    }\n",
    "\n",
    "    # Train CatBoost model\n",
    "    cat_model = CatBoostRegressor(**params, random_seed=42)\n",
    "    cat_model.fit(X_train, y_train, eval_set=(X_test, y_test), early_stopping_rounds=50, verbose=0)\n",
    "\n",
    "    # Predict on test set\n",
    "    y_pred = cat_model.predict(X_test)\n",
    "    return mean_squared_error(y_test, y_pred) ** 0.5  # RMSE\n",
    "\n",
    "# Run Optuna optimization\n",
    "study = optuna.create_study(direction=\"minimize\")\n",
    "study.optimize(objective, n_trials=50)\n",
    "\n",
    "# Display best parameters\n",
    "print(\"🔥 Best Parameters Found for CatBoost:\")\n",
    "print(study.best_params)\n"
   ]
  },
  {
   "cell_type": "code",
   "execution_count": 16,
   "id": "7cef33e8-c783-4147-a378-70d4791d50cd",
   "metadata": {},
   "outputs": [
    {
     "name": "stdout",
     "output_type": "stream",
     "text": [
      "0:\tlearn: 9.7336012\ttest: 9.9997538\tbest: 9.9997538 (0)\ttotal: 3.22ms\tremaining: 963ms\n",
      "50:\tlearn: 6.2016908\ttest: 6.7964241\tbest: 6.7934572 (44)\ttotal: 135ms\tremaining: 659ms\n",
      "Stopped by overfitting detector  (50 iterations wait)\n",
      "\n",
      "bestTest = 6.793457187\n",
      "bestIteration = 44\n",
      "\n",
      "Shrink model to first 45 iterations.\n",
      "\n",
      " **Final CatBoost Performance:**\n",
      " **RMSE**: 6.7935\n",
      " **MAE**: 3.9125\n",
      " **R² Score**: 0.5796\n"
     ]
    }
   ],
   "source": [
    "\n",
    "# Use the best parameters found\n",
    "best_cat_params = {\n",
    "    'learning_rate': 0.08571378462450718,\n",
    "    'depth': 6,\n",
    "    'l2_leaf_reg': 7.886787210214747,\n",
    "    'random_strength': 0.45760123155736265,\n",
    "    'bagging_temperature': 0.4885148315925185,\n",
    "    'iterations': 300,  # Number of boosting iterations\n",
    "    'loss_function': 'RMSE',\n",
    "    'eval_metric': 'RMSE',\n",
    "    'verbose': 50,\n",
    "    # 'random_seed': 42\n",
    "}\n",
    "\n",
    "# Initialize and train CatBoost\n",
    "cat_model = CatBoostRegressor(**best_cat_params)\n",
    "cat_model.fit(X_train, y_train, eval_set=(X_test, y_test), early_stopping_rounds=50, verbose=50)\n",
    "\n",
    "# Predict on test set\n",
    "y_pred_cat = cat_model.predict(X_test)\n",
    "\n",
    "# Evaluate model performance\n",
    "cat_mae = mean_absolute_error(y_test, y_pred_cat)\n",
    "cat_rmse = mean_squared_error(y_test, y_pred_cat, squared=False)\n",
    "cat_r2 = r2_score(y_test, y_pred_cat)\n",
    "\n",
    "# Display results\n",
    "print(\"\\n **Final CatBoost Performance:**\")\n",
    "print(f\" **RMSE**: {cat_rmse:.4f}\")\n",
    "print(f\" **MAE**: {cat_mae:.4f}\")\n",
    "print(f\" **R² Score**: {cat_r2:.4f}\")\n"
   ]
  },
  {
   "cell_type": "code",
   "execution_count": null,
   "id": "1c0736d3-8703-48a6-86f1-dfc9981d718f",
   "metadata": {},
   "outputs": [
    {
     "name": "stdout",
     "output_type": "stream",
     "text": [
      "Training Advanced Bidirectional GRU for Shipment Mode: 0\n"
     ]
    }
   ],
   "source": [
    "# Define Advanced Bidirectional GRU Model\n",
    "class AdvancedGRUModel(nn.Module):\n",
    "    def __init__(self, input_dim, hidden_dim=128, output_dim=1, num_layers=4, dropout=0.3):\n",
    "        super(AdvancedGRUModel, self).__init__()\n",
    "        self.gru = nn.GRU(input_dim, hidden_dim, num_layers, dropout=dropout, bidirectional=True, batch_first=True)\n",
    "        self.fc = nn.Linear(hidden_dim * 2, output_dim)  # Multiply hidden_dim by 2 for bidirectional GRU\n",
    "\n",
    "    def forward(self, x):\n",
    "        x = x.unsqueeze(1)  # Add sequence dimension\n",
    "        out, _ = self.gru(x)\n",
    "        out = self.fc(out[:, -1, :])  # Take last time step output\n",
    "        return out\n",
    "\n",
    "# Train Advanced GRU for each shipment mode\n",
    "advanced_gru_results_by_mode = {}\n",
    "\n",
    "for mode in shipment_modes:\n",
    "    print(f\"Training Advanced Bidirectional GRU for Shipment Mode: {mode}\")\n",
    "\n",
    "    # Filter data\n",
    "    X_train_mode = X_train[X_train['shipment_mode'] == mode].drop(columns=['shipment_mode'])\n",
    "    y_train_mode = y_train[X_train['shipment_mode'] == mode]\n",
    "    X_test_mode = X_test[X_test['shipment_mode'] == mode].drop(columns=['shipment_mode'], errors='ignore')\n",
    "\n",
    "    # Convert data to PyTorch tensors\n",
    "    X_train_tensor = torch.tensor(X_train_mode.values, dtype=torch.float32)\n",
    "    y_train_tensor = torch.tensor(y_train_mode.values, dtype=torch.float32).view(-1, 1)\n",
    "    X_test_tensor = torch.tensor(X_test_mode.values, dtype=torch.float32)\n",
    "\n",
    "    # Create DataLoader\n",
    "    batch_size = 16\n",
    "    train_dataset = TensorDataset(X_train_tensor, y_train_tensor)\n",
    "    train_loader = DataLoader(train_dataset, batch_size=batch_size, shuffle=True)\n",
    "\n",
    "    # Initialize model\n",
    "    advanced_gru_model = AdvancedGRUModel(input_dim=X_train_mode.shape[1])\n",
    "    criterion = nn.MSELoss()\n",
    "    optimizer = optim.Adam(advanced_gru_model.parameters(), lr=0.0001)\n",
    "\n",
    "    # Train model\n",
    "    num_epochs = 100\n",
    "    for epoch in range(num_epochs):\n",
    "        for batch_X, batch_y in train_loader:\n",
    "            optimizer.zero_grad()\n",
    "            outputs = advanced_gru_model(batch_X)\n",
    "            loss = criterion(outputs, batch_y)\n",
    "            loss.backward()\n",
    "            optimizer.step()\n",
    "\n",
    "    # Predict on test data\n",
    "    advanced_gru_model.eval()\n",
    "    with torch.no_grad():\n",
    "        y_pred_advanced_gru = advanced_gru_model(X_test_tensor).numpy()\n",
    "\n",
    "    # Predict on train data for evaluation\n",
    "    with torch.no_grad():\n",
    "        y_train_pred_advanced_gru = advanced_gru_model(X_train_tensor).numpy()\n",
    "\n",
    "    # Evaluate performance\n",
    "    advanced_gru_mae = mean_absolute_error(y_train_mode, y_train_pred_advanced_gru)\n",
    "    advanced_gru_rmse = mean_squared_error(y_train_mode, y_train_pred_advanced_gru) ** 0.5\n",
    "    advanced_gru_r2 = r2_score(y_train_mode, y_train_pred_advanced_gru)\n",
    "\n",
    "    # Store results\n",
    "    advanced_gru_results_by_mode[mode] = {\n",
    "        \"MAE\": advanced_gru_mae,\n",
    "        \"RMSE\": advanced_gru_rmse,\n",
    "        \"R2 Score\": advanced_gru_r2,\n",
    "        \"Predictions\": y_pred_advanced_gru[:10]\n",
    "    }\n",
    "\n",
    "# Convert results to DataFrame\n",
    "advanced_gru_results_df = pd.DataFrame(advanced_gru_results_by_mode).T\n",
    "print(\"Advanced GRU Results:\")\n",
    "print(advanced_gru_results_df)\n"
   ]
  },
  {
   "cell_type": "code",
   "execution_count": null,
   "id": "9e9eedf6-cf58-4c26-afe0-4071029c859f",
   "metadata": {},
   "outputs": [],
   "source": [
    "class GNNModel(nn.Module):\n",
    "    def __init__(self, input_dim, hidden_dim=64, output_dim=1, num_layers=2):\n",
    "        super(GNNModel, self).__init__()\n",
    "        self.conv1 = GCNConv(input_dim, hidden_dim)\n",
    "        self.conv2 = GCNConv(hidden_dim, hidden_dim)\n",
    "        self.fc = nn.Linear(hidden_dim, output_dim)\n",
    "    \n",
    "    def forward(self, data):\n",
    "        x, edge_index = data.x, data.edge_index\n",
    "        x = self.conv1(x, edge_index).relu()\n",
    "        x = self.conv2(x, edge_index).relu()\n",
    "        x = self.fc(x)\n",
    "        return x\n",
    "\n",
    "# Initialize Model\n",
    "gnn_model = GNNModel(input_dim=X_train.shape[1])\n",
    "optimizer = optim.Adam(gnn_model.parameters(), lr=0.001)\n",
    "criterion = nn.MSELoss()\n"
   ]
  },
  {
   "cell_type": "code",
   "execution_count": null,
   "id": "661613f7-ccca-42cf-9837-1002e0e958a5",
   "metadata": {},
   "outputs": [],
   "source": [
    "num_epochs = 50\n",
    "\n",
    "for epoch in range(num_epochs):\n",
    "    gnn_model.train()\n",
    "    optimizer.zero_grad()\n",
    "    y_pred = gnn_model(data)\n",
    "    loss = criterion(y_pred.squeeze(), data.y)\n",
    "    loss.backward()\n",
    "    optimizer.step()\n",
    "    \n",
    "    if epoch % 10 == 0:\n",
    "        print(f\"Epoch {epoch}/{num_epochs} - Loss: {loss.item():.4f}\")\n",
    "\n",
    "print(\"\\n GNN Training Completed!\")\n"
   ]
  },
  {
   "cell_type": "code",
   "execution_count": null,
   "id": "ee29260c-ef49-4c50-acd5-1806c3ff47bd",
   "metadata": {},
   "outputs": [],
   "source": [
    "gnn_model.eval()\n",
    "# Convert X_test to tensor\n",
    "X_test_tensor = torch.tensor(X_test.values, dtype=torch.float32)\n",
    "\n",
    "# Create new PyTorch Geometric Data object only for test set\n",
    "test_data = Data(x=X_test_tensor, edge_index=edge_index)\n",
    "\n",
    "# Predict only on test data\n",
    "gnn_model.eval()\n",
    "with torch.no_grad():\n",
    "    y_pred_gnn = gnn_model(test_data).squeeze().numpy()\n",
    "\n",
    "\n",
    "# Evaluate Performance\n",
    "gnn_mae = mean_absolute_error(y_test, y_pred_gnn)\n",
    "gnn_rmse = mean_squared_error(y_test, y_pred_gnn, squared=False)\n",
    "gnn_r2 = r2_score(y_test, y_pred_gnn)\n",
    "\n",
    "# Display results\n",
    "print(\"\\n **Final GNN Performance:**\")\n",
    "print(f\" **RMSE**: {gnn_rmse:.4f}\")\n",
    "print(f\" **MAE**: {gnn_mae:.4f}\")\n",
    "print(f\" **R² Score**: {gnn_r2:.4f}\")\n"
   ]
  },
  {
   "cell_type": "code",
   "execution_count": null,
   "id": "acfc82ec-1d13-4e7b-a5b9-efd936c9750c",
   "metadata": {},
   "outputs": [],
   "source": [
    "from torch_geometric.data import Data\n",
    "from torch_geometric.nn import knn_graph\n",
    "\n",
    "#  Step 1: Combine training and test features\n",
    "X_all = np.concatenate([X_train, X_test], axis=0)\n",
    "\n",
    "#  Step 2: For the labels, I only have y_train — so I fill y_test with zeros\n",
    "y_all = np.concatenate([y_train, np.zeros(len(X_test))], axis=0)\n",
    "\n",
    "#  Step 3: Convert them into PyTorch tensors\n",
    "x_tensor = torch.tensor(X_all, dtype=torch.float32)\n",
    "y_tensor = torch.tensor(y_all, dtype=torch.float32)\n",
    "\n",
    "#  Step 4: Create binary masks to differentiate between training and test sets\n",
    "train_mask = torch.zeros(x_tensor.size(0), dtype=torch.bool)\n",
    "test_mask = torch.zeros(x_tensor.size(0), dtype=torch.bool)\n",
    "train_mask[:len(X_train)] = True\n",
    "test_mask[len(X_train):] = True\n",
    "\n",
    "#  Step 5: Construct the graph using k-Nearest Neighbors (this builds edges between nodes)\n",
    "edge_index = knn_graph(x_tensor, k=5)\n",
    "\n",
    "#  Step 6: Wrap all data into a single PyTorch Geometric Data object\n",
    "data = Data(x=x_tensor, y=y_tensor, edge_index=edge_index,\n",
    "            train_mask=train_mask, test_mask=test_mask)\n",
    "\n",
    "#  Step 7: Sanity check print statements\n",
    "print(f\"x_tensor shape: {x_tensor.shape}\")           # e.g., [6374, 14]\n",
    "print(f\"Model output shape: {gnn_model(data).shape}\")  # e.g., [6374, 1]\n",
    "print(f\"train_mask shape: {data.train_mask.shape}\")  # e.g., [6374]\n",
    "print(f\"y_tensor shape: {data.y.shape}\")             # e.g., [6374]\n",
    "print(len(X_train), len(y_train))                    # e.g., 5341 5341\n",
    "print(len(X_test), len(X_test))                      # e.g., 1033 1033\n",
    "\n",
    "#  Step 8: GNN Training Loop\n",
    "for epoch in range(num_epochs):\n",
    "    gnn_model.train()\n",
    "    optimizer.zero_grad()\n",
    "    out = gnn_model(data).squeeze()\n",
    "    \n",
    "    # Compute loss ONLY on training data (masked)\n",
    "    loss = criterion(out[data.train_mask], data.y[data.train_mask])\n",
    "    loss.backward()\n",
    "    optimizer.step()\n",
    "    \n",
    "    if epoch % 10 == 0:\n",
    "        print(f\"Epoch {epoch}/{num_epochs} - Loss: {loss.item():.4f}\")\n",
    "\n",
    "#  Step 9: GNN Evaluation\n",
    "gnn_model.eval()\n",
    "with torch.no_grad():\n",
    "    out = gnn_model(data).squeeze()\n",
    "    y_true = data.y[data.test_mask].numpy()\n",
    "    y_pred = out[data.test_mask].numpy()\n",
    "\n",
    "#  Step 10: Metrics on test data\n",
    "gnn_rmse = mean_squared_error(y_true, y_pred, squared=False)\n",
    "gnn_mae = mean_absolute_error(y_true, y_pred)\n",
    "gnn_r2 = r2_score(y_true, y_pred)\n",
    "\n",
    "#  Step 11: Final Result Output\n",
    "print(\"\\n **Updated GNN Performance:**\")\n",
    "print(f\" **RMSE**: {gnn_rmse:.4f}\")\n",
    "print(f\" **MAE**: {gnn_mae:.4f}\")\n",
    "print(f\" **R² Score**: {gnn_r2:.4f}\")\n"
   ]
  }
 ],
 "metadata": {
  "kernelspec": {
   "display_name": "Python 3 (ipykernel)",
   "language": "python",
   "name": "python3"
  },
  "language_info": {
   "codemirror_mode": {
    "name": "ipython",
    "version": 3
   },
   "file_extension": ".py",
   "mimetype": "text/x-python",
   "name": "python",
   "nbconvert_exporter": "python",
   "pygments_lexer": "ipython3",
   "version": "3.8.15"
  }
 },
 "nbformat": 4,
 "nbformat_minor": 5
}
