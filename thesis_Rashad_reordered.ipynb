{
 "cells": [
  {
   "cell_type": "code",
   "execution_count": 43,
   "id": "5bb9cf15-2236-435a-ad2c-dbf9a6917d81",
   "metadata": {},
   "outputs": [],
   "source": [
    "import pandas as pd\n",
    "import numpy as np\n",
    "from sklearn.model_selection import train_test_split\n",
    "from sklearn.preprocessing import LabelEncoder, StandardScaler\n",
    "from sklearn.metrics import mean_absolute_error, mean_squared_error, r2_score\n",
    "from xgboost import XGBRegressor\n",
    "import torch\n",
    "import torch.nn as nn\n",
    "import torch.optim as optim\n",
    "from torch.utils.data import DataLoader, TensorDataset\n",
    "import lightgbm as lgb\n",
    "from lightgbm import LGBMRegressor\n",
    "from catboost import CatBoostRegressor\n",
    "import optuna\n",
    "import torch_geometric\n",
    "from torch_geometric.data import Data\n",
    "from torch_geometric.nn import GCNConv, GATConv"
   ]
  },
  {
   "cell_type": "code",
   "execution_count": 44,
   "id": "c16bc0ce-fabf-46a7-961b-d05c28acc96f",
   "metadata": {},
   "outputs": [],
   "source": [
    "train_df = pd.read_csv(\"train_2_pr.csv\")\n",
    "test_df = pd.read_csv(\"test_2.csv\")\n",
    "\n"
   ]
  },
  {
   "cell_type": "code",
   "execution_count": 45,
   "id": "6f47edbd-3b98-4bb1-bfad-f3f8c767cc6b",
   "metadata": {},
   "outputs": [
    {
     "name": "stdout",
     "output_type": "stream",
     "text": [
      "Data Preprocessing Complete!\n",
      "   pick_up_point  drop_off_point  source_country  destination_country  \\\n",
      "0              0               1               0                    1   \n",
      "1              0               1               0                    1   \n",
      "2              0               1               0                    1   \n",
      "3              0               1               0                    1   \n",
      "4              0               1               0                    1   \n",
      "\n",
      "   freight_cost  gross_weight  shipment_charges  shipment_mode  \\\n",
      "0     -0.502717     -0.473210         -0.951330              0   \n",
      "1     -1.077047     -0.670686          0.220913              1   \n",
      "2     -0.966450     -0.674635         -0.951330              0   \n",
      "3      0.626539      0.092360          1.393156              0   \n",
      "4      0.589673      0.831709         -0.951330              0   \n",
      "\n",
      "   shipping_company  selected  send_hour  send_day  send_month  send_year  \n",
      "0                 2         0  -1.202865 -0.678716   -0.113796  -0.498533  \n",
      "1                 0         0   0.385478 -0.246522    0.189147  -0.498533  \n",
      "2                 2         0   0.186935 -1.110911    1.097977  -0.498533  \n",
      "3                 1         0  -0.805780 -0.786765   -1.628513   2.005885  \n",
      "4                 2         0  -1.401408 -0.354570   -0.719683   2.005885  \n"
     ]
    }
   ],
   "source": [
    "# Writing a function to prepreocess the data\n",
    "def preprocess_data(df, is_train=True):\n",
    "    df = df.copy()\n",
    "    \n",
    "    # First I need to convert the timestamps into date time format\n",
    "    df['send_timestamp'] = pd.to_datetime(df['send_timestamp'])\n",
    "    \n",
    "    # Extracting the features from timestamp\n",
    "    df['send_hour'] = df['send_timestamp'].dt.hour\n",
    "    df['send_day'] = df['send_timestamp'].dt.day\n",
    "    df['send_month'] = df['send_timestamp'].dt.month\n",
    "    df['send_year'] = df['send_timestamp'].dt.year\n",
    "    \n",
    "    # Here, I drop the timestamp column as it is redundant\n",
    "    df.drop(columns=['send_timestamp'], inplace=True)\n",
    "    \n",
    "    # Now, I encode the categorical variables\n",
    "    label_encoders = {}\n",
    "    categorical_cols = ['pick_up_point', 'drop_off_point', 'source_country', \n",
    "                        'destination_country', 'shipment_mode', 'shipping_company', 'selected']\n",
    "    \n",
    "    for col in categorical_cols:\n",
    "        le = LabelEncoder()\n",
    "        df[col] = le.fit_transform(df[col])\n",
    "        label_encoders[col] = le\n",
    "    \n",
    "    # Shipment ID is an identifier, so I drop it to prevent confusion\n",
    "    df.drop(columns=['shipment_id', 'Unnamed: 0'], inplace=True)\n",
    "    \n",
    "    # Here, I use Standard Scaler to scale the numerical features\n",
    "    scaler = StandardScaler()\n",
    "    numeric_cols = ['freight_cost', 'gross_weight', 'shipment_charges', 'send_hour', 'send_day', 'send_month', 'send_year']\n",
    "    df[numeric_cols] = scaler.fit_transform(df[numeric_cols])\n",
    "\n",
    "    # Then, I split the feature variables and the target variable (only for the training data)\n",
    "    if is_train:\n",
    "        X = df.drop(columns=['shipping_time'])\n",
    "        y = df['shipping_time']\n",
    "        return X, y, label_encoders, scaler\n",
    "    else:\n",
    "        return df\n",
    "\n",
    "# Preprocessing the training data using the function: preprocess_data\n",
    "X_train, y_train, label_encoders, scaler = preprocess_data(train_df, is_train=True)\n",
    "\n",
    "# Next, I preprocess the test data using the function: preprocess_data\n",
    "X_test = preprocess_data(test_df, is_train=False)\n",
    "\n",
    "# Making sure the test set has the same features as the training set\n",
    "X_test = X_test[X_train.columns]\n",
    "\n",
    "print(\"Data Preprocessing Complete!\")\n",
    "print(X_train.head())\n",
    "\n"
   ]
  },
  {
   "cell_type": "code",
   "execution_count": 46,
   "id": "1341cf6a-a714-4517-9d75-903e4e761bf3",
   "metadata": {},
   "outputs": [],
   "source": [
    "# Group data by 'shipment_mode'\n",
    "# Now, I group the data based on 'shipment mode'\n",
    "shipment_modes = X_train['shipment_mode'].unique()\n",
    "\n"
   ]
  },
  {
   "cell_type": "code",
   "execution_count": 47,
   "id": "4baa5ba9-7aa6-49ac-8920-b0f71f15ae74",
   "metadata": {},
   "outputs": [
    {
     "name": "stderr",
     "output_type": "stream",
     "text": [
      "C:\\Users\\R\\AppData\\Local\\Temp\\ipykernel_1200\\2222500264.py:10: DeprecationWarning: an integer is required (got type numpy.float64).  Implicit conversion to integers using __int__ is deprecated, and may be removed in a future version of Python.\n",
      "  edge_index = torch.tensor(edges, dtype=torch.long).T  # Convert to tensor\n"
     ]
    }
   ],
   "source": [
    "\n",
    "\n",
    "# Convert dataset to tensors\n",
    "X_tensor = torch.tensor(X_train.values, dtype=torch.float32)\n",
    "y_tensor = torch.tensor(y_train.values, dtype=torch.float32)\n",
    "\n",
    "# Define edges (connect shipment points and modes)\n",
    "edges = []  # This should contain relationships (e.g., from pickup to destination)\n",
    "for i in range(len(X_train)):\n",
    "    edges.append([X_train.iloc[i]['pick_up_point'], X_train.iloc[i]['drop_off_point']])\n",
    "\n",
    "edge_index = torch.tensor(edges, dtype=torch.long).T  # Convert to tensor\n",
    "\n",
    "# Create PyTorch Geometric Graph Object\n",
    "data = Data(x=X_tensor, edge_index=edge_index, y=y_tensor)\n"
   ]
  },
  {
   "cell_type": "code",
   "execution_count": 48,
   "id": "8b4cd4fe-200d-47b3-9f11-154d1d0ea20a",
   "metadata": {},
   "outputs": [],
   "source": [
    "import pandas as pd\n",
    "import numpy as np\n",
    "from sklearn.model_selection import train_test_split\n",
    "from sklearn.preprocessing import LabelEncoder, StandardScaler\n",
    "from sklearn.metrics import mean_absolute_error, mean_squared_error, r2_score\n",
    "from xgboost import XGBRegressor\n",
    "import torch\n",
    "import torch.nn as nn\n",
    "import torch.optim as optim\n",
    "from torch.utils.data import DataLoader, TensorDataset\n",
    "import lightgbm as lgb\n",
    "from lightgbm import LGBMRegressor\n",
    "from catboost import CatBoostRegressor\n",
    "import optuna\n",
    "import torch_geometric\n",
    "from torch_geometric.data import Data\n",
    "from torch_geometric.nn import GCNConv, GATConv\n"
   ]
  },
  {
   "cell_type": "code",
   "execution_count": 49,
   "id": "d91c1ad2-70f4-4b1e-aa3b-87024b652ce6",
   "metadata": {},
   "outputs": [
    {
     "name": "stdout",
     "output_type": "stream",
     "text": [
      "Training XGBoost for Shipment Mode: 0\n",
      "Training XGBoost for Shipment Mode: 1\n",
      "Optimized XGBoost Results:\n",
      "        MAE      RMSE  R2 Score  \\\n",
      "0  0.050361  0.063397  0.732266   \n",
      "1  3.742116  4.630676  0.774068   \n",
      "\n",
      "                                         Predictions  \n",
      "0  [5.209595, 5.2602715, 5.1449647, 5.193505, 5.2...  \n",
      "1  [12.771855, 18.290365, 24.098497, 27.00506, 19...  \n"
     ]
    }
   ],
   "source": [
    "# Dictionary to store results\n",
    "xgb_results_by_mode = {}\n",
    "\n",
    "# Train Optimized XGBoost for each shipment mode\n",
    "for mode in shipment_modes:\n",
    "    print(f\"Training XGBoost for Shipment Mode: {mode}\")\n",
    "\n",
    "    # Filter data for the current shipment mode\n",
    "    X_train_mode = X_train[X_train['shipment_mode'] == mode].drop(columns=['shipment_mode'])\n",
    "    y_train_mode = y_train[X_train['shipment_mode'] == mode]\n",
    "    X_test_mode = X_test[X_test['shipment_mode'] == mode].drop(columns=['shipment_mode'], errors='ignore')\n",
    "\n",
    "    # Train XGBoost model\n",
    "    xgb_model = XGBRegressor(objective='reg:squarederror', n_estimators=200, learning_rate=0.05, max_depth=8, random_state=42)\n",
    "    xgb_model.fit(X_train_mode, y_train_mode)\n",
    "\n",
    "    # Predict on test set\n",
    "    y_pred_xgb = xgb_model.predict(X_test_mode)\n",
    "\n",
    "    # Predict on train set for evaluation\n",
    "    y_train_pred_xgb = xgb_model.predict(X_train_mode)\n",
    "\n",
    "    # Evaluate performance\n",
    "    xgb_mae = mean_absolute_error(y_train_mode, y_train_pred_xgb)\n",
    "    xgb_rmse = mean_squared_error(y_train_mode, y_train_pred_xgb) ** 0.5\n",
    "    xgb_r2 = r2_score(y_train_mode, y_train_pred_xgb)\n",
    "\n",
    "    # Store results\n",
    "    xgb_results_by_mode[mode] = {\n",
    "        \"MAE\": xgb_mae,\n",
    "        \"RMSE\": xgb_rmse,\n",
    "        \"R2 Score\": xgb_r2,\n",
    "        \"Predictions\": y_pred_xgb[:10]\n",
    "    }\n",
    "\n",
    "# Convert results to DataFrame and display\n",
    "xgb_results_df = pd.DataFrame(xgb_results_by_mode).T\n",
    "print(\"Optimized XGBoost Results:\")\n",
    "print(xgb_results_df)\n",
    "\n"
   ]
  },
  {
   "cell_type": "code",
   "execution_count": 50,
   "id": "d5812fb8-15c6-4eba-a6e8-b2ddd768e675",
   "metadata": {},
   "outputs": [
    {
     "name": "stdout",
     "output_type": "stream",
     "text": [
      " Model Evaluation Summary:\n",
      "           MAE   RMSE  R² Score\n",
      "XGBoost   4.23   6.87      0.57\n",
      "LightGBM  4.14   6.88      0.57\n",
      "CatBoost  4.32   6.92      0.55\n",
      "GRU       7.21  12.10      0.22\n",
      "GNN       8.49  14.60     -0.94\n"
     ]
    },
    {
     "name": "stderr",
     "output_type": "stream",
     "text": [
      "C:\\Users\\R\\AppData\\Local\\Temp\\ipykernel_1200\\2686126370.py:25: FutureWarning: \n",
      "\n",
      "Passing `palette` without assigning `hue` is deprecated and will be removed in v0.14.0. Assign the `x` variable to `hue` and set `legend=False` for the same effect.\n",
      "\n",
      "  sns.barplot(data=results_df.reset_index(), x='index', y='RMSE', palette='viridis')\n"
     ]
    },
    {
     "data": {
      "image/png": "[encoded data removed]",
      "text/plain": [
       "<Figure size 1000x500 with 1 Axes>"
      ]
     },
     "metadata": {},
     "output_type": "display_data"
    },
    {
     "data": {
      "image/png": "[encoded data removed]",
      "text/plain": [
       "<Figure size 1000x500 with 1 Axes>"
      ]
     },
     "metadata": {},
     "output_type": "display_data"
    }
   ],
   "source": [
    "import matplotlib.pyplot as plt\n",
    "import seaborn as sns\n",
    "import pandas as pd\n",
    "\n",
    "# Sample performance dictionary – replace with your actual result dictionaries\n",
    "model_results = {\n",
    "    'XGBoost': {'MAE': 4.23, 'RMSE': 6.87, 'R2': 0.57},\n",
    "    'LightGBM': {'MAE': 4.14, 'RMSE': 6.88, 'R2': 0.57},\n",
    "    'CatBoost': {'MAE': 4.32, 'RMSE': 6.92, 'R2': 0.55},\n",
    "    'GRU': {'MAE': 7.21, 'RMSE': 12.10, 'R2': 0.22},\n",
    "    'GNN': {'MAE': 8.49, 'RMSE': 14.60, 'R2': -0.94}\n",
    "}\n",
    "\n",
    "# Convert to DataFrame\n",
    "results_df = pd.DataFrame(model_results).T\n",
    "results_df.columns = ['MAE', 'RMSE', 'R² Score']\n",
    "results_df = results_df.sort_values(by='RMSE')\n",
    "\n",
    "#  Print the performance table\n",
    "print(\" Model Evaluation Summary:\")\n",
    "print(results_df)\n",
    "\n",
    "#  Plot 1: Barplot of RMSE for all models\n",
    "plt.figure(figsize=(10, 5))\n",
    "sns.barplot(data=results_df.reset_index(), x='index', y='RMSE', palette='viridis')\n",
    "plt.title(\" Root Mean Squared Error (RMSE) Comparison\")\n",
    "plt.xlabel(\"Model\")\n",
    "plt.ylabel(\"RMSE\")\n",
    "plt.xticks(rotation=45)\n",
    "plt.tight_layout()\n",
    "plt.show()\n",
    "\n",
    "#  Plot 2: Lineplot of all metrics\n",
    "results_df.reset_index(inplace=True)\n",
    "results_df = pd.melt(results_df, id_vars='index', var_name='Metric', value_name='Score')\n",
    "\n",
    "plt.figure(figsize=(10, 5))\n",
    "sns.lineplot(data=results_df, x='index', y='Score', hue='Metric', marker='o')\n",
    "plt.title(\" Model Metrics Comparison\")\n",
    "plt.xlabel(\"Model\")\n",
    "plt.ylabel(\"Score\")\n",
    "plt.xticks(rotation=45)\n",
    "plt.legend(title=\"Metric\")\n",
    "plt.tight_layout()\n",
    "plt.show()\n"
   ]
  },
  {
   "cell_type": "code",
   "execution_count": 51,
   "id": "490513e4-88c2-41da-9da2-2180131a8aa1",
   "metadata": {},
   "outputs": [
    {
     "name": "stdout",
     "output_type": "stream",
     "text": [
      "X_train Shape: (4091, 14), y_train Shape: (4091,)\n",
      "X_test Shape: (1023, 14), y_test Shape: (1023,)\n",
      "Training until validation scores don't improve for 50 rounds\n",
      "Early stopping, best iteration is:\n",
      "[55]\tvalid_0's rmse: 6.88394\n",
      "\n",
      "LightGBM Training Completed\n"
     ]
    }
   ],
   "source": [
    "\n",
    "\n",
    "# Preprocess training data\n",
    "X, y, label_encoders, scaler = preprocess_data(train_df, is_train=True)\n",
    "\n",
    "# Split data into training and testing sets\n",
    "X_train, X_test, y_train, y_test = train_test_split(\n",
    "    X, y, test_size=0.2, random_state=42\n",
    ")\n",
    "\n",
    "# Check if the data is split correctly\n",
    "print(f\"X_train Shape: {X_train.shape}, y_train Shape: {y_train.shape}\")\n",
    "print(f\"X_test Shape: {X_test.shape}, y_test Shape: {y_test.shape}\")\n",
    "\n",
    "#  Define LightGBM hyperparameters\n",
    "lgb_params = {\n",
    "    'objective': 'regression',\n",
    "    'metric': 'rmse',\n",
    "    'boosting_type': 'gbdt',\n",
    "    'learning_rate': 0.05,\n",
    "    'max_depth': 8,\n",
    "    'num_leaves': 31,\n",
    "    'min_data_in_leaf': 10,\n",
    "    'feature_fraction': 0.8,\n",
    "    'bagging_fraction': 0.8,\n",
    "    'bagging_freq': 5,\n",
    "    'lambda_l1': 0.1,\n",
    "    'lambda_l2': 0.1,\n",
    "    'verbosity': -1\n",
    "}\n",
    "\n",
    "# Convert Data to LightGBM Dataset Format\n",
    "train_data = lgb.Dataset(X_train, label=y_train)\n",
    "valid_data = lgb.Dataset(X_test, label=y_test, reference=train_data)\n",
    "\n",
    "# Use `callbacks=[lgb.early_stopping(50)]` instead of `early_stopping_rounds=50`\n",
    "lgb_model = lgb.train(\n",
    "    lgb_params,\n",
    "    train_data,\n",
    "    num_boost_round=500,  # Equivalent to `n_estimators`\n",
    "    valid_sets=[valid_data],  # Validation data for early stopping\n",
    "    callbacks=[lgb.early_stopping(50)],  #  Correct way to apply early stopping\n",
    ")\n",
    "\n",
    "print(\"\\nLightGBM Training Completed\")"
   ]
  },
  {
   "cell_type": "code",
   "execution_count": 52,
   "id": "2254e68d-e401-4f8c-87fd-b6ccb19ccaaa",
   "metadata": {},
   "outputs": [
    {
     "name": "stdout",
     "output_type": "stream",
     "text": [
      "Training LightGBM for Shipment Mode: 0\n",
      "Training LightGBM for Shipment Mode: 1\n",
      "LightGBM Results:\n",
      "        MAE      RMSE  R2 Score  \\\n",
      "0  0.079553  0.093871  0.418991   \n",
      "1  5.986132   7.14014  0.454698   \n",
      "\n",
      "                                         Predictions  \n",
      "0  [5.108996535358475, 5.257333821155722, 5.19553...  \n",
      "1  [21.68129855299087, 25.905560794701522, 21.352...  \n"
     ]
    }
   ],
   "source": [
    "\n",
    "\n",
    "# Dictionary to store LightGBM results\n",
    "lgbm_results_by_mode = {}\n",
    "\n",
    "# Train LightGBM for each shipment mode\n",
    "for mode in shipment_modes:\n",
    "    print(f\"Training LightGBM for Shipment Mode: {mode}\")\n",
    "\n",
    "    # Filter data\n",
    "    X_train_mode = X_train[X_train['shipment_mode'] == mode].drop(columns=['shipment_mode'])\n",
    "    y_train_mode = y_train[X_train['shipment_mode'] == mode]\n",
    "    X_test_mode = X_test[X_test['shipment_mode'] == mode].drop(columns=['shipment_mode'], errors='ignore')\n",
    "\n",
    "    # Train LightGBM model\n",
    "    lgbm_model = LGBMRegressor(n_estimators=200, learning_rate=0.05, max_depth=8, random_state=42)\n",
    "    lgbm_model.fit(X_train_mode, y_train_mode)\n",
    "\n",
    "    # Predict on test set\n",
    "    y_pred_lgbm = lgbm_model.predict(X_test_mode)\n",
    "\n",
    "    # Predict on train set for evaluation\n",
    "    y_train_pred_lgbm = lgbm_model.predict(X_train_mode)\n",
    "\n",
    "    # Evaluate performance\n",
    "    lgbm_mae = mean_absolute_error(y_train_mode, y_train_pred_lgbm)\n",
    "    lgbm_rmse = mean_squared_error(y_train_mode, y_train_pred_lgbm) ** 0.5\n",
    "    lgbm_r2 = r2_score(y_train_mode, y_train_pred_lgbm)\n",
    "\n",
    "    # Store results\n",
    "    lgbm_results_by_mode[mode] = {\n",
    "        \"MAE\": lgbm_mae,\n",
    "        \"RMSE\": lgbm_rmse,\n",
    "        \"R2 Score\": lgbm_r2,\n",
    "        \"Predictions\": y_pred_lgbm[:10]\n",
    "    }\n",
    "\n",
    "# Convert results to DataFrame and display\n",
    "lgbm_results_df = pd.DataFrame(lgbm_results_by_mode).T\n",
    "print(\"LightGBM Results:\")\n",
    "print(lgbm_results_df)\n",
    "\n"
   ]
  },
  {
   "cell_type": "code",
   "execution_count": 53,
   "id": "345764ac-dc76-4c3e-833a-1130643b78f9",
   "metadata": {},
   "outputs": [],
   "source": [
    "y_pred_lgbm = lgb_model.predict(X_test)"
   ]
  },
  {
   "cell_type": "code",
   "execution_count": 54,
   "id": "f528806b-6985-4667-927c-371f15ed553a",
   "metadata": {},
   "outputs": [
    {
     "name": "stdout",
     "output_type": "stream",
     "text": [
      "LightGBM Performance: \n",
      "MAE: 4.1422 \n",
      "RMSE: 6.8839 \n",
      "R² Score: 0.5683\n"
     ]
    }
   ],
   "source": [
    "\n",
    "lgbm_mae = mean_absolute_error(y_test, y_pred_lgbm)\n",
    "lgbm_rmse = mean_squared_error(y_test, y_pred_lgbm) ** 0.5\n",
    "lgbm_r2 = r2_score(y_test, y_pred_lgbm)\n",
    "\n",
    "print(f\"LightGBM Performance: \\nMAE: {lgbm_mae:.4f} \\nRMSE: {lgbm_rmse:.4f} \\nR² Score: {lgbm_r2:.4f}\")\n"
   ]
  },
  {
   "cell_type": "code",
   "execution_count": 55,
   "id": "fec8a8f9-0b71-427c-82ce-b819c65e47b5",
   "metadata": {},
   "outputs": [
    {
     "name": "stderr",
     "output_type": "stream",
     "text": [
      "[I 2025-04-04 06:12:43,259] A new study created in memory with name: no-name-a04d4c42-5388-4238-8e66-b9bb5300fcbd\n"
     ]
    },
    {
     "name": "stdout",
     "output_type": "stream",
     "text": [
      "Training until validation scores don't improve for 50 rounds\n",
      "[50]\tvalid_0's l2: 55.325\n",
      "[100]\tvalid_0's l2: 46.86\n",
      "[150]\tvalid_0's l2: 45.8212\n",
      "[200]\tvalid_0's l2: 45.6333\n",
      "[250]\tvalid_0's l2: 45.7573\n",
      "Early stopping, best iteration is:\n",
      "[205]\tvalid_0's l2: 45.6161\n"
     ]
    },
    {
     "name": "stderr",
     "output_type": "stream",
     "text": [
      "[I 2025-04-04 06:12:43,442] Trial 0 finished with value: 6.753971118505667 and parameters: {'learning_rate': 0.01876660847387912, 'max_depth': 6, 'num_leaves': 55, 'feature_fraction': 0.775868016005888, 'bagging_fraction': 0.8642567642159396, 'lambda_l1': 0.14885362692302462, 'lambda_l2': 0.3697867502981832}. Best is trial 0 with value: 6.753971118505667.\n"
     ]
    },
    {
     "name": "stdout",
     "output_type": "stream",
     "text": [
      "Training until validation scores don't improve for 50 rounds\n",
      "[50]\tvalid_0's l2: 83.2703\n",
      "[100]\tvalid_0's l2: 67.8267\n",
      "[150]\tvalid_0's l2: 58.5989\n",
      "[200]\tvalid_0's l2: 53.099\n",
      "[250]\tvalid_0's l2: 49.9643\n",
      "[300]\tvalid_0's l2: 48.1829\n",
      "Did not meet early stopping. Best iteration is:\n",
      "[300]\tvalid_0's l2: 48.1829\n"
     ]
    },
    {
     "name": "stderr",
     "output_type": "stream",
     "text": [
      "[I 2025-04-04 06:12:43,735] Trial 1 finished with value: 6.9413910601103925 and parameters: {'learning_rate': 0.005361441464338078, 'max_depth': 15, 'num_leaves': 22, 'feature_fraction': 0.9903532594315582, 'bagging_fraction': 0.7285585387090426, 'lambda_l1': 0.5072527825958288, 'lambda_l2': 0.3976900941552024}. Best is trial 0 with value: 6.753971118505667.\n"
     ]
    },
    {
     "name": "stdout",
     "output_type": "stream",
     "text": [
      "Training until validation scores don't improve for 50 rounds\n",
      "[50]\tvalid_0's l2: 47.8843\n"
     ]
    },
    {
     "name": "stderr",
     "output_type": "stream",
     "text": [
      "[I 2025-04-04 06:12:43,903] Trial 2 finished with value: 6.915303447869607 and parameters: {'learning_rate': 0.054684197251457005, 'max_depth': 16, 'num_leaves': 41, 'feature_fraction': 0.9823038649396006, 'bagging_fraction': 0.7624699674151922, 'lambda_l1': 0.0790470574229496, 'lambda_l2': 0.3262059302647964}. Best is trial 0 with value: 6.753971118505667.\n"
     ]
    },
    {
     "name": "stdout",
     "output_type": "stream",
     "text": [
      "[100]\tvalid_0's l2: 49.0511\n",
      "Early stopping, best iteration is:\n",
      "[57]\tvalid_0's l2: 47.8214\n",
      "Training until validation scores don't improve for 50 rounds\n",
      "[50]\tvalid_0's l2: 46.5915\n"
     ]
    },
    {
     "name": "stderr",
     "output_type": "stream",
     "text": [
      "[I 2025-04-04 06:12:43,994] Trial 3 finished with value: 6.801881503058485 and parameters: {'learning_rate': 0.06853090180412766, 'max_depth': 8, 'num_leaves': 97, 'feature_fraction': 0.7027850525368378, 'bagging_fraction': 0.7334387551284348, 'lambda_l1': 0.3140980186526988, 'lambda_l2': 0.5591734404177027}. Best is trial 0 with value: 6.753971118505667.\n"
     ]
    },
    {
     "name": "stdout",
     "output_type": "stream",
     "text": [
      "Early stopping, best iteration is:\n",
      "[43]\tvalid_0's l2: 46.2656\n",
      "Training until validation scores don't improve for 50 rounds\n",
      "[50]\tvalid_0's l2: 47.0889\n",
      "Early stopping, best iteration is:\n",
      "[27]\tvalid_0's l2: 46.5387\n"
     ]
    },
    {
     "name": "stderr",
     "output_type": "stream",
     "text": [
      "[I 2025-04-04 06:12:44,080] Trial 4 finished with value: 6.821930773858034 and parameters: {'learning_rate': 0.09908861582046413, 'max_depth': 9, 'num_leaves': 36, 'feature_fraction': 0.8156513863899229, 'bagging_fraction': 0.9789516289584296, 'lambda_l1': 0.9683417467139233, 'lambda_l2': 0.6100222424246584}. Best is trial 0 with value: 6.753971118505667.\n"
     ]
    },
    {
     "name": "stdout",
     "output_type": "stream",
     "text": [
      "Training until validation scores don't improve for 50 rounds\n",
      "[50]\tvalid_0's l2: 83.8579\n",
      "[100]\tvalid_0's l2: 68.4641\n",
      "[150]\tvalid_0's l2: 59.3612\n",
      "[200]\tvalid_0's l2: 53.8575\n",
      "[250]\tvalid_0's l2: 50.7861\n",
      "[300]\tvalid_0's l2: 48.9738\n",
      "Did not meet early stopping. Best iteration is:\n",
      "[300]\tvalid_0's l2: 48.9738\n"
     ]
    },
    {
     "name": "stderr",
     "output_type": "stream",
     "text": [
      "[I 2025-04-04 06:12:44,542] Trial 5 finished with value: 6.998127282694731 and parameters: {'learning_rate': 0.005217911940524443, 'max_depth': 11, 'num_leaves': 54, 'feature_fraction': 0.8945289531339249, 'bagging_fraction': 0.7577530745717457, 'lambda_l1': 0.5004343835176586, 'lambda_l2': 0.5708097000739596}. Best is trial 0 with value: 6.753971118505667.\n"
     ]
    },
    {
     "name": "stdout",
     "output_type": "stream",
     "text": [
      "Training until validation scores don't improve for 50 rounds\n",
      "[50]\tvalid_0's l2: 77.3498\n",
      "[100]\tvalid_0's l2: 61.289\n",
      "[150]\tvalid_0's l2: 53.3708\n",
      "[200]\tvalid_0's l2: 49.5796\n",
      "[250]\tvalid_0's l2: 47.7886\n",
      "[300]\tvalid_0's l2: 47.0439\n",
      "Did not meet early stopping. Best iteration is:\n",
      "[300]\tvalid_0's l2: 47.0439\n"
     ]
    },
    {
     "name": "stderr",
     "output_type": "stream",
     "text": [
      "[I 2025-04-04 06:12:44,894] Trial 6 finished with value: 6.858854624403103 and parameters: {'learning_rate': 0.007068355177296825, 'max_depth': 9, 'num_leaves': 55, 'feature_fraction': 0.8013402412946932, 'bagging_fraction': 0.7998419231151922, 'lambda_l1': 0.994834795806774, 'lambda_l2': 0.3721416966797555}. Best is trial 0 with value: 6.753971118505667.\n"
     ]
    },
    {
     "name": "stdout",
     "output_type": "stream",
     "text": [
      "Training until validation scores don't improve for 50 rounds\n",
      "[50]\tvalid_0's l2: 47.0419\n"
     ]
    },
    {
     "name": "stderr",
     "output_type": "stream",
     "text": [
      "[I 2025-04-04 06:12:45,057] Trial 7 finished with value: 6.8543134143093525 and parameters: {'learning_rate': 0.04623736840079024, 'max_depth': 12, 'num_leaves': 60, 'feature_fraction': 0.7568252893706537, 'bagging_fraction': 0.8330710054564577, 'lambda_l1': 0.3301797251033024, 'lambda_l2': 0.7793131795955692}. Best is trial 0 with value: 6.753971118505667.\n"
     ]
    },
    {
     "name": "stdout",
     "output_type": "stream",
     "text": [
      "[100]\tvalid_0's l2: 48.2672\n",
      "Early stopping, best iteration is:\n",
      "[54]\tvalid_0's l2: 46.9816\n",
      "Training until validation scores don't improve for 50 rounds\n",
      "[50]\tvalid_0's l2: 46.5209\n",
      "[100]\tvalid_0's l2: 47.6088\n",
      "Early stopping, best iteration is:\n",
      "[50]\tvalid_0's l2: 46.5209\n"
     ]
    },
    {
     "name": "stderr",
     "output_type": "stream",
     "text": [
      "[I 2025-04-04 06:12:45,221] Trial 8 finished with value: 6.820621353408608 and parameters: {'learning_rate': 0.04701159114602562, 'max_depth': 10, 'num_leaves': 79, 'feature_fraction': 0.7382830790424137, 'bagging_fraction': 0.8001861714512886, 'lambda_l1': 0.06049491379908123, 'lambda_l2': 0.11594458969623633}. Best is trial 0 with value: 6.753971118505667.\n",
      "[I 2025-04-04 06:12:45,299] Trial 9 finished with value: 6.799727078315619 and parameters: {'learning_rate': 0.098229259411229, 'max_depth': 8, 'num_leaves': 33, 'feature_fraction': 0.7488244339896863, 'bagging_fraction': 0.8267812057599608, 'lambda_l1': 0.44596868249181043, 'lambda_l2': 0.19926676275782318}. Best is trial 0 with value: 6.753971118505667.\n"
     ]
    },
    {
     "name": "stdout",
     "output_type": "stream",
     "text": [
      "Training until validation scores don't improve for 50 rounds\n",
      "[50]\tvalid_0's l2: 46.9282\n",
      "Early stopping, best iteration is:\n",
      "[27]\tvalid_0's l2: 46.2363\n",
      "Training until validation scores don't improve for 50 rounds\n",
      "[50]\tvalid_0's l2: 49.9799\n",
      "[100]\tvalid_0's l2: 46.1755\n"
     ]
    },
    {
     "name": "stderr",
     "output_type": "stream",
     "text": [
      "[I 2025-04-04 06:12:45,476] Trial 10 finished with value: 6.7741536354535565 and parameters: {'learning_rate': 0.027083696282076547, 'max_depth': 6, 'num_leaves': 79, 'feature_fraction': 0.882695760978816, 'bagging_fraction': 0.6045038234784087, 'lambda_l1': 0.7427764884265361, 'lambda_l2': 0.9887747163741157}. Best is trial 0 with value: 6.753971118505667.\n"
     ]
    },
    {
     "name": "stdout",
     "output_type": "stream",
     "text": [
      "[150]\tvalid_0's l2: 46.0164\n",
      "Early stopping, best iteration is:\n",
      "[135]\tvalid_0's l2: 45.8892\n",
      "Training until validation scores don't improve for 50 rounds\n",
      "[50]\tvalid_0's l2: 49.0159\n",
      "[100]\tvalid_0's l2: 46.2216\n",
      "[150]\tvalid_0's l2: 46.2198\n",
      "Early stopping, best iteration is:\n",
      "[119]\tvalid_0's l2: 46.0096\n"
     ]
    },
    {
     "name": "stderr",
     "output_type": "stream",
     "text": [
      "[I 2025-04-04 06:12:45,653] Trial 11 finished with value: 6.783037834206175 and parameters: {'learning_rate': 0.029494620960205595, 'max_depth': 6, 'num_leaves': 78, 'feature_fraction': 0.8820670390003462, 'bagging_fraction': 0.6056479246426247, 'lambda_l1': 0.6940498505815518, 'lambda_l2': 0.9560623889833877}. Best is trial 0 with value: 6.753971118505667.\n"
     ]
    },
    {
     "name": "stdout",
     "output_type": "stream",
     "text": [
      "Training until validation scores don't improve for 50 rounds\n",
      "[50]\tvalid_0's l2: 50.3018\n",
      "[100]\tvalid_0's l2: 46.138\n"
     ]
    },
    {
     "name": "stderr",
     "output_type": "stream",
     "text": [
      "[I 2025-04-04 06:12:45,855] Trial 12 finished with value: 6.765095137051108 and parameters: {'learning_rate': 0.02618744467651806, 'max_depth': 6, 'num_leaves': 75, 'feature_fraction': 0.9296588928788866, 'bagging_fraction': 0.923159779214694, 'lambda_l1': 0.7548697360167222, 'lambda_l2': 0.9512541060198318}. Best is trial 0 with value: 6.753971118505667.\n"
     ]
    },
    {
     "name": "stdout",
     "output_type": "stream",
     "text": [
      "[150]\tvalid_0's l2: 45.9189\n",
      "Early stopping, best iteration is:\n",
      "[130]\tvalid_0's l2: 45.7665\n",
      "Training until validation scores don't improve for 50 rounds\n",
      "[50]\tvalid_0's l2: 49.2038\n",
      "[100]\tvalid_0's l2: 46.3801\n",
      "[150]\tvalid_0's l2: 46.3428\n"
     ]
    },
    {
     "name": "stderr",
     "output_type": "stream",
     "text": [
      "[I 2025-04-04 06:12:46,057] Trial 13 finished with value: 6.8064678079219485 and parameters: {'learning_rate': 0.02889931923521212, 'max_depth': 6, 'num_leaves': 69, 'feature_fraction': 0.9361926667655791, 'bagging_fraction': 0.9325439252295475, 'lambda_l1': 0.7433926559567456, 'lambda_l2': 0.7405578486770872}. Best is trial 0 with value: 6.753971118505667.\n"
     ]
    },
    {
     "name": "stdout",
     "output_type": "stream",
     "text": [
      "Early stopping, best iteration is:\n",
      "[146]\tvalid_0's l2: 46.328\n",
      "Training until validation scores don't improve for 50 rounds\n",
      "[50]\tvalid_0's l2: 54.1899\n",
      "[100]\tvalid_0's l2: 47.2495\n",
      "[150]\tvalid_0's l2: 46.9061\n",
      "Early stopping, best iteration is:\n",
      "[121]\tvalid_0's l2: 46.8039\n"
     ]
    },
    {
     "name": "stderr",
     "output_type": "stream",
     "text": [
      "[I 2025-04-04 06:12:46,397] Trial 14 finished with value: 6.8413384641463475 and parameters: {'learning_rate': 0.020307128474980937, 'max_depth': 13, 'num_leaves': 96, 'feature_fraction': 0.8261768183827383, 'bagging_fraction': 0.8989615729324784, 'lambda_l1': 0.20974758219614492, 'lambda_l2': 0.7737781035747056}. Best is trial 0 with value: 6.753971118505667.\n",
      "[I 2025-04-04 06:12:46,610] Trial 15 finished with value: 6.77965765606048 and parameters: {'learning_rate': 0.021132396409038336, 'max_depth': 7, 'num_leaves': 46, 'feature_fraction': 0.9458530108711346, 'bagging_fraction': 0.8865711316117431, 'lambda_l1': 0.6374645785166373, 'lambda_l2': 0.009168759914408353}. Best is trial 0 with value: 6.753971118505667.\n"
     ]
    },
    {
     "name": "stdout",
     "output_type": "stream",
     "text": [
      "Training until validation scores don't improve for 50 rounds\n",
      "[50]\tvalid_0's l2: 53.4751\n",
      "[100]\tvalid_0's l2: 46.6138\n",
      "[150]\tvalid_0's l2: 45.9638\n",
      "[200]\tvalid_0's l2: 46.1629\n",
      "Early stopping, best iteration is:\n",
      "[150]\tvalid_0's l2: 45.9638\n",
      "Training until validation scores don't improve for 50 rounds\n"
     ]
    },
    {
     "name": "stderr",
     "output_type": "stream",
     "text": [
      "[I 2025-04-04 06:12:46,767] Trial 16 finished with value: 6.773971400541966 and parameters: {'learning_rate': 0.04012551847688889, 'max_depth': 8, 'num_leaves': 68, 'feature_fraction': 0.7779090368008748, 'bagging_fraction': 0.9823527213158878, 'lambda_l1': 0.8476767338679922, 'lambda_l2': 0.2866402676270278}. Best is trial 0 with value: 6.753971118505667.\n"
     ]
    },
    {
     "name": "stdout",
     "output_type": "stream",
     "text": [
      "[50]\tvalid_0's l2: 46.7397\n",
      "[100]\tvalid_0's l2: 46.443\n",
      "Early stopping, best iteration is:\n",
      "[69]\tvalid_0's l2: 45.8867\n",
      "Training until validation scores don't improve for 50 rounds\n",
      "[50]\tvalid_0's l2: 45.9334\n",
      "[100]\tvalid_0's l2: 46.4787\n",
      "Early stopping, best iteration is:\n",
      "[59]\tvalid_0's l2: 45.8031\n"
     ]
    },
    {
     "name": "stderr",
     "output_type": "stream",
     "text": [
      "[I 2025-04-04 06:12:46,925] Trial 17 finished with value: 6.767800491325511 and parameters: {'learning_rate': 0.059555235431572505, 'max_depth': 7, 'num_leaves': 69, 'feature_fraction': 0.8506927073987994, 'bagging_fraction': 0.8779589447820737, 'lambda_l1': 0.20588426334724352, 'lambda_l2': 0.4733469426593769}. Best is trial 0 with value: 6.753971118505667.\n",
      "[I 2025-04-04 06:12:47,124] Trial 18 finished with value: 6.899183994680238 and parameters: {'learning_rate': 0.07731306165957376, 'max_depth': 14, 'num_leaves': 87, 'feature_fraction': 0.9374877432933088, 'bagging_fraction': 0.9257007490020807, 'lambda_l1': 0.6154293257006274, 'lambda_l2': 0.8758715715509701}. Best is trial 0 with value: 6.753971118505667.\n"
     ]
    },
    {
     "name": "stdout",
     "output_type": "stream",
     "text": [
      "Training until validation scores don't improve for 50 rounds\n",
      "[50]\tvalid_0's l2: 48.4124\n",
      "Early stopping, best iteration is:\n",
      "[32]\tvalid_0's l2: 47.5987\n",
      "Training until validation scores don't improve for 50 rounds\n"
     ]
    },
    {
     "name": "stderr",
     "output_type": "stream",
     "text": [
      "[I 2025-04-04 06:12:47,314] Trial 19 finished with value: 6.833080102280919 and parameters: {'learning_rate': 0.03738282176047886, 'max_depth': 11, 'num_leaves': 50, 'feature_fraction': 0.8514105267546859, 'bagging_fraction': 0.8557690554281977, 'lambda_l1': 0.8297221599744026, 'lambda_l2': 0.6349790382877716}. Best is trial 0 with value: 6.753971118505667.\n"
     ]
    },
    {
     "name": "stdout",
     "output_type": "stream",
     "text": [
      "[50]\tvalid_0's l2: 47.267\n",
      "[100]\tvalid_0's l2: 47.0086\n",
      "Early stopping, best iteration is:\n",
      "[66]\tvalid_0's l2: 46.691\n",
      "Training until validation scores don't improve for 50 rounds\n",
      "[50]\tvalid_0's l2: 58.3189\n",
      "[100]\tvalid_0's l2: 47.9873\n"
     ]
    },
    {
     "name": "stderr",
     "output_type": "stream",
     "text": [
      "[I 2025-04-04 06:12:47,538] Trial 20 finished with value: 6.775170370473568 and parameters: {'learning_rate': 0.0160152526957223, 'max_depth': 7, 'num_leaves': 63, 'feature_fraction': 0.7126154178516589, 'bagging_fraction': 0.9423578650322567, 'lambda_l1': 0.39885607402780704, 'lambda_l2': 0.4578487122354959}. Best is trial 0 with value: 6.753971118505667.\n"
     ]
    },
    {
     "name": "stdout",
     "output_type": "stream",
     "text": [
      "[150]\tvalid_0's l2: 46.1301\n",
      "[200]\tvalid_0's l2: 45.9116\n",
      "Early stopping, best iteration is:\n",
      "[191]\tvalid_0's l2: 45.9029\n",
      "Training until validation scores don't improve for 50 rounds\n"
     ]
    },
    {
     "name": "stderr",
     "output_type": "stream",
     "text": [
      "[I 2025-04-04 06:12:47,707] Trial 21 finished with value: 6.7481196607896665 and parameters: {'learning_rate': 0.06336282599226237, 'max_depth': 7, 'num_leaves': 71, 'feature_fraction': 0.8584344325989987, 'bagging_fraction': 0.8744030037710822, 'lambda_l1': 0.1756750375168903, 'lambda_l2': 0.4889233472792889}. Best is trial 21 with value: 6.7481196607896665.\n",
      "[I 2025-04-04 06:12:47,839] Trial 22 finished with value: 6.792368522974308 and parameters: {'learning_rate': 0.07976270424352613, 'max_depth': 6, 'num_leaves': 87, 'feature_fraction': 0.9112394967759693, 'bagging_fraction': 0.8981752840879547, 'lambda_l1': 0.16709590482164693, 'lambda_l2': 0.21249991340304636}. Best is trial 21 with value: 6.7481196607896665.\n"
     ]
    },
    {
     "name": "stdout",
     "output_type": "stream",
     "text": [
      "[50]\tvalid_0's l2: 45.6363\n",
      "Early stopping, best iteration is:\n",
      "[47]\tvalid_0's l2: 45.5371\n",
      "Training until validation scores don't improve for 50 rounds\n",
      "[50]\tvalid_0's l2: 46.4684\n",
      "Early stopping, best iteration is:\n",
      "[35]\tvalid_0's l2: 46.1363\n"
     ]
    },
    {
     "name": "stderr",
     "output_type": "stream",
     "text": [
      "[I 2025-04-04 06:12:48,040] Trial 23 finished with value: 6.771899355604896 and parameters: {'learning_rate': 0.06552000697833348, 'max_depth': 7, 'num_leaves': 74, 'feature_fraction': 0.7945535296416492, 'bagging_fraction': 0.8524410590801663, 'lambda_l1': 0.009309791402793338, 'lambda_l2': 0.6814845081486913}. Best is trial 21 with value: 6.7481196607896665.\n"
     ]
    },
    {
     "name": "stdout",
     "output_type": "stream",
     "text": [
      "Training until validation scores don't improve for 50 rounds\n",
      "[50]\tvalid_0's l2: 45.8586\n",
      "[100]\tvalid_0's l2: 46.4944\n",
      "Early stopping, best iteration is:\n",
      "[50]\tvalid_0's l2: 45.8586\n",
      "Training until validation scores don't improve for 50 rounds\n"
     ]
    },
    {
     "name": "stderr",
     "output_type": "stream",
     "text": [
      "[I 2025-04-04 06:12:48,254] Trial 24 finished with value: 6.829976957548684 and parameters: {'learning_rate': 0.036890542819380326, 'max_depth': 9, 'num_leaves': 89, 'feature_fraction': 0.8404776733002541, 'bagging_fraction': 0.9557264923755722, 'lambda_l1': 0.275544677489991, 'lambda_l2': 0.5157453789304105}. Best is trial 21 with value: 6.7481196607896665.\n"
     ]
    },
    {
     "name": "stdout",
     "output_type": "stream",
     "text": [
      "[50]\tvalid_0's l2: 47.4053\n",
      "[100]\tvalid_0's l2: 46.934\n",
      "Early stopping, best iteration is:\n",
      "[81]\tvalid_0's l2: 46.6486\n",
      "Training until validation scores don't improve for 50 rounds\n",
      "[50]\tvalid_0's l2: 61.2539\n",
      "[100]\tvalid_0's l2: 49.2906\n"
     ]
    },
    {
     "name": "stderr",
     "output_type": "stream",
     "text": [
      "[I 2025-04-04 06:12:48,533] Trial 25 finished with value: 6.782920233283971 and parameters: {'learning_rate': 0.014336053541153533, 'max_depth': 6, 'num_leaves': 63, 'feature_fraction': 0.9585090768270974, 'bagging_fraction': 0.6521128036165136, 'lambda_l1': 0.12707213922587146, 'lambda_l2': 0.43823207862075747}. Best is trial 21 with value: 6.7481196607896665.\n"
     ]
    },
    {
     "name": "stdout",
     "output_type": "stream",
     "text": [
      "[150]\tvalid_0's l2: 46.5787\n",
      "[200]\tvalid_0's l2: 46.1365\n",
      "[250]\tvalid_0's l2: 46.0278\n",
      "Early stopping, best iteration is:\n",
      "[249]\tvalid_0's l2: 46.008\n"
     ]
    },
    {
     "name": "stderr",
     "output_type": "stream",
     "text": [
      "[I 2025-04-04 06:12:48,717] Trial 26 finished with value: 6.781155951665885 and parameters: {'learning_rate': 0.07392321180569734, 'max_depth': 8, 'num_leaves': 56, 'feature_fraction': 0.863055496150441, 'bagging_fraction': 0.9996524653321688, 'lambda_l1': 0.554723369109912, 'lambda_l2': 0.25993949904042774}. Best is trial 21 with value: 6.7481196607896665.\n"
     ]
    },
    {
     "name": "stdout",
     "output_type": "stream",
     "text": [
      "Training until validation scores don't improve for 50 rounds\n",
      "[50]\tvalid_0's l2: 46.5643\n",
      "Early stopping, best iteration is:\n",
      "[39]\tvalid_0's l2: 45.9841\n",
      "Training until validation scores don't improve for 50 rounds\n"
     ]
    },
    {
     "name": "stderr",
     "output_type": "stream",
     "text": [
      "[I 2025-04-04 06:12:48,877] Trial 27 finished with value: 6.874668655902188 and parameters: {'learning_rate': 0.08774595659864885, 'max_depth': 10, 'num_leaves': 76, 'feature_fraction': 0.9147623457959845, 'bagging_fraction': 0.9167203663263209, 'lambda_l1': 0.3911540712802441, 'lambda_l2': 0.9050009497977327}. Best is trial 21 with value: 6.7481196607896665.\n"
     ]
    },
    {
     "name": "stdout",
     "output_type": "stream",
     "text": [
      "[50]\tvalid_0's l2: 47.8078\n",
      "Early stopping, best iteration is:\n",
      "[36]\tvalid_0's l2: 47.2611\n",
      "Training until validation scores don't improve for 50 rounds\n",
      "[50]\tvalid_0's l2: 45.8019\n",
      "[100]\tvalid_0's l2: 46.5869\n",
      "Early stopping, best iteration is:\n",
      "[53]\tvalid_0's l2: 45.7094\n"
     ]
    },
    {
     "name": "stderr",
     "output_type": "stream",
     "text": [
      "[I 2025-04-04 06:12:49,011] Trial 28 finished with value: 6.760869400377494 and parameters: {'learning_rate': 0.060521102158528906, 'max_depth': 7, 'num_leaves': 47, 'feature_fraction': 0.7782405793906196, 'bagging_fraction': 0.8662212077610995, 'lambda_l1': 0.23030122229363317, 'lambda_l2': 0.37048431314209335}. Best is trial 21 with value: 6.7481196607896665.\n",
      "[I 2025-04-04 06:12:49,152] Trial 29 finished with value: 6.7652664376097995 and parameters: {'learning_rate': 0.056898672422533714, 'max_depth': 10, 'num_leaves': 23, 'feature_fraction': 0.7847880231953845, 'bagging_fraction': 0.8138884746913508, 'lambda_l1': 0.22689461082562146, 'lambda_l2': 0.38624200824058325}. Best is trial 21 with value: 6.7481196607896665.\n"
     ]
    },
    {
     "name": "stdout",
     "output_type": "stream",
     "text": [
      "Training until validation scores don't improve for 50 rounds\n",
      "[50]\tvalid_0's l2: 45.806\n",
      "Early stopping, best iteration is:\n",
      "[45]\tvalid_0's l2: 45.7688\n",
      "Training until validation scores don't improve for 50 rounds\n",
      "[50]\tvalid_0's l2: 46.1161\n"
     ]
    },
    {
     "name": "stderr",
     "output_type": "stream",
     "text": [
      "[I 2025-04-04 06:12:49,351] Trial 30 finished with value: 6.7741424126093355 and parameters: {'learning_rate': 0.04691958005040157, 'max_depth': 7, 'num_leaves': 45, 'feature_fraction': 0.7704750073553449, 'bagging_fraction': 0.8611862113634199, 'lambda_l1': 0.0061519598013216326, 'lambda_l2': 0.11948908421772919}. Best is trial 21 with value: 6.7481196607896665.\n"
     ]
    },
    {
     "name": "stdout",
     "output_type": "stream",
     "text": [
      "[100]\tvalid_0's l2: 46.3838\n",
      "Early stopping, best iteration is:\n",
      "[72]\tvalid_0's l2: 45.889\n",
      "Training until validation scores don't improve for 50 rounds\n",
      "[50]\tvalid_0's l2: 46.0874\n",
      "Early stopping, best iteration is:\n",
      "[45]\tvalid_0's l2: 45.8296\n"
     ]
    },
    {
     "name": "stderr",
     "output_type": "stream",
     "text": [
      "[I 2025-04-04 06:12:49,515] Trial 31 finished with value: 6.769753858853386 and parameters: {'learning_rate': 0.06422349369598665, 'max_depth': 7, 'num_leaves': 60, 'feature_fraction': 0.7330814345969545, 'bagging_fraction': 0.8760888537454965, 'lambda_l1': 0.12827842684294685, 'lambda_l2': 0.4140542756720824}. Best is trial 21 with value: 6.7481196607896665.\n",
      "[I 2025-04-04 06:12:49,722] Trial 32 finished with value: 6.7794078545474346 and parameters: {'learning_rate': 0.0518698218858351, 'max_depth': 6, 'num_leaves': 49, 'feature_fraction': 0.9970567593448676, 'bagging_fraction': 0.8400634579441681, 'lambda_l1': 0.27201310181324023, 'lambda_l2': 0.31269158880424225}. Best is trial 21 with value: 6.7481196607896665.\n"
     ]
    },
    {
     "name": "stdout",
     "output_type": "stream",
     "text": [
      "Training until validation scores don't improve for 50 rounds\n",
      "[50]\tvalid_0's l2: 46.1922\n",
      "[100]\tvalid_0's l2: 46.318\n",
      "Early stopping, best iteration is:\n",
      "[72]\tvalid_0's l2: 45.9604\n",
      "Training until validation scores don't improve for 50 rounds\n"
     ]
    },
    {
     "name": "stderr",
     "output_type": "stream",
     "text": [
      "[I 2025-04-04 06:12:49,889] Trial 33 finished with value: 6.853053817075905 and parameters: {'learning_rate': 0.060805043832077826, 'max_depth': 8, 'num_leaves': 41, 'feature_fraction': 0.9750150216602872, 'bagging_fraction': 0.7829253733505326, 'lambda_l1': 0.08818363102234905, 'lambda_l2': 0.5176441900688848}. Best is trial 21 with value: 6.7481196607896665.\n"
     ]
    },
    {
     "name": "stdout",
     "output_type": "stream",
     "text": [
      "[50]\tvalid_0's l2: 47.0857\n",
      "[100]\tvalid_0's l2: 48.0434\n",
      "Early stopping, best iteration is:\n",
      "[57]\tvalid_0's l2: 46.9643\n",
      "Training until validation scores don't improve for 50 rounds\n",
      "[50]\tvalid_0's l2: 45.6121\n"
     ]
    },
    {
     "name": "stderr",
     "output_type": "stream",
     "text": [
      "[I 2025-04-04 06:12:50,065] Trial 34 finished with value: 6.747184006591148 and parameters: {'learning_rate': 0.06870257576062269, 'max_depth': 16, 'num_leaves': 30, 'feature_fraction': 0.8208234579635624, 'bagging_fraction': 0.9080066082306656, 'lambda_l1': 0.35640682538553775, 'lambda_l2': 0.3702242545086859}. Best is trial 34 with value: 6.747184006591148.\n"
     ]
    },
    {
     "name": "stdout",
     "output_type": "stream",
     "text": [
      "Early stopping, best iteration is:\n",
      "[49]\tvalid_0's l2: 45.5245\n",
      "Training until validation scores don't improve for 50 rounds\n",
      "[50]\tvalid_0's l2: 46.1588\n",
      "Early stopping, best iteration is:\n",
      "[42]\tvalid_0's l2: 45.9556\n"
     ]
    },
    {
     "name": "stderr",
     "output_type": "stream",
     "text": [
      "[I 2025-04-04 06:12:50,247] Trial 35 finished with value: 6.779055146087318 and parameters: {'learning_rate': 0.07032300248473307, 'max_depth': 16, 'num_leaves': 27, 'feature_fraction': 0.809977210805676, 'bagging_fraction': 0.7033427960619545, 'lambda_l1': 0.33487831501301857, 'lambda_l2': 0.353532928846954}. Best is trial 34 with value: 6.747184006591148.\n",
      "[I 2025-04-04 06:12:50,417] Trial 36 finished with value: 6.799291269275301 and parameters: {'learning_rate': 0.08447056628556139, 'max_depth': 15, 'num_leaves': 35, 'feature_fraction': 0.8266965046224377, 'bagging_fraction': 0.9056431435332865, 'lambda_l1': 0.26773915588184427, 'lambda_l2': 0.5755644669505302}. Best is trial 34 with value: 6.747184006591148.\n"
     ]
    },
    {
     "name": "stdout",
     "output_type": "stream",
     "text": [
      "Training until validation scores don't improve for 50 rounds\n",
      "[50]\tvalid_0's l2: 46.7448\n",
      "Early stopping, best iteration is:\n",
      "[34]\tvalid_0's l2: 46.2304\n",
      "Training until validation scores don't improve for 50 rounds\n",
      "[50]\tvalid_0's l2: 46.0662\n"
     ]
    },
    {
     "name": "stderr",
     "output_type": "stream",
     "text": [
      "[I 2025-04-04 06:12:50,576] Trial 37 finished with value: 6.772151422351057 and parameters: {'learning_rate': 0.052436013944416625, 'max_depth': 15, 'num_leaves': 31, 'feature_fraction': 0.7966173297523231, 'bagging_fraction': 0.957220267706503, 'lambda_l1': 0.3813419996751207, 'lambda_l2': 0.35763018229959576}. Best is trial 34 with value: 6.747184006591148.\n",
      "[I 2025-04-04 06:12:50,737] Trial 38 finished with value: 6.81729125791339 and parameters: {'learning_rate': 0.0711008823467451, 'max_depth': 13, 'num_leaves': 41, 'feature_fraction': 0.7591632079771808, 'bagging_fraction': 0.7800501984169761, 'lambda_l1': 0.15805711447421922, 'lambda_l2': 0.23591437603233295}. Best is trial 34 with value: 6.747184006591148.\n"
     ]
    },
    {
     "name": "stdout",
     "output_type": "stream",
     "text": [
      "[100]\tvalid_0's l2: 46.7933\n",
      "Early stopping, best iteration is:\n",
      "[56]\tvalid_0's l2: 45.862\n",
      "Training until validation scores don't improve for 50 rounds\n",
      "[50]\tvalid_0's l2: 46.9418\n",
      "Early stopping, best iteration is:\n",
      "[39]\tvalid_0's l2: 46.4755\n"
     ]
    },
    {
     "name": "stderr",
     "output_type": "stream",
     "text": [
      "[I 2025-04-04 06:12:50,916] Trial 39 finished with value: 6.832086908875395 and parameters: {'learning_rate': 0.09000014799104458, 'max_depth': 12, 'num_leaves': 40, 'feature_fraction': 0.8151026496656614, 'bagging_fraction': 0.865137277725713, 'lambda_l1': 0.434311107573264, 'lambda_l2': 0.5117942932732396}. Best is trial 34 with value: 6.747184006591148.\n"
     ]
    },
    {
     "name": "stdout",
     "output_type": "stream",
     "text": [
      "Training until validation scores don't improve for 50 rounds\n",
      "[50]\tvalid_0's l2: 47.8024\n",
      "Early stopping, best iteration is:\n",
      "[32]\tvalid_0's l2: 46.6774\n",
      "Training until validation scores don't improve for 50 rounds\n"
     ]
    },
    {
     "name": "stderr",
     "output_type": "stream",
     "text": [
      "[I 2025-04-04 06:12:51,082] Trial 40 finished with value: 6.753527089189279 and parameters: {'learning_rate': 0.06425502419955312, 'max_depth': 9, 'num_leaves': 20, 'feature_fraction': 0.8287548148690409, 'bagging_fraction': 0.7330808883297018, 'lambda_l1': 0.323664221070133, 'lambda_l2': 0.1583113685131613}. Best is trial 34 with value: 6.747184006591148.\n"
     ]
    },
    {
     "name": "stdout",
     "output_type": "stream",
     "text": [
      "[50]\tvalid_0's l2: 45.6101\n",
      "[100]\tvalid_0's l2: 46.3509\n",
      "Early stopping, best iteration is:\n",
      "[50]\tvalid_0's l2: 45.6101\n",
      "Training until validation scores don't improve for 50 rounds\n",
      "[50]\tvalid_0's l2: 45.5005\n",
      "[100]\tvalid_0's l2: 45.9649\n",
      "Early stopping, best iteration is:\n",
      "[50]\tvalid_0's l2: 45.5005\n"
     ]
    },
    {
     "name": "stderr",
     "output_type": "stream",
     "text": [
      "[I 2025-04-04 06:12:51,222] Trial 41 finished with value: 6.745403668665684 and parameters: {'learning_rate': 0.06537575194489723, 'max_depth': 9, 'num_leaves': 20, 'feature_fraction': 0.837475186824348, 'bagging_fraction': 0.7242892139639507, 'lambda_l1': 0.33560140361466395, 'lambda_l2': 0.1602829481285089}. Best is trial 41 with value: 6.745403668665684.\n",
      "[I 2025-04-04 06:12:51,355] Trial 42 finished with value: 6.787384233220964 and parameters: {'learning_rate': 0.06602051074442826, 'max_depth': 9, 'num_leaves': 20, 'feature_fraction': 0.8721065637514532, 'bagging_fraction': 0.7327576682201392, 'lambda_l1': 0.33264775351242803, 'lambda_l2': 0.16005644327635696}. Best is trial 41 with value: 6.745403668665684.\n"
     ]
    },
    {
     "name": "stdout",
     "output_type": "stream",
     "text": [
      "Training until validation scores don't improve for 50 rounds\n",
      "[50]\tvalid_0's l2: 46.1893\n",
      "Early stopping, best iteration is:\n",
      "[44]\tvalid_0's l2: 46.0686\n",
      "Training until validation scores don't improve for 50 rounds\n",
      "[50]\tvalid_0's l2: 46.5903\n",
      "Early stopping, best iteration is:\n",
      "[31]\tvalid_0's l2: 46.0109\n"
     ]
    },
    {
     "name": "stderr",
     "output_type": "stream",
     "text": [
      "[I 2025-04-04 06:12:51,491] Trial 43 finished with value: 6.78313589992818 and parameters: {'learning_rate': 0.07716691990511439, 'max_depth': 9, 'num_leaves': 26, 'feature_fraction': 0.8276488548021824, 'bagging_fraction': 0.6921964145274293, 'lambda_l1': 0.4977754016664503, 'lambda_l2': 0.009054724006480525}. Best is trial 41 with value: 6.745403668665684.\n",
      "[I 2025-04-04 06:12:51,692] Trial 44 finished with value: 6.75095230515867 and parameters: {'learning_rate': 0.05372206632606481, 'max_depth': 10, 'num_leaves': 29, 'feature_fraction': 0.842290508796875, 'bagging_fraction': 0.7493917509119612, 'lambda_l1': 0.3066705038247932, 'lambda_l2': 0.06959159253872317}. Best is trial 41 with value: 6.745403668665684.\n"
     ]
    },
    {
     "name": "stdout",
     "output_type": "stream",
     "text": [
      "Training until validation scores don't improve for 50 rounds\n",
      "[50]\tvalid_0's l2: 45.7915\n",
      "[100]\tvalid_0's l2: 46.1934\n",
      "Early stopping, best iteration is:\n",
      "[68]\tvalid_0's l2: 45.5754\n",
      "Training until validation scores don't improve for 50 rounds\n"
     ]
    },
    {
     "name": "stderr",
     "output_type": "stream",
     "text": [
      "[I 2025-04-04 06:12:51,860] Trial 45 finished with value: 6.801433416488736 and parameters: {'learning_rate': 0.05101014300627137, 'max_depth': 10, 'num_leaves': 28, 'feature_fraction': 0.84434735748898, 'bagging_fraction': 0.7475726679120398, 'lambda_l1': 0.30000399382138543, 'lambda_l2': 0.06105418194614495}. Best is trial 41 with value: 6.745403668665684.\n"
     ]
    },
    {
     "name": "stdout",
     "output_type": "stream",
     "text": [
      "[50]\tvalid_0's l2: 46.3102\n",
      "Early stopping, best iteration is:\n",
      "[48]\tvalid_0's l2: 46.2595\n",
      "Training until validation scores don't improve for 50 rounds\n",
      "[50]\tvalid_0's l2: 45.8977\n",
      "[100]\tvalid_0's l2: 46.3768\n",
      "Early stopping, best iteration is:\n",
      "[62]\tvalid_0's l2: 45.7983\n"
     ]
    },
    {
     "name": "stderr",
     "output_type": "stream",
     "text": [
      "[I 2025-04-04 06:12:52,009] Trial 46 finished with value: 6.767440516048892 and parameters: {'learning_rate': 0.0570021021595054, 'max_depth': 11, 'num_leaves': 23, 'feature_fraction': 0.8623555893487432, 'bagging_fraction': 0.7038529037780511, 'lambda_l1': 0.3588956039935724, 'lambda_l2': 0.08915551765107815}. Best is trial 41 with value: 6.745403668665684.\n",
      "[I 2025-04-04 06:12:52,165] Trial 47 finished with value: 6.77192181655742 and parameters: {'learning_rate': 0.06815604503906075, 'max_depth': 9, 'num_leaves': 31, 'feature_fraction': 0.8364043633923232, 'bagging_fraction': 0.6615986248166186, 'lambda_l1': 0.4241135635849704, 'lambda_l2': 0.1487376589005321}. Best is trial 41 with value: 6.745403668665684.\n"
     ]
    },
    {
     "name": "stdout",
     "output_type": "stream",
     "text": [
      "Training until validation scores don't improve for 50 rounds\n",
      "[50]\tvalid_0's l2: 46.0925\n",
      "Early stopping, best iteration is:\n",
      "[35]\tvalid_0's l2: 45.8589\n",
      "Training until validation scores don't improve for 50 rounds\n"
     ]
    },
    {
     "name": "stderr",
     "output_type": "stream",
     "text": [
      "[I 2025-04-04 06:12:52,336] Trial 48 finished with value: 6.739535882874794 and parameters: {'learning_rate': 0.06251580236043426, 'max_depth': 12, 'num_leaves': 20, 'feature_fraction': 0.8952960871922747, 'bagging_fraction': 0.7659191186499161, 'lambda_l1': 0.47797436813921823, 'lambda_l2': 0.1760151517917759}. Best is trial 48 with value: 6.739535882874794.\n"
     ]
    },
    {
     "name": "stdout",
     "output_type": "stream",
     "text": [
      "[50]\tvalid_0's l2: 45.5483\n",
      "[100]\tvalid_0's l2: 46.3548\n",
      "Early stopping, best iteration is:\n",
      "[53]\tvalid_0's l2: 45.4213\n",
      "Training until validation scores don't improve for 50 rounds\n",
      "[50]\tvalid_0's l2: 46.8086\n"
     ]
    },
    {
     "name": "stderr",
     "output_type": "stream",
     "text": [
      "[I 2025-04-04 06:12:52,523] Trial 49 finished with value: 6.826259914645867 and parameters: {'learning_rate': 0.045167791992486814, 'max_depth': 12, 'num_leaves': 37, 'feature_fraction': 0.8963704634299611, 'bagging_fraction': 0.7699696821567114, 'lambda_l1': 0.5505842388935799, 'lambda_l2': 0.05314147678132018}. Best is trial 48 with value: 6.739535882874794.\n"
     ]
    },
    {
     "name": "stdout",
     "output_type": "stream",
     "text": [
      "[100]\tvalid_0's l2: 47.3944\n",
      "Early stopping, best iteration is:\n",
      "[62]\tvalid_0's l2: 46.5978\n",
      "Best Parameters Found:\n",
      "{'learning_rate': 0.06251580236043426, 'max_depth': 12, 'num_leaves': 20, 'feature_fraction': 0.8952960871922747, 'bagging_fraction': 0.7659191186499161, 'lambda_l1': 0.47797436813921823, 'lambda_l2': 0.1760151517917759}\n"
     ]
    }
   ],
   "source": [
    "\n",
    "\n",
    "# Define the objective function for Optuna\n",
    "def objective(trial):\n",
    "    params = {\n",
    "        'learning_rate': trial.suggest_float('learning_rate', 0.005, 0.1),\n",
    "        'max_depth': trial.suggest_int('max_depth', 6, 16),\n",
    "        'num_leaves': trial.suggest_int('num_leaves', 20, 100),\n",
    "        'feature_fraction': trial.suggest_float('feature_fraction', 0.7, 1.0),\n",
    "        'bagging_fraction': trial.suggest_float('bagging_fraction', 0.6, 1.0),\n",
    "        'lambda_l1': trial.suggest_float('lambda_l1', 0.0, 1.0),\n",
    "        'lambda_l2': trial.suggest_float('lambda_l2', 0.0, 1.0),\n",
    "        'n_estimators': 300,  # Keeping fixed\n",
    "        'random_state': 42\n",
    "    }\n",
    "\n",
    "    # Train LightGBM model\n",
    "    lgb_model = LGBMRegressor(**params)\n",
    "    lgb_model.fit(\n",
    "        X_train, y_train,\n",
    "        eval_set=[(X_test, y_test)],\n",
    "        callbacks=[\n",
    "            lgb.early_stopping(50),  #  Correct early stopping\n",
    "            lgb.log_evaluation(50)   #  Fix: Use `log_evaluation()` instead of `verbose`\n",
    "        ]\n",
    "    )\n",
    "\n",
    "    # Predict on the test set\n",
    "    y_pred = lgb_model.predict(X_test)\n",
    "    return mean_squared_error(y_test, y_pred) ** 0.5  # Return RMSE\n",
    "\n",
    "# Run Optuna optimization\n",
    "study = optuna.create_study(direction=\"minimize\")\n",
    "study.optimize(objective, n_trials=50)\n",
    "\n",
    "# Display best parameters\n",
    "print(\"Best Parameters Found:\")\n",
    "print(study.best_params)\n"
   ]
  },
  {
   "cell_type": "code",
   "execution_count": 56,
   "id": "928f9c64-7c5d-46ff-a353-e663d0877902",
   "metadata": {},
   "outputs": [
    {
     "name": "stdout",
     "output_type": "stream",
     "text": [
      "Training CatBoost for Shipment Mode: 0\n",
      "Training CatBoost for Shipment Mode: 1\n",
      "CatBoost Results:\n",
      "        MAE      RMSE  R2 Score  \\\n",
      "0  0.084818  0.099172  0.351516   \n",
      "1  6.407238   7.61806  0.379256   \n",
      "\n",
      "                                         Predictions  \n",
      "0  [5.139936693333889, 5.231611806921118, 5.24510...  \n",
      "1  [18.840295746303937, 24.8982681742756, 22.6093...  \n"
     ]
    }
   ],
   "source": [
    "# Dictionary to store CatBoost results\n",
    "catboost_results_by_mode = {}\n",
    "\n",
    "# Train CatBoost for each shipment mode\n",
    "for mode in shipment_modes:\n",
    "    print(f\"Training CatBoost for Shipment Mode: {mode}\")\n",
    "\n",
    "    # Filter data\n",
    "    X_train_mode = X_train[X_train['shipment_mode'] == mode].drop(columns=['shipment_mode'])\n",
    "    y_train_mode = y_train[X_train['shipment_mode'] == mode]\n",
    "    X_test_mode = X_test[X_test['shipment_mode'] == mode].drop(columns=['shipment_mode'], errors='ignore')\n",
    "\n",
    "    # Train CatBoost model\n",
    "    catboost_model = CatBoostRegressor(n_estimators=200, learning_rate=0.05, depth=8, random_state=42, verbose=0)\n",
    "    catboost_model.fit(X_train_mode, y_train_mode)\n",
    "\n",
    "    # Predict on test set\n",
    "    y_pred_catboost = catboost_model.predict(X_test_mode)\n",
    "\n",
    "    # Predict on train set for evaluation\n",
    "    y_train_pred_catboost = catboost_model.predict(X_train_mode)\n",
    "\n",
    "    # Evaluate performance\n",
    "    catboost_mae = mean_absolute_error(y_train_mode, y_train_pred_catboost)\n",
    "    catboost_rmse = mean_squared_error(y_train_mode, y_train_pred_catboost) ** 0.5\n",
    "    catboost_r2 = r2_score(y_train_mode, y_train_pred_catboost)\n",
    "\n",
    "    # Store results\n",
    "    catboost_results_by_mode[mode] = {\n",
    "        \"MAE\": catboost_mae,\n",
    "        \"RMSE\": catboost_rmse,\n",
    "        \"R2 Score\": catboost_r2,\n",
    "        \"Predictions\": y_pred_catboost[:10]\n",
    "    }\n",
    "\n",
    "# Convert results to DataFrame and display\n",
    "catboost_results_df = pd.DataFrame(catboost_results_by_mode).T\n",
    "print(\"CatBoost Results:\")\n",
    "print(catboost_results_df)\n"
   ]
  },
  {
   "cell_type": "code",
   "execution_count": 57,
   "id": "5948d1b1-1d31-4c88-a40e-a386006927e0",
   "metadata": {},
   "outputs": [
    {
     "name": "stderr",
     "output_type": "stream",
     "text": [
      "[I 2025-04-04 06:12:54,623] A new study created in memory with name: no-name-208736b1-8d37-4b67-99d0-06dc1aa13fd7\n",
      "[I 2025-04-04 06:12:58,845] Trial 0 finished with value: 6.861175939532955 and parameters: {'learning_rate': 0.07328394421654758, 'depth': 12, 'l2_leaf_reg': 2.1873451619335325, 'random_strength': 0.6683699061229252, 'bagging_temperature': 0.171839144406298}. Best is trial 0 with value: 6.861175939532955.\n",
      "[I 2025-04-04 06:13:03,010] Trial 1 finished with value: 6.828157226182661 and parameters: {'learning_rate': 0.009713504953655326, 'depth': 11, 'l2_leaf_reg': 4.80663429883273, 'random_strength': 1.3877390055286238, 'bagging_temperature': 0.7020389754496457}. Best is trial 1 with value: 6.828157226182661.\n",
      "[I 2025-04-04 06:13:10,476] Trial 2 finished with value: 6.906511340937925 and parameters: {'learning_rate': 0.04002718097641672, 'depth': 12, 'l2_leaf_reg': 6.356387549014489, 'random_strength': 0.2941564960421642, 'bagging_temperature': 0.29864440268881376}. Best is trial 1 with value: 6.828157226182661.\n",
      "[I 2025-04-04 06:13:11,156] Trial 3 finished with value: 6.777550783504257 and parameters: {'learning_rate': 0.04514016537545962, 'depth': 8, 'l2_leaf_reg': 7.133216279468984, 'random_strength': 1.4363237424987572, 'bagging_temperature': 0.15397165583423145}. Best is trial 3 with value: 6.777550783504257.\n",
      "[I 2025-04-04 06:13:14,237] Trial 4 finished with value: 6.834479410917631 and parameters: {'learning_rate': 0.010305564565101556, 'depth': 10, 'l2_leaf_reg': 9.589365407295363, 'random_strength': 0.5649894350060187, 'bagging_temperature': 0.4727815572110442}. Best is trial 3 with value: 6.777550783504257.\n",
      "[I 2025-04-04 06:13:14,700] Trial 5 finished with value: 6.767324834110533 and parameters: {'learning_rate': 0.04742081139102133, 'depth': 5, 'l2_leaf_reg': 7.296751768758335, 'random_strength': 1.434704051351414, 'bagging_temperature': 0.923796429017472}. Best is trial 5 with value: 6.767324834110533.\n",
      "[I 2025-04-04 06:13:15,817] Trial 6 finished with value: 6.785330319454152 and parameters: {'learning_rate': 0.0845290633276278, 'depth': 10, 'l2_leaf_reg': 6.385201383739342, 'random_strength': 1.3863433385435524, 'bagging_temperature': 0.3300491980070618}. Best is trial 5 with value: 6.767324834110533.\n",
      "[I 2025-04-04 06:13:16,533] Trial 7 finished with value: 6.803809813824895 and parameters: {'learning_rate': 0.09230864502280309, 'depth': 9, 'l2_leaf_reg': 1.7295271479671483, 'random_strength': 1.4945891045239577, 'bagging_temperature': 0.17127392008301145}. Best is trial 5 with value: 6.767324834110533.\n",
      "[I 2025-04-04 06:13:19,021] Trial 8 finished with value: 6.863341965514313 and parameters: {'learning_rate': 0.06217188920288553, 'depth': 11, 'l2_leaf_reg': 3.1357045020185117, 'random_strength': 0.8163980359523306, 'bagging_temperature': 0.32941933796199185}. Best is trial 5 with value: 6.767324834110533.\n",
      "[I 2025-04-04 06:13:20,836] Trial 9 finished with value: 6.794850912220863 and parameters: {'learning_rate': 0.03806419130224994, 'depth': 10, 'l2_leaf_reg': 4.001363171626275, 'random_strength': 1.6468599567884776, 'bagging_temperature': 0.7475781968763849}. Best is trial 5 with value: 6.767324834110533.\n",
      "[I 2025-04-04 06:13:21,465] Trial 10 finished with value: 6.748052069936568 and parameters: {'learning_rate': 0.027460624692599026, 'depth': 4, 'l2_leaf_reg': 8.763696733469406, 'random_strength': 1.9763163412065285, 'bagging_temperature': 0.9032804457752889}. Best is trial 10 with value: 6.748052069936568.\n",
      "[I 2025-04-04 06:13:22,021] Trial 11 finished with value: 6.77225000494109 and parameters: {'learning_rate': 0.026348533349358827, 'depth': 4, 'l2_leaf_reg': 8.817107022565887, 'random_strength': 1.9608530359857856, 'bagging_temperature': 0.9823418482952269}. Best is trial 10 with value: 6.748052069936568.\n",
      "[I 2025-04-04 06:13:22,557] Trial 12 finished with value: 6.770840282275553 and parameters: {'learning_rate': 0.029501776299605577, 'depth': 4, 'l2_leaf_reg': 8.00052712975045, 'random_strength': 1.9783020199121664, 'bagging_temperature': 0.9806337270477072}. Best is trial 10 with value: 6.748052069936568.\n",
      "[I 2025-04-04 06:13:22,983] Trial 13 finished with value: 6.758947088696557 and parameters: {'learning_rate': 0.05832852073685897, 'depth': 6, 'l2_leaf_reg': 8.12000941588679, 'random_strength': 1.1040186995584396, 'bagging_temperature': 0.786068346941992}. Best is trial 10 with value: 6.748052069936568.\n",
      "[I 2025-04-04 06:13:23,404] Trial 14 finished with value: 6.749071727865027 and parameters: {'learning_rate': 0.06184809797436733, 'depth': 6, 'l2_leaf_reg': 9.38626695234828, 'random_strength': 1.0445198335991903, 'bagging_temperature': 0.7380315602347414}. Best is trial 10 with value: 6.748052069936568.\n",
      "[I 2025-04-04 06:13:24,049] Trial 15 finished with value: 6.78032353796278 and parameters: {'learning_rate': 0.06914450662292616, 'depth': 7, 'l2_leaf_reg': 9.74321561768348, 'random_strength': 1.0654853075132913, 'bagging_temperature': 0.6355163417205281}. Best is trial 10 with value: 6.748052069936568.\n",
      "[I 2025-04-04 06:13:24,887] Trial 16 finished with value: 6.76645007409021 and parameters: {'learning_rate': 0.022926909213613615, 'depth': 6, 'l2_leaf_reg': 9.945022723631535, 'random_strength': 1.7462639994211244, 'bagging_temperature': 0.5622065259956103}. Best is trial 10 with value: 6.748052069936568.\n",
      "[I 2025-04-04 06:13:25,345] Trial 17 finished with value: 6.78417831381197 and parameters: {'learning_rate': 0.07784059890718809, 'depth': 5, 'l2_leaf_reg': 8.69418964474676, 'random_strength': 1.1612254595849212, 'bagging_temperature': 0.8658549498045897}. Best is trial 10 with value: 6.748052069936568.\n",
      "[I 2025-04-04 06:13:25,734] Trial 18 finished with value: 6.7949725075372 and parameters: {'learning_rate': 0.09971798917984509, 'depth': 7, 'l2_leaf_reg': 5.8383447066302505, 'random_strength': 0.11960083029447066, 'bagging_temperature': 0.002481760755706941}. Best is trial 10 with value: 6.748052069936568.\n",
      "[I 2025-04-04 06:13:26,131] Trial 19 finished with value: 6.783842641685971 and parameters: {'learning_rate': 0.054636645502340715, 'depth': 5, 'l2_leaf_reg': 8.908857068242765, 'random_strength': 0.8825421816237118, 'bagging_temperature': 0.8371894395675732}. Best is trial 10 with value: 6.748052069936568.\n",
      "[I 2025-04-04 06:13:27,148] Trial 20 finished with value: 6.76245524567303 and parameters: {'learning_rate': 0.01737801050060784, 'depth': 6, 'l2_leaf_reg': 7.605673243956425, 'random_strength': 1.186816442101765, 'bagging_temperature': 0.6418238139978519}. Best is trial 10 with value: 6.748052069936568.\n",
      "[I 2025-04-04 06:13:27,678] Trial 21 finished with value: 6.770789543002027 and parameters: {'learning_rate': 0.05646390963075613, 'depth': 6, 'l2_leaf_reg': 8.468461421507595, 'random_strength': 0.937111854374859, 'bagging_temperature': 0.7895884226474875}. Best is trial 10 with value: 6.748052069936568.\n",
      "[I 2025-04-04 06:13:28,316] Trial 22 finished with value: 6.773468891125339 and parameters: {'learning_rate': 0.0627079517346373, 'depth': 7, 'l2_leaf_reg': 8.11711647304393, 'random_strength': 0.5275962133444874, 'bagging_temperature': 0.8315371207358878}. Best is trial 10 with value: 6.748052069936568.\n",
      "[I 2025-04-04 06:13:28,926] Trial 23 finished with value: 6.748859283591723 and parameters: {'learning_rate': 0.03414687637104938, 'depth': 4, 'l2_leaf_reg': 9.168938192227898, 'random_strength': 1.7539493656608995, 'bagging_temperature': 0.5059340996389986}. Best is trial 10 with value: 6.748052069936568.\n",
      "[I 2025-04-04 06:13:29,660] Trial 24 finished with value: 6.748317678518425 and parameters: {'learning_rate': 0.03398387116012158, 'depth': 4, 'l2_leaf_reg': 9.227547586807802, 'random_strength': 1.7747420700095855, 'bagging_temperature': 0.5135034878077814}. Best is trial 10 with value: 6.748052069936568.\n",
      "[I 2025-04-04 06:13:30,260] Trial 25 finished with value: 6.753723303556675 and parameters: {'learning_rate': 0.03550539288895147, 'depth': 4, 'l2_leaf_reg': 6.82013744833125, 'random_strength': 1.7908915977897113, 'bagging_temperature': 0.4640181060921986}. Best is trial 10 with value: 6.748052069936568.\n",
      "[I 2025-04-04 06:13:31,047] Trial 26 finished with value: 6.769694704159747 and parameters: {'learning_rate': 0.01903244070151988, 'depth': 4, 'l2_leaf_reg': 5.400146355853101, 'random_strength': 1.801798114785212, 'bagging_temperature': 0.4088923783352772}. Best is trial 10 with value: 6.748052069936568.\n",
      "[I 2025-04-04 06:13:31,796] Trial 27 finished with value: 6.768418550463852 and parameters: {'learning_rate': 0.031544575462032605, 'depth': 5, 'l2_leaf_reg': 9.148628187603098, 'random_strength': 1.6463925477486776, 'bagging_temperature': 0.6277571648485729}. Best is trial 10 with value: 6.748052069936568.\n",
      "[I 2025-04-04 06:13:32,290] Trial 28 finished with value: 6.743657832552301 and parameters: {'learning_rate': 0.045968031161434234, 'depth': 4, 'l2_leaf_reg': 9.21092601472182, 'random_strength': 1.889896846543572, 'bagging_temperature': 0.5535981594596924}. Best is trial 28 with value: 6.743657832552301.\n",
      "[I 2025-04-04 06:13:32,959] Trial 29 finished with value: 6.753439054186726 and parameters: {'learning_rate': 0.04444357631789639, 'depth': 5, 'l2_leaf_reg': 7.527628302624443, 'random_strength': 1.9955526904373517, 'bagging_temperature': 0.5677565747868275}. Best is trial 28 with value: 6.743657832552301.\n",
      "[I 2025-04-04 06:13:33,437] Trial 30 finished with value: 6.768539430520361 and parameters: {'learning_rate': 0.05116426599886258, 'depth': 4, 'l2_leaf_reg': 1.0289295824087672, 'random_strength': 1.8679734400990984, 'bagging_temperature': 0.257596911489116}. Best is trial 28 with value: 6.743657832552301.\n",
      "[I 2025-04-04 06:13:34,083] Trial 31 finished with value: 6.772544852154646 and parameters: {'learning_rate': 0.03618643349985019, 'depth': 4, 'l2_leaf_reg': 9.998273265250866, 'random_strength': 1.6134565313446259, 'bagging_temperature': 0.406737102597752}. Best is trial 28 with value: 6.743657832552301.\n",
      "[I 2025-04-04 06:13:34,962] Trial 32 finished with value: 6.763321633334337 and parameters: {'learning_rate': 0.01642276320785315, 'depth': 5, 'l2_leaf_reg': 9.247266736394126, 'random_strength': 1.8798036553325375, 'bagging_temperature': 0.541102132370662}. Best is trial 28 with value: 6.743657832552301.\n",
      "[I 2025-04-04 06:13:35,744] Trial 33 finished with value: 7.034830901286434 and parameters: {'learning_rate': 0.005460839221334092, 'depth': 4, 'l2_leaf_reg': 8.44412523761931, 'random_strength': 1.6920478179850913, 'bagging_temperature': 0.4063418524455097}. Best is trial 28 with value: 6.743657832552301.\n",
      "[I 2025-04-04 06:13:36,378] Trial 34 finished with value: 6.759128441121407 and parameters: {'learning_rate': 0.03097004825589962, 'depth': 5, 'l2_leaf_reg': 9.229442388172185, 'random_strength': 1.281100993584607, 'bagging_temperature': 0.678289664073828}. Best is trial 28 with value: 6.743657832552301.\n",
      "[I 2025-04-04 06:13:36,826] Trial 35 finished with value: 6.766377914178169 and parameters: {'learning_rate': 0.04043385925563836, 'depth': 4, 'l2_leaf_reg': 7.750849387705655, 'random_strength': 1.5189281543590514, 'bagging_temperature': 0.5302085752416286}. Best is trial 28 with value: 6.743657832552301.\n",
      "[I 2025-04-04 06:13:37,279] Trial 36 finished with value: 6.763266609723328 and parameters: {'learning_rate': 0.0487815449198894, 'depth': 5, 'l2_leaf_reg': 6.801648991728459, 'random_strength': 1.8581702573952041, 'bagging_temperature': 0.4832244954632372}. Best is trial 28 with value: 6.743657832552301.\n",
      "[I 2025-04-04 06:13:38,011] Trial 37 finished with value: 6.804662284568236 and parameters: {'learning_rate': 0.043151845746336744, 'depth': 8, 'l2_leaf_reg': 4.558523915441444, 'random_strength': 1.5699532081261347, 'bagging_temperature': 0.24263867327583133}. Best is trial 28 with value: 6.743657832552301.\n",
      "[I 2025-04-04 06:13:38,777] Trial 38 finished with value: 6.771969519342122 and parameters: {'learning_rate': 0.02167476799595068, 'depth': 4, 'l2_leaf_reg': 9.506121658620351, 'random_strength': 1.8947526658247282, 'bagging_temperature': 0.06477818913000366}. Best is trial 28 with value: 6.743657832552301.\n",
      "[I 2025-04-04 06:13:39,609] Trial 39 finished with value: 6.778326258301556 and parameters: {'learning_rate': 0.012764845134227668, 'depth': 5, 'l2_leaf_reg': 8.43759262958709, 'random_strength': 1.3134884649349632, 'bagging_temperature': 0.596177781133884}. Best is trial 28 with value: 6.743657832552301.\n",
      "[I 2025-04-04 06:13:40,803] Trial 40 finished with value: 6.783757874462762 and parameters: {'learning_rate': 0.025082713874755094, 'depth': 8, 'l2_leaf_reg': 7.079623265270924, 'random_strength': 1.7503982765770427, 'bagging_temperature': 0.44913068901843567}. Best is trial 28 with value: 6.743657832552301.\n",
      "[I 2025-04-04 06:13:41,275] Trial 41 finished with value: 6.740770912194832 and parameters: {'learning_rate': 0.06936437222118921, 'depth': 6, 'l2_leaf_reg': 9.487358831566919, 'random_strength': 0.7224926692362129, 'bagging_temperature': 0.7231416899656371}. Best is trial 41 with value: 6.740770912194832.\n",
      "[I 2025-04-04 06:13:41,645] Trial 42 finished with value: 6.7569976773293385 and parameters: {'learning_rate': 0.07772542417331818, 'depth': 4, 'l2_leaf_reg': 8.935284750892588, 'random_strength': 0.40292496051862925, 'bagging_temperature': 0.7061371746940815}. Best is trial 41 with value: 6.740770912194832.\n",
      "[I 2025-04-04 06:13:42,242] Trial 43 finished with value: 6.770732739304816 and parameters: {'learning_rate': 0.034293300670978785, 'depth': 5, 'l2_leaf_reg': 9.507863421082801, 'random_strength': 0.695454156322838, 'bagging_temperature': 0.9077745983571855}. Best is trial 41 with value: 6.740770912194832.\n",
      "[I 2025-04-04 06:13:47,698] Trial 44 finished with value: 6.8256826787862455 and parameters: {'learning_rate': 0.04086513449672813, 'depth': 12, 'l2_leaf_reg': 9.994775028262515, 'random_strength': 0.7202945134389626, 'bagging_temperature': 0.37215591819572086}. Best is trial 41 with value: 6.740770912194832.\n",
      "[I 2025-04-04 06:13:48,560] Trial 45 finished with value: 6.765224593681177 and parameters: {'learning_rate': 0.02715623991663325, 'depth': 6, 'l2_leaf_reg': 8.022315914724238, 'random_strength': 1.9328875199667352, 'bagging_temperature': 0.4981002418919839}. Best is trial 41 with value: 6.740770912194832.\n",
      "[I 2025-04-04 06:13:48,935] Trial 46 finished with value: 6.768501761145206 and parameters: {'learning_rate': 0.06917184447989663, 'depth': 4, 'l2_leaf_reg': 3.0554388633871095, 'random_strength': 1.6987655222333669, 'bagging_temperature': 0.693456433748067}. Best is trial 41 with value: 6.740770912194832.\n",
      "[I 2025-04-04 06:13:49,965] Trial 47 finished with value: 6.814891938905555 and parameters: {'learning_rate': 0.04594044035526941, 'depth': 9, 'l2_leaf_reg': 8.775123863072924, 'random_strength': 1.4176046175598969, 'bagging_temperature': 0.7626345981789088}. Best is trial 41 with value: 6.740770912194832.\n",
      "[I 2025-04-04 06:13:50,813] Trial 48 finished with value: 6.793656951253413 and parameters: {'learning_rate': 0.05211414273658223, 'depth': 7, 'l2_leaf_reg': 9.560891222927335, 'random_strength': 0.5010163084035133, 'bagging_temperature': 0.9275688067680589}. Best is trial 41 with value: 6.740770912194832.\n",
      "[I 2025-04-04 06:13:51,225] Trial 49 finished with value: 6.769881289690923 and parameters: {'learning_rate': 0.08533131846832295, 'depth': 4, 'l2_leaf_reg': 8.41928199346443, 'random_strength': 1.7927311390158904, 'bagging_temperature': 0.5977791786780378}. Best is trial 41 with value: 6.740770912194832.\n"
     ]
    },
    {
     "name": "stdout",
     "output_type": "stream",
     "text": [
      " Best Parameters Found for CatBoost:\n",
      "{'learning_rate': 0.06936437222118921, 'depth': 6, 'l2_leaf_reg': 9.487358831566919, 'random_strength': 0.7224926692362129, 'bagging_temperature': 0.7231416899656371}\n"
     ]
    }
   ],
   "source": [
    "\n",
    "\n",
    "# Define the objective function for Optuna\n",
    "def objective(trial):\n",
    "    params = {\n",
    "        'iterations': 300,  # Number of boosting iterations\n",
    "        'learning_rate': trial.suggest_float('learning_rate', 0.005, 0.1),\n",
    "        'depth': trial.suggest_int('depth', 4, 12),\n",
    "        'l2_leaf_reg': trial.suggest_float('l2_leaf_reg', 1, 10),\n",
    "        'random_strength': trial.suggest_float('random_strength', 0.1, 2.0),\n",
    "        'bagging_temperature': trial.suggest_float('bagging_temperature', 0.0, 1.0),\n",
    "        'od_type': 'Iter',\n",
    "        'od_wait': 20,\n",
    "        'loss_function': 'RMSE',\n",
    "        'eval_metric': 'RMSE',\n",
    "        'verbose': 0\n",
    "    }\n",
    "\n",
    "    # Train CatBoost model\n",
    "    cat_model = CatBoostRegressor(**params, random_seed=42)\n",
    "    cat_model.fit(X_train, y_train, eval_set=(X_test, y_test), early_stopping_rounds=50, verbose=0)\n",
    "\n",
    "    # Predict on test set\n",
    "    y_pred = cat_model.predict(X_test)\n",
    "    return mean_squared_error(y_test, y_pred) ** 0.5  # RMSE\n",
    "\n",
    "# Run Optuna optimization\n",
    "study = optuna.create_study(direction=\"minimize\")\n",
    "study.optimize(objective, n_trials=50)\n",
    "\n",
    "# Display best parameters\n",
    "print(\" Best Parameters Found for CatBoost:\")\n",
    "print(study.best_params)\n"
   ]
  },
  {
   "cell_type": "code",
   "execution_count": 58,
   "id": "7cef33e8-c783-4147-a378-70d4791d50cd",
   "metadata": {},
   "outputs": [
    {
     "name": "stdout",
     "output_type": "stream",
     "text": [
      "0:\tlearn: 9.7336012\ttest: 9.9997538\tbest: 9.9997538 (0)\ttotal: 4.37ms\tremaining: 1.3s\n",
      "50:\tlearn: 6.2016908\ttest: 6.7964241\tbest: 6.7934572 (44)\ttotal: 142ms\tremaining: 691ms\n",
      "Stopped by overfitting detector  (50 iterations wait)\n",
      "\n",
      "bestTest = 6.793457187\n",
      "bestIteration = 44\n",
      "\n",
      "Shrink model to first 45 iterations.\n",
      "\n",
      " **Final CatBoost Performance:**\n",
      " **RMSE**: 6.7935\n",
      " **MAE**: 3.9125\n",
      " **R² Score**: 0.5796\n"
     ]
    }
   ],
   "source": [
    "\n",
    "# Use the best parameters found\n",
    "best_cat_params = {\n",
    "    'learning_rate': 0.08571378462450718,\n",
    "    'depth': 6,\n",
    "    'l2_leaf_reg': 7.886787210214747,\n",
    "    'random_strength': 0.45760123155736265,\n",
    "    'bagging_temperature': 0.4885148315925185,\n",
    "    'iterations': 300,  # Number of boosting iterations\n",
    "    'loss_function': 'RMSE',\n",
    "    'eval_metric': 'RMSE',\n",
    "    'verbose': 50,\n",
    "    # 'random_seed': 42\n",
    "}\n",
    "\n",
    "# Initialize and train CatBoost\n",
    "cat_model = CatBoostRegressor(**best_cat_params)\n",
    "cat_model.fit(X_train, y_train, eval_set=(X_test, y_test), early_stopping_rounds=50, verbose=50)\n",
    "\n",
    "# Predict on test set\n",
    "y_pred_cat = cat_model.predict(X_test)\n",
    "\n",
    "# Evaluate model performance\n",
    "cat_mae = mean_absolute_error(y_test, y_pred_cat)\n",
    "cat_rmse = mean_squared_error(y_test, y_pred_cat, squared=False)\n",
    "cat_r2 = r2_score(y_test, y_pred_cat)\n",
    "\n",
    "# Display results\n",
    "print(\"\\n **Final CatBoost Performance:**\")\n",
    "print(f\" **RMSE**: {cat_rmse:.4f}\")\n",
    "print(f\" **MAE**: {cat_mae:.4f}\")\n",
    "print(f\" **R² Score**: {cat_r2:.4f}\")\n"
   ]
  },
  {
   "cell_type": "code",
   "execution_count": null,
   "id": "1c0736d3-8703-48a6-86f1-dfc9981d718f",
   "metadata": {},
   "outputs": [
    {
     "name": "stdout",
     "output_type": "stream",
     "text": [
      "Training Advanced Bidirectional GRU for Shipment Mode: 0\n"
     ]
    }
   ],
   "source": [
    "# Define Advanced Bidirectional GRU Model\n",
    "class AdvancedGRUModel(nn.Module):\n",
    "    def __init__(self, input_dim, hidden_dim=128, output_dim=1, num_layers=4, dropout=0.3):\n",
    "        super(AdvancedGRUModel, self).__init__()\n",
    "        self.gru = nn.GRU(input_dim, hidden_dim, num_layers, dropout=dropout, bidirectional=True, batch_first=True)\n",
    "        self.fc = nn.Linear(hidden_dim * 2, output_dim)  # Multiply hidden_dim by 2 for bidirectional GRU\n",
    "\n",
    "    def forward(self, x):\n",
    "        x = x.unsqueeze(1)  # Add sequence dimension\n",
    "        out, _ = self.gru(x)\n",
    "        out = self.fc(out[:, -1, :])  # Take last time step output\n",
    "        return out\n",
    "\n",
    "# Train Advanced GRU for each shipment mode\n",
    "advanced_gru_results_by_mode = {}\n",
    "\n",
    "for mode in shipment_modes:\n",
    "    print(f\"Training Advanced Bidirectional GRU for Shipment Mode: {mode}\")\n",
    "\n",
    "    # Filter data\n",
    "    X_train_mode = X_train[X_train['shipment_mode'] == mode].drop(columns=['shipment_mode'])\n",
    "    y_train_mode = y_train[X_train['shipment_mode'] == mode]\n",
    "    X_test_mode = X_test[X_test['shipment_mode'] == mode].drop(columns=['shipment_mode'], errors='ignore')\n",
    "\n",
    "    # Convert data to PyTorch tensors\n",
    "    X_train_tensor = torch.tensor(X_train_mode.values, dtype=torch.float32)\n",
    "    y_train_tensor = torch.tensor(y_train_mode.values, dtype=torch.float32).view(-1, 1)\n",
    "    X_test_tensor = torch.tensor(X_test_mode.values, dtype=torch.float32)\n",
    "\n",
    "    # Create DataLoader\n",
    "    batch_size = 16\n",
    "    train_dataset = TensorDataset(X_train_tensor, y_train_tensor)\n",
    "    train_loader = DataLoader(train_dataset, batch_size=batch_size, shuffle=True)\n",
    "\n",
    "    # Initialize model\n",
    "    advanced_gru_model = AdvancedGRUModel(input_dim=X_train_mode.shape[1])\n",
    "    criterion = nn.MSELoss()\n",
    "    optimizer = optim.Adam(advanced_gru_model.parameters(), lr=0.0001)\n",
    "\n",
    "    # Train model\n",
    "    num_epochs = 100\n",
    "    for epoch in range(num_epochs):\n",
    "        for batch_X, batch_y in train_loader:\n",
    "            optimizer.zero_grad()\n",
    "            outputs = advanced_gru_model(batch_X)\n",
    "            loss = criterion(outputs, batch_y)\n",
    "            loss.backward()\n",
    "            optimizer.step()\n",
    "\n",
    "    # Predict on test data\n",
    "    advanced_gru_model.eval()\n",
    "    with torch.no_grad():\n",
    "        y_pred_advanced_gru = advanced_gru_model(X_test_tensor).numpy()\n",
    "\n",
    "    # Predict on train data for evaluation\n",
    "    with torch.no_grad():\n",
    "        y_train_pred_advanced_gru = advanced_gru_model(X_train_tensor).numpy()\n",
    "\n",
    "    # Evaluate performance\n",
    "    advanced_gru_mae = mean_absolute_error(y_train_mode, y_train_pred_advanced_gru)\n",
    "    advanced_gru_rmse = mean_squared_error(y_train_mode, y_train_pred_advanced_gru) ** 0.5\n",
    "    advanced_gru_r2 = r2_score(y_train_mode, y_train_pred_advanced_gru)\n",
    "\n",
    "    # Store results\n",
    "    advanced_gru_results_by_mode[mode] = {\n",
    "        \"MAE\": advanced_gru_mae,\n",
    "        \"RMSE\": advanced_gru_rmse,\n",
    "        \"R2 Score\": advanced_gru_r2,\n",
    "        \"Predictions\": y_pred_advanced_gru[:10]\n",
    "    }\n",
    "\n",
    "# Convert results to DataFrame\n",
    "advanced_gru_results_df = pd.DataFrame(advanced_gru_results_by_mode).T\n",
    "print(\"Advanced GRU Results:\")\n",
    "print(advanced_gru_results_df)\n"
   ]
  },
  {
   "cell_type": "code",
   "execution_count": null,
   "id": "9e9eedf6-cf58-4c26-afe0-4071029c859f",
   "metadata": {},
   "outputs": [],
   "source": [
    "class GNNModel(nn.Module):\n",
    "    def __init__(self, input_dim, hidden_dim=64, output_dim=1, num_layers=2):\n",
    "        super(GNNModel, self).__init__()\n",
    "        self.conv1 = GCNConv(input_dim, hidden_dim)\n",
    "        self.conv2 = GCNConv(hidden_dim, hidden_dim)\n",
    "        self.fc = nn.Linear(hidden_dim, output_dim)\n",
    "    \n",
    "    def forward(self, data):\n",
    "        x, edge_index = data.x, data.edge_index\n",
    "        x = self.conv1(x, edge_index).relu()\n",
    "        x = self.conv2(x, edge_index).relu()\n",
    "        x = self.fc(x)\n",
    "        return x\n",
    "\n",
    "# Initialize Model\n",
    "gnn_model = GNNModel(input_dim=X_train.shape[1])\n",
    "optimizer = optim.Adam(gnn_model.parameters(), lr=0.001)\n",
    "criterion = nn.MSELoss()\n"
   ]
  },
  {
   "cell_type": "code",
   "execution_count": null,
   "id": "661613f7-ccca-42cf-9837-1002e0e958a5",
   "metadata": {},
   "outputs": [],
   "source": [
    "num_epochs = 50\n",
    "\n",
    "for epoch in range(num_epochs):\n",
    "    gnn_model.train()\n",
    "    optimizer.zero_grad()\n",
    "    y_pred = gnn_model(data)\n",
    "    loss = criterion(y_pred.squeeze(), data.y)\n",
    "    loss.backward()\n",
    "    optimizer.step()\n",
    "    \n",
    "    if epoch % 10 == 0:\n",
    "        print(f\"Epoch {epoch}/{num_epochs} - Loss: {loss.item():.4f}\")\n",
    "\n",
    "print(\"\\n GNN Training Completed!\")\n"
   ]
  },
  {
   "cell_type": "code",
   "execution_count": null,
   "id": "ee29260c-ef49-4c50-acd5-1806c3ff47bd",
   "metadata": {},
   "outputs": [],
   "source": [
    "gnn_model.eval()\n",
    "# Convert X_test to tensor\n",
    "X_test_tensor = torch.tensor(X_test.values, dtype=torch.float32)\n",
    "\n",
    "# Create new PyTorch Geometric Data object only for test set\n",
    "test_data = Data(x=X_test_tensor, edge_index=edge_index)\n",
    "\n",
    "# Predict only on test data\n",
    "gnn_model.eval()\n",
    "with torch.no_grad():\n",
    "    y_pred_gnn = gnn_model(test_data).squeeze().numpy()\n",
    "\n",
    "\n",
    "# Evaluate Performance\n",
    "gnn_mae = mean_absolute_error(y_test, y_pred_gnn)\n",
    "gnn_rmse = mean_squared_error(y_test, y_pred_gnn, squared=False)\n",
    "gnn_r2 = r2_score(y_test, y_pred_gnn)\n",
    "\n",
    "# Display results\n",
    "print(\"\\n **Final GNN Performance:**\")\n",
    "print(f\" **RMSE**: {gnn_rmse:.4f}\")\n",
    "print(f\" **MAE**: {gnn_mae:.4f}\")\n",
    "print(f\" **R² Score**: {gnn_r2:.4f}\")\n"
   ]
  },
  {
   "cell_type": "code",
   "execution_count": null,
   "id": "acfc82ec-1d13-4e7b-a5b9-efd936c9750c",
   "metadata": {},
   "outputs": [],
   "source": [
    "from torch_geometric.data import Data\n",
    "from torch_geometric.nn import knn_graph\n",
    "\n",
    "#  Step 1: Combine training and test features\n",
    "X_all = np.concatenate([X_train, X_test], axis=0)\n",
    "\n",
    "#  Step 2: For the labels, I only have y_train — so I fill y_test with zeros\n",
    "y_all = np.concatenate([y_train, np.zeros(len(X_test))], axis=0)\n",
    "\n",
    "#  Step 3: Convert them into PyTorch tensors\n",
    "x_tensor = torch.tensor(X_all, dtype=torch.float32)\n",
    "y_tensor = torch.tensor(y_all, dtype=torch.float32)\n",
    "\n",
    "#  Step 4: Create binary masks to differentiate between training and test sets\n",
    "train_mask = torch.zeros(x_tensor.size(0), dtype=torch.bool)\n",
    "test_mask = torch.zeros(x_tensor.size(0), dtype=torch.bool)\n",
    "train_mask[:len(X_train)] = True\n",
    "test_mask[len(X_train):] = True\n",
    "\n",
    "#  Step 5: Construct the graph using k-Nearest Neighbors (this builds edges between nodes)\n",
    "edge_index = knn_graph(x_tensor, k=5)\n",
    "\n",
    "#  Step 6: Wrap all data into a single PyTorch Geometric Data object\n",
    "data = Data(x=x_tensor, y=y_tensor, edge_index=edge_index,\n",
    "            train_mask=train_mask, test_mask=test_mask)\n",
    "\n",
    "#  Step 7: Sanity check print statements\n",
    "print(f\"x_tensor shape: {x_tensor.shape}\")           # e.g., [6374, 14]\n",
    "print(f\"Model output shape: {gnn_model(data).shape}\")  # e.g., [6374, 1]\n",
    "print(f\"train_mask shape: {data.train_mask.shape}\")  # e.g., [6374]\n",
    "print(f\"y_tensor shape: {data.y.shape}\")             # e.g., [6374]\n",
    "print(len(X_train), len(y_train))                    # e.g., 5341 5341\n",
    "print(len(X_test), len(X_test))                      # e.g., 1033 1033\n",
    "\n",
    "#  Step 8: GNN Training Loop\n",
    "for epoch in range(num_epochs):\n",
    "    gnn_model.train()\n",
    "    optimizer.zero_grad()\n",
    "    out = gnn_model(data).squeeze()\n",
    "    \n",
    "    # Compute loss ONLY on training data (masked)\n",
    "    loss = criterion(out[data.train_mask], data.y[data.train_mask])\n",
    "    loss.backward()\n",
    "    optimizer.step()\n",
    "    \n",
    "    if epoch % 10 == 0:\n",
    "        print(f\"Epoch {epoch}/{num_epochs} - Loss: {loss.item():.4f}\")\n",
    "\n",
    "#  Step 9: GNN Evaluation\n",
    "gnn_model.eval()\n",
    "with torch.no_grad():\n",
    "    out = gnn_model(data).squeeze()\n",
    "    y_true = data.y[data.test_mask].numpy()\n",
    "    y_pred = out[data.test_mask].numpy()\n",
    "\n",
    "#  Step 10: Metrics on test data\n",
    "gnn_rmse = mean_squared_error(y_true, y_pred, squared=False)\n",
    "gnn_mae = mean_absolute_error(y_true, y_pred)\n",
    "gnn_r2 = r2_score(y_true, y_pred)\n",
    "\n",
    "#  Step 11: Final Result Output\n",
    "print(\"\\n **Updated GNN Performance:**\")\n",
    "print(f\" **RMSE**: {gnn_rmse:.4f}\")\n",
    "print(f\" **MAE**: {gnn_mae:.4f}\")\n",
    "print(f\" **R² Score**: {gnn_r2:.4f}\")\n"
   ]
  }
 ],
 "metadata": {
  "kernelspec": {
   "display_name": "Python 3 (ipykernel)",
   "language": "python",
   "name": "python3"
  },
  "language_info": {
   "codemirror_mode": {
    "name": "ipython",
    "version": 3
   },
   "file_extension": ".py",
   "mimetype": "text/x-python",
   "name": "python",
   "nbconvert_exporter": "python",
   "pygments_lexer": "ipython3",
   "version": "3.8.15"
  }
 },
 "nbformat": 4,
 "nbformat_minor": 5
}
